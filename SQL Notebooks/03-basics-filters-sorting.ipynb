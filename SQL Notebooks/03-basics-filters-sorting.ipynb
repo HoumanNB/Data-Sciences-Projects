{
    "metadata": {
        "kernelspec": {
            "name": "SQL",
            "display_name": "SQL",
            "language": "sql"
        },
        "language_info": {
            "name": "sql",
            "version": ""
        }
    },
    "nbformat_minor": 2,
    "nbformat": 4,
    "cells": [
        {
            "cell_type": "markdown",
            "source": [
                "# Basics: Filtering and sorting"
            ],
            "metadata": {
                "azdata_cell_guid": "9b815ff0-9b05-4404-a091-ca945dd9fd73"
            },
            "attachments": {}
        },
        {
            "cell_type": "code",
            "source": [
                "USE TSQL2012;"
            ],
            "metadata": {
                "azdata_cell_guid": "9f21c923-8efd-4750-a3e7-15725df165b4",
                "language": "sql"
            },
            "outputs": [
                {
                    "output_type": "display_data",
                    "data": {
                        "text/html": "Commands completed successfully."
                    },
                    "metadata": {}
                },
                {
                    "output_type": "display_data",
                    "data": {
                        "text/html": "Total execution time: 00:00:00"
                    },
                    "metadata": {}
                }
            ],
            "execution_count": 1
        },
        {
            "cell_type": "code",
            "source": [
                "-- employees from the United States\n",
                "SELECT empid, firstname, lastname, country, region, city\n",
                "FROM HR.Employees\n",
                "WHERE region = N'WA';"
            ],
            "metadata": {
                "azdata_cell_guid": "f8c74935-469b-4343-801f-5151f0f1b028",
                "language": "sql"
            },
            "outputs": [
                {
                    "output_type": "display_data",
                    "data": {
                        "text/html": "(5 rows affected)"
                    },
                    "metadata": {}
                },
                {
                    "output_type": "display_data",
                    "data": {
                        "text/html": "Total execution time: 00:00:00.004"
                    },
                    "metadata": {}
                },
                {
                    "output_type": "execute_result",
                    "metadata": {},
                    "execution_count": 3,
                    "data": {
                        "application/vnd.dataresource+json": {
                            "schema": {
                                "fields": [
                                    {
                                        "name": "empid"
                                    },
                                    {
                                        "name": "firstname"
                                    },
                                    {
                                        "name": "lastname"
                                    },
                                    {
                                        "name": "country"
                                    },
                                    {
                                        "name": "region"
                                    },
                                    {
                                        "name": "city"
                                    }
                                ]
                            },
                            "data": [
                                {
                                    "empid": "1",
                                    "firstname": "Sara",
                                    "lastname": "Davis",
                                    "country": "USA",
                                    "region": "WA",
                                    "city": "Seattle"
                                },
                                {
                                    "empid": "2",
                                    "firstname": "Don",
                                    "lastname": "Funk",
                                    "country": "USA",
                                    "region": "WA",
                                    "city": "Tacoma"
                                },
                                {
                                    "empid": "3",
                                    "firstname": "Judy",
                                    "lastname": "Lew",
                                    "country": "USA",
                                    "region": "WA",
                                    "city": "Kirkland"
                                },
                                {
                                    "empid": "4",
                                    "firstname": "Yael",
                                    "lastname": "Peled",
                                    "country": "USA",
                                    "region": "WA",
                                    "city": "Redmond"
                                },
                                {
                                    "empid": "8",
                                    "firstname": "Maria",
                                    "lastname": "Cameron",
                                    "country": "USA",
                                    "region": "WA",
                                    "city": "Seattle"
                                }
                            ]
                        },
                        "text/html": [
                            "<table>",
                            "<tr><th>empid</th><th>firstname</th><th>lastname</th><th>country</th><th>region</th><th>city</th></tr>",
                            "<tr><td>1</td><td>Sara</td><td>Davis</td><td>USA</td><td>WA</td><td>Seattle</td></tr>",
                            "<tr><td>2</td><td>Don</td><td>Funk</td><td>USA</td><td>WA</td><td>Tacoma</td></tr>",
                            "<tr><td>3</td><td>Judy</td><td>Lew</td><td>USA</td><td>WA</td><td>Kirkland</td></tr>",
                            "<tr><td>4</td><td>Yael</td><td>Peled</td><td>USA</td><td>WA</td><td>Redmond</td></tr>",
                            "<tr><td>8</td><td>Maria</td><td>Cameron</td><td>USA</td><td>WA</td><td>Seattle</td></tr>",
                            "</table>"
                        ]
                    }
                }
            ],
            "execution_count": 3
        },
        {
            "cell_type": "markdown",
            "source": [
                "### **Exercise 1**\n",
                "\n",
                "Select employees from Washington State (columns `regions`)"
            ],
            "metadata": {
                "language": "sql",
                "azdata_cell_guid": "87d251e7-d632-4514-a0c3-307e8b275f00"
            },
            "attachments": {}
        },
        {
            "cell_type": "code",
            "source": [
                "-- employees that are not from Washington State\n",
                "SELECT empid, firstname, lastname, country, region, city\n",
                "FROM HR.Employees\n",
                "WHERE city <> N'London';"
            ],
            "metadata": {
                "azdata_cell_guid": "233b9b6e-0870-4b84-80e0-fc626ac03f19",
                "language": "sql"
            },
            "outputs": [
                {
                    "output_type": "display_data",
                    "data": {
                        "text/html": "(5 rows affected)"
                    },
                    "metadata": {}
                },
                {
                    "output_type": "display_data",
                    "data": {
                        "text/html": "Total execution time: 00:00:00.003"
                    },
                    "metadata": {}
                },
                {
                    "output_type": "execute_result",
                    "metadata": {},
                    "execution_count": 5,
                    "data": {
                        "application/vnd.dataresource+json": {
                            "schema": {
                                "fields": [
                                    {
                                        "name": "empid"
                                    },
                                    {
                                        "name": "firstname"
                                    },
                                    {
                                        "name": "lastname"
                                    },
                                    {
                                        "name": "country"
                                    },
                                    {
                                        "name": "region"
                                    },
                                    {
                                        "name": "city"
                                    }
                                ]
                            },
                            "data": [
                                {
                                    "empid": "1",
                                    "firstname": "Sara",
                                    "lastname": "Davis",
                                    "country": "USA",
                                    "region": "WA",
                                    "city": "Seattle"
                                },
                                {
                                    "empid": "2",
                                    "firstname": "Don",
                                    "lastname": "Funk",
                                    "country": "USA",
                                    "region": "WA",
                                    "city": "Tacoma"
                                },
                                {
                                    "empid": "3",
                                    "firstname": "Judy",
                                    "lastname": "Lew",
                                    "country": "USA",
                                    "region": "WA",
                                    "city": "Kirkland"
                                },
                                {
                                    "empid": "4",
                                    "firstname": "Yael",
                                    "lastname": "Peled",
                                    "country": "USA",
                                    "region": "WA",
                                    "city": "Redmond"
                                },
                                {
                                    "empid": "8",
                                    "firstname": "Maria",
                                    "lastname": "Cameron",
                                    "country": "USA",
                                    "region": "WA",
                                    "city": "Seattle"
                                }
                            ]
                        },
                        "text/html": [
                            "<table>",
                            "<tr><th>empid</th><th>firstname</th><th>lastname</th><th>country</th><th>region</th><th>city</th></tr>",
                            "<tr><td>1</td><td>Sara</td><td>Davis</td><td>USA</td><td>WA</td><td>Seattle</td></tr>",
                            "<tr><td>2</td><td>Don</td><td>Funk</td><td>USA</td><td>WA</td><td>Tacoma</td></tr>",
                            "<tr><td>3</td><td>Judy</td><td>Lew</td><td>USA</td><td>WA</td><td>Kirkland</td></tr>",
                            "<tr><td>4</td><td>Yael</td><td>Peled</td><td>USA</td><td>WA</td><td>Redmond</td></tr>",
                            "<tr><td>8</td><td>Maria</td><td>Cameron</td><td>USA</td><td>WA</td><td>Seattle</td></tr>",
                            "</table>"
                        ]
                    }
                }
            ],
            "execution_count": 5
        },
        {
            "cell_type": "code",
            "source": [
                "-- employees that are not from Washington State, resolving the NULL problem\n",
                "SELECT empid, firstname, lastname, country, region, city\n",
                "FROM HR.Employees\n",
                "WHERE region <> N'WA'\n",
                "   OR region IS NULL;"
            ],
            "metadata": {
                "azdata_cell_guid": "3efd695e-d82a-4060-bb1d-52aafe99d637",
                "language": "sql",
                "tags": []
            },
            "outputs": [
                {
                    "output_type": "display_data",
                    "data": {
                        "text/html": "(4 rows affected)"
                    },
                    "metadata": {}
                },
                {
                    "output_type": "display_data",
                    "data": {
                        "text/html": "Total execution time: 00:00:00.006"
                    },
                    "metadata": {}
                },
                {
                    "output_type": "execute_result",
                    "metadata": {},
                    "execution_count": 6,
                    "data": {
                        "application/vnd.dataresource+json": {
                            "schema": {
                                "fields": [
                                    {
                                        "name": "empid"
                                    },
                                    {
                                        "name": "firstname"
                                    },
                                    {
                                        "name": "lastname"
                                    },
                                    {
                                        "name": "country"
                                    },
                                    {
                                        "name": "region"
                                    },
                                    {
                                        "name": "city"
                                    }
                                ]
                            },
                            "data": [
                                {
                                    "empid": "5",
                                    "firstname": "Sven",
                                    "lastname": "Buck",
                                    "country": "UK",
                                    "region": "NULL",
                                    "city": "London"
                                },
                                {
                                    "empid": "6",
                                    "firstname": "Paul",
                                    "lastname": "Suurs",
                                    "country": "UK",
                                    "region": "NULL",
                                    "city": "London"
                                },
                                {
                                    "empid": "7",
                                    "firstname": "Russell",
                                    "lastname": "King",
                                    "country": "UK",
                                    "region": "NULL",
                                    "city": "London"
                                },
                                {
                                    "empid": "9",
                                    "firstname": "Zoya",
                                    "lastname": "Dolgopyatova",
                                    "country": "UK",
                                    "region": "NULL",
                                    "city": "London"
                                }
                            ]
                        },
                        "text/html": [
                            "<table>",
                            "<tr><th>empid</th><th>firstname</th><th>lastname</th><th>country</th><th>region</th><th>city</th></tr>",
                            "<tr><td>5</td><td>Sven</td><td>Buck</td><td>UK</td><td>NULL</td><td>London</td></tr>",
                            "<tr><td>6</td><td>Paul</td><td>Suurs</td><td>UK</td><td>NULL</td><td>London</td></tr>",
                            "<tr><td>7</td><td>Russell</td><td>King</td><td>UK</td><td>NULL</td><td>London</td></tr>",
                            "<tr><td>9</td><td>Zoya</td><td>Dolgopyatova</td><td>UK</td><td>NULL</td><td>London</td></tr>",
                            "</table>"
                        ]
                    }
                }
            ],
            "execution_count": 6
        },
        {
            "cell_type": "markdown",
            "source": [
                "# Filtering Character Data"
            ],
            "metadata": {
                "azdata_cell_guid": "6b209730-0744-4edb-b73d-b84415068c5d",
                "language": "sql"
            },
            "attachments": {}
        },
        {
            "cell_type": "code",
            "source": [
                "-- regular character string\n",
                "SELECT empid, firstname, lastname\n",
                "FROM HR.Employees\n",
                "WHERE lastname = 'Davis';\n",
                "\n",
                "-- Unicode character string\n",
                "SELECT empid, firstname, lastname\n",
                "FROM HR.Employees\n",
                "WHERE lastname = N'Davis';\n",
                "\n",
                "-- employees whose last name starts with the letter D.\n",
                "SELECT empid, firstname, lastname\n",
                "FROM HR.Employees\n",
                "WHERE lastname LIKE N'D%';\n"
            ],
            "metadata": {
                "azdata_cell_guid": "06e327e7-b9e8-4db9-a574-dd8bd450ef0b",
                "language": "sql"
            },
            "outputs": [
                {
                    "output_type": "display_data",
                    "data": {
                        "text/html": "(1 row affected)"
                    },
                    "metadata": {}
                },
                {
                    "output_type": "display_data",
                    "data": {
                        "text/html": "(1 row affected)"
                    },
                    "metadata": {}
                },
                {
                    "output_type": "display_data",
                    "data": {
                        "text/html": "(2 rows affected)"
                    },
                    "metadata": {}
                },
                {
                    "output_type": "display_data",
                    "data": {
                        "text/html": "Total execution time: 00:00:00.013"
                    },
                    "metadata": {}
                },
                {
                    "output_type": "execute_result",
                    "metadata": {},
                    "execution_count": 7,
                    "data": {
                        "application/vnd.dataresource+json": {
                            "schema": {
                                "fields": [
                                    {
                                        "name": "empid"
                                    },
                                    {
                                        "name": "firstname"
                                    },
                                    {
                                        "name": "lastname"
                                    }
                                ]
                            },
                            "data": [
                                {
                                    "empid": "1",
                                    "firstname": "Sara",
                                    "lastname": "Davis"
                                }
                            ]
                        },
                        "text/html": [
                            "<table>",
                            "<tr><th>empid</th><th>firstname</th><th>lastname</th></tr>",
                            "<tr><td>1</td><td>Sara</td><td>Davis</td></tr>",
                            "</table>"
                        ]
                    }
                },
                {
                    "output_type": "execute_result",
                    "metadata": {},
                    "execution_count": 7,
                    "data": {
                        "application/vnd.dataresource+json": {
                            "schema": {
                                "fields": [
                                    {
                                        "name": "empid"
                                    },
                                    {
                                        "name": "firstname"
                                    },
                                    {
                                        "name": "lastname"
                                    }
                                ]
                            },
                            "data": [
                                {
                                    "empid": "1",
                                    "firstname": "Sara",
                                    "lastname": "Davis"
                                }
                            ]
                        },
                        "text/html": [
                            "<table>",
                            "<tr><th>empid</th><th>firstname</th><th>lastname</th></tr>",
                            "<tr><td>1</td><td>Sara</td><td>Davis</td></tr>",
                            "</table>"
                        ]
                    }
                },
                {
                    "output_type": "execute_result",
                    "metadata": {},
                    "execution_count": 7,
                    "data": {
                        "application/vnd.dataresource+json": {
                            "schema": {
                                "fields": [
                                    {
                                        "name": "empid"
                                    },
                                    {
                                        "name": "firstname"
                                    },
                                    {
                                        "name": "lastname"
                                    }
                                ]
                            },
                            "data": [
                                {
                                    "empid": "1",
                                    "firstname": "Sara",
                                    "lastname": "Davis"
                                },
                                {
                                    "empid": "9",
                                    "firstname": "Zoya",
                                    "lastname": "Dolgopyatova"
                                }
                            ]
                        },
                        "text/html": [
                            "<table>",
                            "<tr><th>empid</th><th>firstname</th><th>lastname</th></tr>",
                            "<tr><td>1</td><td>Sara</td><td>Davis</td></tr>",
                            "<tr><td>9</td><td>Zoya</td><td>Dolgopyatova</td></tr>",
                            "</table>"
                        ]
                    }
                }
            ],
            "execution_count": 7
        },
        {
            "cell_type": "markdown",
            "source": [
                "## Exercise 2\n",
                "Get all employees in the Sales department (use the `title` column)"
            ],
            "metadata": {
                "language": "sql",
                "azdata_cell_guid": "f7d08473-9364-4b46-ac1e-e89508897108"
            },
            "attachments": {}
        },
        {
            "cell_type": "code",
            "source": [
                "SELECT empid, firstname, lastname \r\n",
                "FROM HR.Employees\r\n",
                "WHERE title LIKE 'Sales%'"
            ],
            "metadata": {
                "language": "sql",
                "azdata_cell_guid": "6aabfb13-c65a-4123-86d9-dfe793e24678"
            },
            "outputs": [
                {
                    "output_type": "display_data",
                    "data": {
                        "text/html": "(7 rows affected)"
                    },
                    "metadata": {}
                },
                {
                    "output_type": "display_data",
                    "data": {
                        "text/html": "Total execution time: 00:00:00.015"
                    },
                    "metadata": {}
                },
                {
                    "output_type": "execute_result",
                    "metadata": {},
                    "execution_count": 8,
                    "data": {
                        "application/vnd.dataresource+json": {
                            "schema": {
                                "fields": [
                                    {
                                        "name": "empid"
                                    },
                                    {
                                        "name": "firstname"
                                    },
                                    {
                                        "name": "lastname"
                                    }
                                ]
                            },
                            "data": [
                                {
                                    "empid": "3",
                                    "firstname": "Judy",
                                    "lastname": "Lew"
                                },
                                {
                                    "empid": "4",
                                    "firstname": "Yael",
                                    "lastname": "Peled"
                                },
                                {
                                    "empid": "5",
                                    "firstname": "Sven",
                                    "lastname": "Buck"
                                },
                                {
                                    "empid": "6",
                                    "firstname": "Paul",
                                    "lastname": "Suurs"
                                },
                                {
                                    "empid": "7",
                                    "firstname": "Russell",
                                    "lastname": "King"
                                },
                                {
                                    "empid": "8",
                                    "firstname": "Maria",
                                    "lastname": "Cameron"
                                },
                                {
                                    "empid": "9",
                                    "firstname": "Zoya",
                                    "lastname": "Dolgopyatova"
                                }
                            ]
                        },
                        "text/html": [
                            "<table>",
                            "<tr><th>empid</th><th>firstname</th><th>lastname</th></tr>",
                            "<tr><td>3</td><td>Judy</td><td>Lew</td></tr>",
                            "<tr><td>4</td><td>Yael</td><td>Peled</td></tr>",
                            "<tr><td>5</td><td>Sven</td><td>Buck</td></tr>",
                            "<tr><td>6</td><td>Paul</td><td>Suurs</td></tr>",
                            "<tr><td>7</td><td>Russell</td><td>King</td></tr>",
                            "<tr><td>8</td><td>Maria</td><td>Cameron</td></tr>",
                            "<tr><td>9</td><td>Zoya</td><td>Dolgopyatova</td></tr>",
                            "</table>"
                        ]
                    }
                }
            ],
            "execution_count": 8
        },
        {
            "cell_type": "markdown",
            "source": [
                "# Filtering Date and Time Data"
            ],
            "metadata": {
                "azdata_cell_guid": "cd0dc8d1-8d14-45bd-b066-2c160ffc39f6",
                "language": "sql"
            },
            "attachments": {}
        },
        {
            "cell_type": "code",
            "source": [
                "-- language-dependent literal\n",
                "SELECT orderid, orderdate, empid, custid\n",
                "FROM Sales.Orders\n",
                "WHERE orderdate = '02/12/07';\n",
                "\n",
                "-- language-neutral literal\n",
                "SELECT orderid, orderdate, empid, custid\n",
                "FROM Sales.Orders\n",
                "WHERE orderdate = '20070212';\n",
                "\n",
                "-- not SARG\n",
                "-- Note the LHS\n",
                "SELECT orderid, orderdate, empid, custid\n",
                "FROM Sales.Orders\n",
                "WHERE YEAR(orderdate) = 2007 AND MONTH(orderdate) = 2;\n",
                "\n",
                "-- SARG\n",
                "SELECT orderid, orderdate, empid, custid\n",
                "FROM Sales.Orders\n",
                "WHERE orderdate >= '20070201' AND orderdate < '20070301';"
            ],
            "metadata": {
                "azdata_cell_guid": "be6e00da-3fbd-45db-9595-c1524c172228",
                "language": "sql"
            },
            "outputs": [
                {
                    "output_type": "display_data",
                    "data": {
                        "text/html": "(2 rows affected)"
                    },
                    "metadata": {}
                },
                {
                    "output_type": "display_data",
                    "data": {
                        "text/html": "(2 rows affected)"
                    },
                    "metadata": {}
                },
                {
                    "output_type": "display_data",
                    "data": {
                        "text/html": "(29 rows affected)"
                    },
                    "metadata": {}
                },
                {
                    "output_type": "display_data",
                    "data": {
                        "text/html": "(29 rows affected)"
                    },
                    "metadata": {}
                },
                {
                    "output_type": "display_data",
                    "data": {
                        "text/html": "Total execution time: 00:00:00.020"
                    },
                    "metadata": {}
                },
                {
                    "output_type": "execute_result",
                    "metadata": {},
                    "execution_count": 9,
                    "data": {
                        "application/vnd.dataresource+json": {
                            "schema": {
                                "fields": [
                                    {
                                        "name": "orderid"
                                    },
                                    {
                                        "name": "orderdate"
                                    },
                                    {
                                        "name": "empid"
                                    },
                                    {
                                        "name": "custid"
                                    }
                                ]
                            },
                            "data": [
                                {
                                    "orderid": "10443",
                                    "orderdate": "2007-02-12 00:00:00.000",
                                    "empid": "8",
                                    "custid": "66"
                                },
                                {
                                    "orderid": "10444",
                                    "orderdate": "2007-02-12 00:00:00.000",
                                    "empid": "3",
                                    "custid": "5"
                                }
                            ]
                        },
                        "text/html": [
                            "<table>",
                            "<tr><th>orderid</th><th>orderdate</th><th>empid</th><th>custid</th></tr>",
                            "<tr><td>10443</td><td>2007-02-12 00:00:00.000</td><td>8</td><td>66</td></tr>",
                            "<tr><td>10444</td><td>2007-02-12 00:00:00.000</td><td>3</td><td>5</td></tr>",
                            "</table>"
                        ]
                    }
                },
                {
                    "output_type": "execute_result",
                    "metadata": {},
                    "execution_count": 9,
                    "data": {
                        "application/vnd.dataresource+json": {
                            "schema": {
                                "fields": [
                                    {
                                        "name": "orderid"
                                    },
                                    {
                                        "name": "orderdate"
                                    },
                                    {
                                        "name": "empid"
                                    },
                                    {
                                        "name": "custid"
                                    }
                                ]
                            },
                            "data": [
                                {
                                    "orderid": "10443",
                                    "orderdate": "2007-02-12 00:00:00.000",
                                    "empid": "8",
                                    "custid": "66"
                                },
                                {
                                    "orderid": "10444",
                                    "orderdate": "2007-02-12 00:00:00.000",
                                    "empid": "3",
                                    "custid": "5"
                                }
                            ]
                        },
                        "text/html": [
                            "<table>",
                            "<tr><th>orderid</th><th>orderdate</th><th>empid</th><th>custid</th></tr>",
                            "<tr><td>10443</td><td>2007-02-12 00:00:00.000</td><td>8</td><td>66</td></tr>",
                            "<tr><td>10444</td><td>2007-02-12 00:00:00.000</td><td>3</td><td>5</td></tr>",
                            "</table>"
                        ]
                    }
                },
                {
                    "output_type": "execute_result",
                    "metadata": {},
                    "execution_count": 9,
                    "data": {
                        "application/vnd.dataresource+json": {
                            "schema": {
                                "fields": [
                                    {
                                        "name": "orderid"
                                    },
                                    {
                                        "name": "orderdate"
                                    },
                                    {
                                        "name": "empid"
                                    },
                                    {
                                        "name": "custid"
                                    }
                                ]
                            },
                            "data": [
                                {
                                    "orderid": "10433",
                                    "orderdate": "2007-02-03 00:00:00.000",
                                    "empid": "3",
                                    "custid": "60"
                                },
                                {
                                    "orderid": "10434",
                                    "orderdate": "2007-02-03 00:00:00.000",
                                    "empid": "3",
                                    "custid": "24"
                                },
                                {
                                    "orderid": "10435",
                                    "orderdate": "2007-02-04 00:00:00.000",
                                    "empid": "8",
                                    "custid": "16"
                                },
                                {
                                    "orderid": "10436",
                                    "orderdate": "2007-02-05 00:00:00.000",
                                    "empid": "3",
                                    "custid": "7"
                                },
                                {
                                    "orderid": "10437",
                                    "orderdate": "2007-02-05 00:00:00.000",
                                    "empid": "8",
                                    "custid": "87"
                                },
                                {
                                    "orderid": "10438",
                                    "orderdate": "2007-02-06 00:00:00.000",
                                    "empid": "3",
                                    "custid": "79"
                                },
                                {
                                    "orderid": "10439",
                                    "orderdate": "2007-02-07 00:00:00.000",
                                    "empid": "6",
                                    "custid": "51"
                                },
                                {
                                    "orderid": "10440",
                                    "orderdate": "2007-02-10 00:00:00.000",
                                    "empid": "4",
                                    "custid": "71"
                                },
                                {
                                    "orderid": "10441",
                                    "orderdate": "2007-02-10 00:00:00.000",
                                    "empid": "3",
                                    "custid": "55"
                                },
                                {
                                    "orderid": "10442",
                                    "orderdate": "2007-02-11 00:00:00.000",
                                    "empid": "3",
                                    "custid": "20"
                                },
                                {
                                    "orderid": "10443",
                                    "orderdate": "2007-02-12 00:00:00.000",
                                    "empid": "8",
                                    "custid": "66"
                                },
                                {
                                    "orderid": "10444",
                                    "orderdate": "2007-02-12 00:00:00.000",
                                    "empid": "3",
                                    "custid": "5"
                                },
                                {
                                    "orderid": "10445",
                                    "orderdate": "2007-02-13 00:00:00.000",
                                    "empid": "3",
                                    "custid": "5"
                                },
                                {
                                    "orderid": "10446",
                                    "orderdate": "2007-02-14 00:00:00.000",
                                    "empid": "6",
                                    "custid": "79"
                                },
                                {
                                    "orderid": "10447",
                                    "orderdate": "2007-02-14 00:00:00.000",
                                    "empid": "4",
                                    "custid": "67"
                                },
                                {
                                    "orderid": "10448",
                                    "orderdate": "2007-02-17 00:00:00.000",
                                    "empid": "4",
                                    "custid": "64"
                                },
                                {
                                    "orderid": "10449",
                                    "orderdate": "2007-02-18 00:00:00.000",
                                    "empid": "3",
                                    "custid": "7"
                                },
                                {
                                    "orderid": "10450",
                                    "orderdate": "2007-02-19 00:00:00.000",
                                    "empid": "8",
                                    "custid": "84"
                                },
                                {
                                    "orderid": "10451",
                                    "orderdate": "2007-02-19 00:00:00.000",
                                    "empid": "4",
                                    "custid": "63"
                                },
                                {
                                    "orderid": "10452",
                                    "orderdate": "2007-02-20 00:00:00.000",
                                    "empid": "8",
                                    "custid": "71"
                                },
                                {
                                    "orderid": "10453",
                                    "orderdate": "2007-02-21 00:00:00.000",
                                    "empid": "1",
                                    "custid": "4"
                                },
                                {
                                    "orderid": "10454",
                                    "orderdate": "2007-02-21 00:00:00.000",
                                    "empid": "4",
                                    "custid": "41"
                                },
                                {
                                    "orderid": "10455",
                                    "orderdate": "2007-02-24 00:00:00.000",
                                    "empid": "8",
                                    "custid": "87"
                                },
                                {
                                    "orderid": "10456",
                                    "orderdate": "2007-02-25 00:00:00.000",
                                    "empid": "8",
                                    "custid": "39"
                                },
                                {
                                    "orderid": "10457",
                                    "orderdate": "2007-02-25 00:00:00.000",
                                    "empid": "2",
                                    "custid": "39"
                                },
                                {
                                    "orderid": "10458",
                                    "orderdate": "2007-02-26 00:00:00.000",
                                    "empid": "7",
                                    "custid": "76"
                                },
                                {
                                    "orderid": "10459",
                                    "orderdate": "2007-02-27 00:00:00.000",
                                    "empid": "4",
                                    "custid": "84"
                                },
                                {
                                    "orderid": "10460",
                                    "orderdate": "2007-02-28 00:00:00.000",
                                    "empid": "8",
                                    "custid": "24"
                                },
                                {
                                    "orderid": "10461",
                                    "orderdate": "2007-02-28 00:00:00.000",
                                    "empid": "1",
                                    "custid": "46"
                                }
                            ]
                        },
                        "text/html": [
                            "<table>",
                            "<tr><th>orderid</th><th>orderdate</th><th>empid</th><th>custid</th></tr>",
                            "<tr><td>10433</td><td>2007-02-03 00:00:00.000</td><td>3</td><td>60</td></tr>",
                            "<tr><td>10434</td><td>2007-02-03 00:00:00.000</td><td>3</td><td>24</td></tr>",
                            "<tr><td>10435</td><td>2007-02-04 00:00:00.000</td><td>8</td><td>16</td></tr>",
                            "<tr><td>10436</td><td>2007-02-05 00:00:00.000</td><td>3</td><td>7</td></tr>",
                            "<tr><td>10437</td><td>2007-02-05 00:00:00.000</td><td>8</td><td>87</td></tr>",
                            "<tr><td>10438</td><td>2007-02-06 00:00:00.000</td><td>3</td><td>79</td></tr>",
                            "<tr><td>10439</td><td>2007-02-07 00:00:00.000</td><td>6</td><td>51</td></tr>",
                            "<tr><td>10440</td><td>2007-02-10 00:00:00.000</td><td>4</td><td>71</td></tr>",
                            "<tr><td>10441</td><td>2007-02-10 00:00:00.000</td><td>3</td><td>55</td></tr>",
                            "<tr><td>10442</td><td>2007-02-11 00:00:00.000</td><td>3</td><td>20</td></tr>",
                            "<tr><td>10443</td><td>2007-02-12 00:00:00.000</td><td>8</td><td>66</td></tr>",
                            "<tr><td>10444</td><td>2007-02-12 00:00:00.000</td><td>3</td><td>5</td></tr>",
                            "<tr><td>10445</td><td>2007-02-13 00:00:00.000</td><td>3</td><td>5</td></tr>",
                            "<tr><td>10446</td><td>2007-02-14 00:00:00.000</td><td>6</td><td>79</td></tr>",
                            "<tr><td>10447</td><td>2007-02-14 00:00:00.000</td><td>4</td><td>67</td></tr>",
                            "<tr><td>10448</td><td>2007-02-17 00:00:00.000</td><td>4</td><td>64</td></tr>",
                            "<tr><td>10449</td><td>2007-02-18 00:00:00.000</td><td>3</td><td>7</td></tr>",
                            "<tr><td>10450</td><td>2007-02-19 00:00:00.000</td><td>8</td><td>84</td></tr>",
                            "<tr><td>10451</td><td>2007-02-19 00:00:00.000</td><td>4</td><td>63</td></tr>",
                            "<tr><td>10452</td><td>2007-02-20 00:00:00.000</td><td>8</td><td>71</td></tr>",
                            "<tr><td>10453</td><td>2007-02-21 00:00:00.000</td><td>1</td><td>4</td></tr>",
                            "<tr><td>10454</td><td>2007-02-21 00:00:00.000</td><td>4</td><td>41</td></tr>",
                            "<tr><td>10455</td><td>2007-02-24 00:00:00.000</td><td>8</td><td>87</td></tr>",
                            "<tr><td>10456</td><td>2007-02-25 00:00:00.000</td><td>8</td><td>39</td></tr>",
                            "<tr><td>10457</td><td>2007-02-25 00:00:00.000</td><td>2</td><td>39</td></tr>",
                            "<tr><td>10458</td><td>2007-02-26 00:00:00.000</td><td>7</td><td>76</td></tr>",
                            "<tr><td>10459</td><td>2007-02-27 00:00:00.000</td><td>4</td><td>84</td></tr>",
                            "<tr><td>10460</td><td>2007-02-28 00:00:00.000</td><td>8</td><td>24</td></tr>",
                            "<tr><td>10461</td><td>2007-02-28 00:00:00.000</td><td>1</td><td>46</td></tr>",
                            "</table>"
                        ]
                    }
                },
                {
                    "output_type": "execute_result",
                    "metadata": {},
                    "execution_count": 9,
                    "data": {
                        "application/vnd.dataresource+json": {
                            "schema": {
                                "fields": [
                                    {
                                        "name": "orderid"
                                    },
                                    {
                                        "name": "orderdate"
                                    },
                                    {
                                        "name": "empid"
                                    },
                                    {
                                        "name": "custid"
                                    }
                                ]
                            },
                            "data": [
                                {
                                    "orderid": "10433",
                                    "orderdate": "2007-02-03 00:00:00.000",
                                    "empid": "3",
                                    "custid": "60"
                                },
                                {
                                    "orderid": "10434",
                                    "orderdate": "2007-02-03 00:00:00.000",
                                    "empid": "3",
                                    "custid": "24"
                                },
                                {
                                    "orderid": "10435",
                                    "orderdate": "2007-02-04 00:00:00.000",
                                    "empid": "8",
                                    "custid": "16"
                                },
                                {
                                    "orderid": "10436",
                                    "orderdate": "2007-02-05 00:00:00.000",
                                    "empid": "3",
                                    "custid": "7"
                                },
                                {
                                    "orderid": "10437",
                                    "orderdate": "2007-02-05 00:00:00.000",
                                    "empid": "8",
                                    "custid": "87"
                                },
                                {
                                    "orderid": "10438",
                                    "orderdate": "2007-02-06 00:00:00.000",
                                    "empid": "3",
                                    "custid": "79"
                                },
                                {
                                    "orderid": "10439",
                                    "orderdate": "2007-02-07 00:00:00.000",
                                    "empid": "6",
                                    "custid": "51"
                                },
                                {
                                    "orderid": "10440",
                                    "orderdate": "2007-02-10 00:00:00.000",
                                    "empid": "4",
                                    "custid": "71"
                                },
                                {
                                    "orderid": "10441",
                                    "orderdate": "2007-02-10 00:00:00.000",
                                    "empid": "3",
                                    "custid": "55"
                                },
                                {
                                    "orderid": "10442",
                                    "orderdate": "2007-02-11 00:00:00.000",
                                    "empid": "3",
                                    "custid": "20"
                                },
                                {
                                    "orderid": "10443",
                                    "orderdate": "2007-02-12 00:00:00.000",
                                    "empid": "8",
                                    "custid": "66"
                                },
                                {
                                    "orderid": "10444",
                                    "orderdate": "2007-02-12 00:00:00.000",
                                    "empid": "3",
                                    "custid": "5"
                                },
                                {
                                    "orderid": "10445",
                                    "orderdate": "2007-02-13 00:00:00.000",
                                    "empid": "3",
                                    "custid": "5"
                                },
                                {
                                    "orderid": "10446",
                                    "orderdate": "2007-02-14 00:00:00.000",
                                    "empid": "6",
                                    "custid": "79"
                                },
                                {
                                    "orderid": "10447",
                                    "orderdate": "2007-02-14 00:00:00.000",
                                    "empid": "4",
                                    "custid": "67"
                                },
                                {
                                    "orderid": "10448",
                                    "orderdate": "2007-02-17 00:00:00.000",
                                    "empid": "4",
                                    "custid": "64"
                                },
                                {
                                    "orderid": "10449",
                                    "orderdate": "2007-02-18 00:00:00.000",
                                    "empid": "3",
                                    "custid": "7"
                                },
                                {
                                    "orderid": "10450",
                                    "orderdate": "2007-02-19 00:00:00.000",
                                    "empid": "8",
                                    "custid": "84"
                                },
                                {
                                    "orderid": "10451",
                                    "orderdate": "2007-02-19 00:00:00.000",
                                    "empid": "4",
                                    "custid": "63"
                                },
                                {
                                    "orderid": "10452",
                                    "orderdate": "2007-02-20 00:00:00.000",
                                    "empid": "8",
                                    "custid": "71"
                                },
                                {
                                    "orderid": "10453",
                                    "orderdate": "2007-02-21 00:00:00.000",
                                    "empid": "1",
                                    "custid": "4"
                                },
                                {
                                    "orderid": "10454",
                                    "orderdate": "2007-02-21 00:00:00.000",
                                    "empid": "4",
                                    "custid": "41"
                                },
                                {
                                    "orderid": "10455",
                                    "orderdate": "2007-02-24 00:00:00.000",
                                    "empid": "8",
                                    "custid": "87"
                                },
                                {
                                    "orderid": "10456",
                                    "orderdate": "2007-02-25 00:00:00.000",
                                    "empid": "8",
                                    "custid": "39"
                                },
                                {
                                    "orderid": "10457",
                                    "orderdate": "2007-02-25 00:00:00.000",
                                    "empid": "2",
                                    "custid": "39"
                                },
                                {
                                    "orderid": "10458",
                                    "orderdate": "2007-02-26 00:00:00.000",
                                    "empid": "7",
                                    "custid": "76"
                                },
                                {
                                    "orderid": "10459",
                                    "orderdate": "2007-02-27 00:00:00.000",
                                    "empid": "4",
                                    "custid": "84"
                                },
                                {
                                    "orderid": "10460",
                                    "orderdate": "2007-02-28 00:00:00.000",
                                    "empid": "8",
                                    "custid": "24"
                                },
                                {
                                    "orderid": "10461",
                                    "orderdate": "2007-02-28 00:00:00.000",
                                    "empid": "1",
                                    "custid": "46"
                                }
                            ]
                        },
                        "text/html": [
                            "<table>",
                            "<tr><th>orderid</th><th>orderdate</th><th>empid</th><th>custid</th></tr>",
                            "<tr><td>10433</td><td>2007-02-03 00:00:00.000</td><td>3</td><td>60</td></tr>",
                            "<tr><td>10434</td><td>2007-02-03 00:00:00.000</td><td>3</td><td>24</td></tr>",
                            "<tr><td>10435</td><td>2007-02-04 00:00:00.000</td><td>8</td><td>16</td></tr>",
                            "<tr><td>10436</td><td>2007-02-05 00:00:00.000</td><td>3</td><td>7</td></tr>",
                            "<tr><td>10437</td><td>2007-02-05 00:00:00.000</td><td>8</td><td>87</td></tr>",
                            "<tr><td>10438</td><td>2007-02-06 00:00:00.000</td><td>3</td><td>79</td></tr>",
                            "<tr><td>10439</td><td>2007-02-07 00:00:00.000</td><td>6</td><td>51</td></tr>",
                            "<tr><td>10440</td><td>2007-02-10 00:00:00.000</td><td>4</td><td>71</td></tr>",
                            "<tr><td>10441</td><td>2007-02-10 00:00:00.000</td><td>3</td><td>55</td></tr>",
                            "<tr><td>10442</td><td>2007-02-11 00:00:00.000</td><td>3</td><td>20</td></tr>",
                            "<tr><td>10443</td><td>2007-02-12 00:00:00.000</td><td>8</td><td>66</td></tr>",
                            "<tr><td>10444</td><td>2007-02-12 00:00:00.000</td><td>3</td><td>5</td></tr>",
                            "<tr><td>10445</td><td>2007-02-13 00:00:00.000</td><td>3</td><td>5</td></tr>",
                            "<tr><td>10446</td><td>2007-02-14 00:00:00.000</td><td>6</td><td>79</td></tr>",
                            "<tr><td>10447</td><td>2007-02-14 00:00:00.000</td><td>4</td><td>67</td></tr>",
                            "<tr><td>10448</td><td>2007-02-17 00:00:00.000</td><td>4</td><td>64</td></tr>",
                            "<tr><td>10449</td><td>2007-02-18 00:00:00.000</td><td>3</td><td>7</td></tr>",
                            "<tr><td>10450</td><td>2007-02-19 00:00:00.000</td><td>8</td><td>84</td></tr>",
                            "<tr><td>10451</td><td>2007-02-19 00:00:00.000</td><td>4</td><td>63</td></tr>",
                            "<tr><td>10452</td><td>2007-02-20 00:00:00.000</td><td>8</td><td>71</td></tr>",
                            "<tr><td>10453</td><td>2007-02-21 00:00:00.000</td><td>1</td><td>4</td></tr>",
                            "<tr><td>10454</td><td>2007-02-21 00:00:00.000</td><td>4</td><td>41</td></tr>",
                            "<tr><td>10455</td><td>2007-02-24 00:00:00.000</td><td>8</td><td>87</td></tr>",
                            "<tr><td>10456</td><td>2007-02-25 00:00:00.000</td><td>8</td><td>39</td></tr>",
                            "<tr><td>10457</td><td>2007-02-25 00:00:00.000</td><td>2</td><td>39</td></tr>",
                            "<tr><td>10458</td><td>2007-02-26 00:00:00.000</td><td>7</td><td>76</td></tr>",
                            "<tr><td>10459</td><td>2007-02-27 00:00:00.000</td><td>4</td><td>84</td></tr>",
                            "<tr><td>10460</td><td>2007-02-28 00:00:00.000</td><td>8</td><td>24</td></tr>",
                            "<tr><td>10461</td><td>2007-02-28 00:00:00.000</td><td>1</td><td>46</td></tr>",
                            "</table>"
                        ]
                    }
                }
            ],
            "execution_count": 9
        },
        {
            "cell_type": "code",
            "source": [
                "-- Side: lets look at the data types for this table\n",
                "select * from INFORMATION_SCHEMA.COLUMNS where TABLE_NAME='Orders'"
            ],
            "metadata": {
                "language": "sql",
                "azdata_cell_guid": "5c9e9b82-d9a7-4bbb-aed4-134938da00ce"
            },
            "outputs": [
                {
                    "output_type": "display_data",
                    "data": {
                        "text/html": "(14 rows affected)"
                    },
                    "metadata": {}
                },
                {
                    "output_type": "display_data",
                    "data": {
                        "text/html": "Total execution time: 00:00:00.039"
                    },
                    "metadata": {}
                },
                {
                    "output_type": "execute_result",
                    "metadata": {},
                    "execution_count": 10,
                    "data": {
                        "application/vnd.dataresource+json": {
                            "schema": {
                                "fields": [
                                    {
                                        "name": "TABLE_CATALOG"
                                    },
                                    {
                                        "name": "TABLE_SCHEMA"
                                    },
                                    {
                                        "name": "TABLE_NAME"
                                    },
                                    {
                                        "name": "COLUMN_NAME"
                                    },
                                    {
                                        "name": "ORDINAL_POSITION"
                                    },
                                    {
                                        "name": "COLUMN_DEFAULT"
                                    },
                                    {
                                        "name": "IS_NULLABLE"
                                    },
                                    {
                                        "name": "DATA_TYPE"
                                    },
                                    {
                                        "name": "CHARACTER_MAXIMUM_LENGTH"
                                    },
                                    {
                                        "name": "CHARACTER_OCTET_LENGTH"
                                    },
                                    {
                                        "name": "NUMERIC_PRECISION"
                                    },
                                    {
                                        "name": "NUMERIC_PRECISION_RADIX"
                                    },
                                    {
                                        "name": "NUMERIC_SCALE"
                                    },
                                    {
                                        "name": "DATETIME_PRECISION"
                                    },
                                    {
                                        "name": "CHARACTER_SET_CATALOG"
                                    },
                                    {
                                        "name": "CHARACTER_SET_SCHEMA"
                                    },
                                    {
                                        "name": "CHARACTER_SET_NAME"
                                    },
                                    {
                                        "name": "COLLATION_CATALOG"
                                    },
                                    {
                                        "name": "COLLATION_SCHEMA"
                                    },
                                    {
                                        "name": "COLLATION_NAME"
                                    },
                                    {
                                        "name": "DOMAIN_CATALOG"
                                    },
                                    {
                                        "name": "DOMAIN_SCHEMA"
                                    },
                                    {
                                        "name": "DOMAIN_NAME"
                                    }
                                ]
                            },
                            "data": [
                                {
                                    "TABLE_CATALOG": "TSQL2012",
                                    "TABLE_SCHEMA": "Sales",
                                    "TABLE_NAME": "Orders",
                                    "COLUMN_NAME": "orderid",
                                    "ORDINAL_POSITION": "1",
                                    "COLUMN_DEFAULT": "NULL",
                                    "IS_NULLABLE": "NO",
                                    "DATA_TYPE": "int",
                                    "CHARACTER_MAXIMUM_LENGTH": "NULL",
                                    "CHARACTER_OCTET_LENGTH": "NULL",
                                    "NUMERIC_PRECISION": "10",
                                    "NUMERIC_PRECISION_RADIX": "10",
                                    "NUMERIC_SCALE": "0",
                                    "DATETIME_PRECISION": "NULL",
                                    "CHARACTER_SET_CATALOG": "NULL",
                                    "CHARACTER_SET_SCHEMA": "NULL",
                                    "CHARACTER_SET_NAME": "NULL",
                                    "COLLATION_CATALOG": "NULL",
                                    "COLLATION_SCHEMA": "NULL",
                                    "COLLATION_NAME": "NULL",
                                    "DOMAIN_CATALOG": "NULL",
                                    "DOMAIN_SCHEMA": "NULL",
                                    "DOMAIN_NAME": "NULL"
                                },
                                {
                                    "TABLE_CATALOG": "TSQL2012",
                                    "TABLE_SCHEMA": "Sales",
                                    "TABLE_NAME": "Orders",
                                    "COLUMN_NAME": "custid",
                                    "ORDINAL_POSITION": "2",
                                    "COLUMN_DEFAULT": "NULL",
                                    "IS_NULLABLE": "YES",
                                    "DATA_TYPE": "int",
                                    "CHARACTER_MAXIMUM_LENGTH": "NULL",
                                    "CHARACTER_OCTET_LENGTH": "NULL",
                                    "NUMERIC_PRECISION": "10",
                                    "NUMERIC_PRECISION_RADIX": "10",
                                    "NUMERIC_SCALE": "0",
                                    "DATETIME_PRECISION": "NULL",
                                    "CHARACTER_SET_CATALOG": "NULL",
                                    "CHARACTER_SET_SCHEMA": "NULL",
                                    "CHARACTER_SET_NAME": "NULL",
                                    "COLLATION_CATALOG": "NULL",
                                    "COLLATION_SCHEMA": "NULL",
                                    "COLLATION_NAME": "NULL",
                                    "DOMAIN_CATALOG": "NULL",
                                    "DOMAIN_SCHEMA": "NULL",
                                    "DOMAIN_NAME": "NULL"
                                },
                                {
                                    "TABLE_CATALOG": "TSQL2012",
                                    "TABLE_SCHEMA": "Sales",
                                    "TABLE_NAME": "Orders",
                                    "COLUMN_NAME": "empid",
                                    "ORDINAL_POSITION": "3",
                                    "COLUMN_DEFAULT": "NULL",
                                    "IS_NULLABLE": "NO",
                                    "DATA_TYPE": "int",
                                    "CHARACTER_MAXIMUM_LENGTH": "NULL",
                                    "CHARACTER_OCTET_LENGTH": "NULL",
                                    "NUMERIC_PRECISION": "10",
                                    "NUMERIC_PRECISION_RADIX": "10",
                                    "NUMERIC_SCALE": "0",
                                    "DATETIME_PRECISION": "NULL",
                                    "CHARACTER_SET_CATALOG": "NULL",
                                    "CHARACTER_SET_SCHEMA": "NULL",
                                    "CHARACTER_SET_NAME": "NULL",
                                    "COLLATION_CATALOG": "NULL",
                                    "COLLATION_SCHEMA": "NULL",
                                    "COLLATION_NAME": "NULL",
                                    "DOMAIN_CATALOG": "NULL",
                                    "DOMAIN_SCHEMA": "NULL",
                                    "DOMAIN_NAME": "NULL"
                                },
                                {
                                    "TABLE_CATALOG": "TSQL2012",
                                    "TABLE_SCHEMA": "Sales",
                                    "TABLE_NAME": "Orders",
                                    "COLUMN_NAME": "orderdate",
                                    "ORDINAL_POSITION": "4",
                                    "COLUMN_DEFAULT": "NULL",
                                    "IS_NULLABLE": "NO",
                                    "DATA_TYPE": "datetime",
                                    "CHARACTER_MAXIMUM_LENGTH": "NULL",
                                    "CHARACTER_OCTET_LENGTH": "NULL",
                                    "NUMERIC_PRECISION": "NULL",
                                    "NUMERIC_PRECISION_RADIX": "NULL",
                                    "NUMERIC_SCALE": "NULL",
                                    "DATETIME_PRECISION": "3",
                                    "CHARACTER_SET_CATALOG": "NULL",
                                    "CHARACTER_SET_SCHEMA": "NULL",
                                    "CHARACTER_SET_NAME": "NULL",
                                    "COLLATION_CATALOG": "NULL",
                                    "COLLATION_SCHEMA": "NULL",
                                    "COLLATION_NAME": "NULL",
                                    "DOMAIN_CATALOG": "NULL",
                                    "DOMAIN_SCHEMA": "NULL",
                                    "DOMAIN_NAME": "NULL"
                                },
                                {
                                    "TABLE_CATALOG": "TSQL2012",
                                    "TABLE_SCHEMA": "Sales",
                                    "TABLE_NAME": "Orders",
                                    "COLUMN_NAME": "requireddate",
                                    "ORDINAL_POSITION": "5",
                                    "COLUMN_DEFAULT": "NULL",
                                    "IS_NULLABLE": "NO",
                                    "DATA_TYPE": "datetime",
                                    "CHARACTER_MAXIMUM_LENGTH": "NULL",
                                    "CHARACTER_OCTET_LENGTH": "NULL",
                                    "NUMERIC_PRECISION": "NULL",
                                    "NUMERIC_PRECISION_RADIX": "NULL",
                                    "NUMERIC_SCALE": "NULL",
                                    "DATETIME_PRECISION": "3",
                                    "CHARACTER_SET_CATALOG": "NULL",
                                    "CHARACTER_SET_SCHEMA": "NULL",
                                    "CHARACTER_SET_NAME": "NULL",
                                    "COLLATION_CATALOG": "NULL",
                                    "COLLATION_SCHEMA": "NULL",
                                    "COLLATION_NAME": "NULL",
                                    "DOMAIN_CATALOG": "NULL",
                                    "DOMAIN_SCHEMA": "NULL",
                                    "DOMAIN_NAME": "NULL"
                                },
                                {
                                    "TABLE_CATALOG": "TSQL2012",
                                    "TABLE_SCHEMA": "Sales",
                                    "TABLE_NAME": "Orders",
                                    "COLUMN_NAME": "shippeddate",
                                    "ORDINAL_POSITION": "6",
                                    "COLUMN_DEFAULT": "NULL",
                                    "IS_NULLABLE": "YES",
                                    "DATA_TYPE": "datetime",
                                    "CHARACTER_MAXIMUM_LENGTH": "NULL",
                                    "CHARACTER_OCTET_LENGTH": "NULL",
                                    "NUMERIC_PRECISION": "NULL",
                                    "NUMERIC_PRECISION_RADIX": "NULL",
                                    "NUMERIC_SCALE": "NULL",
                                    "DATETIME_PRECISION": "3",
                                    "CHARACTER_SET_CATALOG": "NULL",
                                    "CHARACTER_SET_SCHEMA": "NULL",
                                    "CHARACTER_SET_NAME": "NULL",
                                    "COLLATION_CATALOG": "NULL",
                                    "COLLATION_SCHEMA": "NULL",
                                    "COLLATION_NAME": "NULL",
                                    "DOMAIN_CATALOG": "NULL",
                                    "DOMAIN_SCHEMA": "NULL",
                                    "DOMAIN_NAME": "NULL"
                                },
                                {
                                    "TABLE_CATALOG": "TSQL2012",
                                    "TABLE_SCHEMA": "Sales",
                                    "TABLE_NAME": "Orders",
                                    "COLUMN_NAME": "shipperid",
                                    "ORDINAL_POSITION": "7",
                                    "COLUMN_DEFAULT": "NULL",
                                    "IS_NULLABLE": "NO",
                                    "DATA_TYPE": "int",
                                    "CHARACTER_MAXIMUM_LENGTH": "NULL",
                                    "CHARACTER_OCTET_LENGTH": "NULL",
                                    "NUMERIC_PRECISION": "10",
                                    "NUMERIC_PRECISION_RADIX": "10",
                                    "NUMERIC_SCALE": "0",
                                    "DATETIME_PRECISION": "NULL",
                                    "CHARACTER_SET_CATALOG": "NULL",
                                    "CHARACTER_SET_SCHEMA": "NULL",
                                    "CHARACTER_SET_NAME": "NULL",
                                    "COLLATION_CATALOG": "NULL",
                                    "COLLATION_SCHEMA": "NULL",
                                    "COLLATION_NAME": "NULL",
                                    "DOMAIN_CATALOG": "NULL",
                                    "DOMAIN_SCHEMA": "NULL",
                                    "DOMAIN_NAME": "NULL"
                                },
                                {
                                    "TABLE_CATALOG": "TSQL2012",
                                    "TABLE_SCHEMA": "Sales",
                                    "TABLE_NAME": "Orders",
                                    "COLUMN_NAME": "freight",
                                    "ORDINAL_POSITION": "8",
                                    "COLUMN_DEFAULT": "((0))",
                                    "IS_NULLABLE": "NO",
                                    "DATA_TYPE": "money",
                                    "CHARACTER_MAXIMUM_LENGTH": "NULL",
                                    "CHARACTER_OCTET_LENGTH": "NULL",
                                    "NUMERIC_PRECISION": "19",
                                    "NUMERIC_PRECISION_RADIX": "10",
                                    "NUMERIC_SCALE": "4",
                                    "DATETIME_PRECISION": "NULL",
                                    "CHARACTER_SET_CATALOG": "NULL",
                                    "CHARACTER_SET_SCHEMA": "NULL",
                                    "CHARACTER_SET_NAME": "NULL",
                                    "COLLATION_CATALOG": "NULL",
                                    "COLLATION_SCHEMA": "NULL",
                                    "COLLATION_NAME": "NULL",
                                    "DOMAIN_CATALOG": "NULL",
                                    "DOMAIN_SCHEMA": "NULL",
                                    "DOMAIN_NAME": "NULL"
                                },
                                {
                                    "TABLE_CATALOG": "TSQL2012",
                                    "TABLE_SCHEMA": "Sales",
                                    "TABLE_NAME": "Orders",
                                    "COLUMN_NAME": "shipname",
                                    "ORDINAL_POSITION": "9",
                                    "COLUMN_DEFAULT": "NULL",
                                    "IS_NULLABLE": "NO",
                                    "DATA_TYPE": "nvarchar",
                                    "CHARACTER_MAXIMUM_LENGTH": "40",
                                    "CHARACTER_OCTET_LENGTH": "80",
                                    "NUMERIC_PRECISION": "NULL",
                                    "NUMERIC_PRECISION_RADIX": "NULL",
                                    "NUMERIC_SCALE": "NULL",
                                    "DATETIME_PRECISION": "NULL",
                                    "CHARACTER_SET_CATALOG": "NULL",
                                    "CHARACTER_SET_SCHEMA": "NULL",
                                    "CHARACTER_SET_NAME": "UNICODE",
                                    "COLLATION_CATALOG": "NULL",
                                    "COLLATION_SCHEMA": "NULL",
                                    "COLLATION_NAME": "SQL_Latin1_General_CP1_CI_AS",
                                    "DOMAIN_CATALOG": "NULL",
                                    "DOMAIN_SCHEMA": "NULL",
                                    "DOMAIN_NAME": "NULL"
                                },
                                {
                                    "TABLE_CATALOG": "TSQL2012",
                                    "TABLE_SCHEMA": "Sales",
                                    "TABLE_NAME": "Orders",
                                    "COLUMN_NAME": "shipaddress",
                                    "ORDINAL_POSITION": "10",
                                    "COLUMN_DEFAULT": "NULL",
                                    "IS_NULLABLE": "NO",
                                    "DATA_TYPE": "nvarchar",
                                    "CHARACTER_MAXIMUM_LENGTH": "60",
                                    "CHARACTER_OCTET_LENGTH": "120",
                                    "NUMERIC_PRECISION": "NULL",
                                    "NUMERIC_PRECISION_RADIX": "NULL",
                                    "NUMERIC_SCALE": "NULL",
                                    "DATETIME_PRECISION": "NULL",
                                    "CHARACTER_SET_CATALOG": "NULL",
                                    "CHARACTER_SET_SCHEMA": "NULL",
                                    "CHARACTER_SET_NAME": "UNICODE",
                                    "COLLATION_CATALOG": "NULL",
                                    "COLLATION_SCHEMA": "NULL",
                                    "COLLATION_NAME": "SQL_Latin1_General_CP1_CI_AS",
                                    "DOMAIN_CATALOG": "NULL",
                                    "DOMAIN_SCHEMA": "NULL",
                                    "DOMAIN_NAME": "NULL"
                                },
                                {
                                    "TABLE_CATALOG": "TSQL2012",
                                    "TABLE_SCHEMA": "Sales",
                                    "TABLE_NAME": "Orders",
                                    "COLUMN_NAME": "shipcity",
                                    "ORDINAL_POSITION": "11",
                                    "COLUMN_DEFAULT": "NULL",
                                    "IS_NULLABLE": "NO",
                                    "DATA_TYPE": "nvarchar",
                                    "CHARACTER_MAXIMUM_LENGTH": "15",
                                    "CHARACTER_OCTET_LENGTH": "30",
                                    "NUMERIC_PRECISION": "NULL",
                                    "NUMERIC_PRECISION_RADIX": "NULL",
                                    "NUMERIC_SCALE": "NULL",
                                    "DATETIME_PRECISION": "NULL",
                                    "CHARACTER_SET_CATALOG": "NULL",
                                    "CHARACTER_SET_SCHEMA": "NULL",
                                    "CHARACTER_SET_NAME": "UNICODE",
                                    "COLLATION_CATALOG": "NULL",
                                    "COLLATION_SCHEMA": "NULL",
                                    "COLLATION_NAME": "SQL_Latin1_General_CP1_CI_AS",
                                    "DOMAIN_CATALOG": "NULL",
                                    "DOMAIN_SCHEMA": "NULL",
                                    "DOMAIN_NAME": "NULL"
                                },
                                {
                                    "TABLE_CATALOG": "TSQL2012",
                                    "TABLE_SCHEMA": "Sales",
                                    "TABLE_NAME": "Orders",
                                    "COLUMN_NAME": "shipregion",
                                    "ORDINAL_POSITION": "12",
                                    "COLUMN_DEFAULT": "NULL",
                                    "IS_NULLABLE": "YES",
                                    "DATA_TYPE": "nvarchar",
                                    "CHARACTER_MAXIMUM_LENGTH": "15",
                                    "CHARACTER_OCTET_LENGTH": "30",
                                    "NUMERIC_PRECISION": "NULL",
                                    "NUMERIC_PRECISION_RADIX": "NULL",
                                    "NUMERIC_SCALE": "NULL",
                                    "DATETIME_PRECISION": "NULL",
                                    "CHARACTER_SET_CATALOG": "NULL",
                                    "CHARACTER_SET_SCHEMA": "NULL",
                                    "CHARACTER_SET_NAME": "UNICODE",
                                    "COLLATION_CATALOG": "NULL",
                                    "COLLATION_SCHEMA": "NULL",
                                    "COLLATION_NAME": "SQL_Latin1_General_CP1_CI_AS",
                                    "DOMAIN_CATALOG": "NULL",
                                    "DOMAIN_SCHEMA": "NULL",
                                    "DOMAIN_NAME": "NULL"
                                },
                                {
                                    "TABLE_CATALOG": "TSQL2012",
                                    "TABLE_SCHEMA": "Sales",
                                    "TABLE_NAME": "Orders",
                                    "COLUMN_NAME": "shippostalcode",
                                    "ORDINAL_POSITION": "13",
                                    "COLUMN_DEFAULT": "NULL",
                                    "IS_NULLABLE": "YES",
                                    "DATA_TYPE": "nvarchar",
                                    "CHARACTER_MAXIMUM_LENGTH": "10",
                                    "CHARACTER_OCTET_LENGTH": "20",
                                    "NUMERIC_PRECISION": "NULL",
                                    "NUMERIC_PRECISION_RADIX": "NULL",
                                    "NUMERIC_SCALE": "NULL",
                                    "DATETIME_PRECISION": "NULL",
                                    "CHARACTER_SET_CATALOG": "NULL",
                                    "CHARACTER_SET_SCHEMA": "NULL",
                                    "CHARACTER_SET_NAME": "UNICODE",
                                    "COLLATION_CATALOG": "NULL",
                                    "COLLATION_SCHEMA": "NULL",
                                    "COLLATION_NAME": "SQL_Latin1_General_CP1_CI_AS",
                                    "DOMAIN_CATALOG": "NULL",
                                    "DOMAIN_SCHEMA": "NULL",
                                    "DOMAIN_NAME": "NULL"
                                },
                                {
                                    "TABLE_CATALOG": "TSQL2012",
                                    "TABLE_SCHEMA": "Sales",
                                    "TABLE_NAME": "Orders",
                                    "COLUMN_NAME": "shipcountry",
                                    "ORDINAL_POSITION": "14",
                                    "COLUMN_DEFAULT": "NULL",
                                    "IS_NULLABLE": "NO",
                                    "DATA_TYPE": "nvarchar",
                                    "CHARACTER_MAXIMUM_LENGTH": "15",
                                    "CHARACTER_OCTET_LENGTH": "30",
                                    "NUMERIC_PRECISION": "NULL",
                                    "NUMERIC_PRECISION_RADIX": "NULL",
                                    "NUMERIC_SCALE": "NULL",
                                    "DATETIME_PRECISION": "NULL",
                                    "CHARACTER_SET_CATALOG": "NULL",
                                    "CHARACTER_SET_SCHEMA": "NULL",
                                    "CHARACTER_SET_NAME": "UNICODE",
                                    "COLLATION_CATALOG": "NULL",
                                    "COLLATION_SCHEMA": "NULL",
                                    "COLLATION_NAME": "SQL_Latin1_General_CP1_CI_AS",
                                    "DOMAIN_CATALOG": "NULL",
                                    "DOMAIN_SCHEMA": "NULL",
                                    "DOMAIN_NAME": "NULL"
                                }
                            ]
                        },
                        "text/html": [
                            "<table>",
                            "<tr><th>TABLE_CATALOG</th><th>TABLE_SCHEMA</th><th>TABLE_NAME</th><th>COLUMN_NAME</th><th>ORDINAL_POSITION</th><th>COLUMN_DEFAULT</th><th>IS_NULLABLE</th><th>DATA_TYPE</th><th>CHARACTER_MAXIMUM_LENGTH</th><th>CHARACTER_OCTET_LENGTH</th><th>NUMERIC_PRECISION</th><th>NUMERIC_PRECISION_RADIX</th><th>NUMERIC_SCALE</th><th>DATETIME_PRECISION</th><th>CHARACTER_SET_CATALOG</th><th>CHARACTER_SET_SCHEMA</th><th>CHARACTER_SET_NAME</th><th>COLLATION_CATALOG</th><th>COLLATION_SCHEMA</th><th>COLLATION_NAME</th><th>DOMAIN_CATALOG</th><th>DOMAIN_SCHEMA</th><th>DOMAIN_NAME</th></tr>",
                            "<tr><td>TSQL2012</td><td>Sales</td><td>Orders</td><td>orderid</td><td>1</td><td>NULL</td><td>NO</td><td>int</td><td>NULL</td><td>NULL</td><td>10</td><td>10</td><td>0</td><td>NULL</td><td>NULL</td><td>NULL</td><td>NULL</td><td>NULL</td><td>NULL</td><td>NULL</td><td>NULL</td><td>NULL</td><td>NULL</td></tr>",
                            "<tr><td>TSQL2012</td><td>Sales</td><td>Orders</td><td>custid</td><td>2</td><td>NULL</td><td>YES</td><td>int</td><td>NULL</td><td>NULL</td><td>10</td><td>10</td><td>0</td><td>NULL</td><td>NULL</td><td>NULL</td><td>NULL</td><td>NULL</td><td>NULL</td><td>NULL</td><td>NULL</td><td>NULL</td><td>NULL</td></tr>",
                            "<tr><td>TSQL2012</td><td>Sales</td><td>Orders</td><td>empid</td><td>3</td><td>NULL</td><td>NO</td><td>int</td><td>NULL</td><td>NULL</td><td>10</td><td>10</td><td>0</td><td>NULL</td><td>NULL</td><td>NULL</td><td>NULL</td><td>NULL</td><td>NULL</td><td>NULL</td><td>NULL</td><td>NULL</td><td>NULL</td></tr>",
                            "<tr><td>TSQL2012</td><td>Sales</td><td>Orders</td><td>orderdate</td><td>4</td><td>NULL</td><td>NO</td><td>datetime</td><td>NULL</td><td>NULL</td><td>NULL</td><td>NULL</td><td>NULL</td><td>3</td><td>NULL</td><td>NULL</td><td>NULL</td><td>NULL</td><td>NULL</td><td>NULL</td><td>NULL</td><td>NULL</td><td>NULL</td></tr>",
                            "<tr><td>TSQL2012</td><td>Sales</td><td>Orders</td><td>requireddate</td><td>5</td><td>NULL</td><td>NO</td><td>datetime</td><td>NULL</td><td>NULL</td><td>NULL</td><td>NULL</td><td>NULL</td><td>3</td><td>NULL</td><td>NULL</td><td>NULL</td><td>NULL</td><td>NULL</td><td>NULL</td><td>NULL</td><td>NULL</td><td>NULL</td></tr>",
                            "<tr><td>TSQL2012</td><td>Sales</td><td>Orders</td><td>shippeddate</td><td>6</td><td>NULL</td><td>YES</td><td>datetime</td><td>NULL</td><td>NULL</td><td>NULL</td><td>NULL</td><td>NULL</td><td>3</td><td>NULL</td><td>NULL</td><td>NULL</td><td>NULL</td><td>NULL</td><td>NULL</td><td>NULL</td><td>NULL</td><td>NULL</td></tr>",
                            "<tr><td>TSQL2012</td><td>Sales</td><td>Orders</td><td>shipperid</td><td>7</td><td>NULL</td><td>NO</td><td>int</td><td>NULL</td><td>NULL</td><td>10</td><td>10</td><td>0</td><td>NULL</td><td>NULL</td><td>NULL</td><td>NULL</td><td>NULL</td><td>NULL</td><td>NULL</td><td>NULL</td><td>NULL</td><td>NULL</td></tr>",
                            "<tr><td>TSQL2012</td><td>Sales</td><td>Orders</td><td>freight</td><td>8</td><td>((0))</td><td>NO</td><td>money</td><td>NULL</td><td>NULL</td><td>19</td><td>10</td><td>4</td><td>NULL</td><td>NULL</td><td>NULL</td><td>NULL</td><td>NULL</td><td>NULL</td><td>NULL</td><td>NULL</td><td>NULL</td><td>NULL</td></tr>",
                            "<tr><td>TSQL2012</td><td>Sales</td><td>Orders</td><td>shipname</td><td>9</td><td>NULL</td><td>NO</td><td>nvarchar</td><td>40</td><td>80</td><td>NULL</td><td>NULL</td><td>NULL</td><td>NULL</td><td>NULL</td><td>NULL</td><td>UNICODE</td><td>NULL</td><td>NULL</td><td>SQL_Latin1_General_CP1_CI_AS</td><td>NULL</td><td>NULL</td><td>NULL</td></tr>",
                            "<tr><td>TSQL2012</td><td>Sales</td><td>Orders</td><td>shipaddress</td><td>10</td><td>NULL</td><td>NO</td><td>nvarchar</td><td>60</td><td>120</td><td>NULL</td><td>NULL</td><td>NULL</td><td>NULL</td><td>NULL</td><td>NULL</td><td>UNICODE</td><td>NULL</td><td>NULL</td><td>SQL_Latin1_General_CP1_CI_AS</td><td>NULL</td><td>NULL</td><td>NULL</td></tr>",
                            "<tr><td>TSQL2012</td><td>Sales</td><td>Orders</td><td>shipcity</td><td>11</td><td>NULL</td><td>NO</td><td>nvarchar</td><td>15</td><td>30</td><td>NULL</td><td>NULL</td><td>NULL</td><td>NULL</td><td>NULL</td><td>NULL</td><td>UNICODE</td><td>NULL</td><td>NULL</td><td>SQL_Latin1_General_CP1_CI_AS</td><td>NULL</td><td>NULL</td><td>NULL</td></tr>",
                            "<tr><td>TSQL2012</td><td>Sales</td><td>Orders</td><td>shipregion</td><td>12</td><td>NULL</td><td>YES</td><td>nvarchar</td><td>15</td><td>30</td><td>NULL</td><td>NULL</td><td>NULL</td><td>NULL</td><td>NULL</td><td>NULL</td><td>UNICODE</td><td>NULL</td><td>NULL</td><td>SQL_Latin1_General_CP1_CI_AS</td><td>NULL</td><td>NULL</td><td>NULL</td></tr>",
                            "<tr><td>TSQL2012</td><td>Sales</td><td>Orders</td><td>shippostalcode</td><td>13</td><td>NULL</td><td>YES</td><td>nvarchar</td><td>10</td><td>20</td><td>NULL</td><td>NULL</td><td>NULL</td><td>NULL</td><td>NULL</td><td>NULL</td><td>UNICODE</td><td>NULL</td><td>NULL</td><td>SQL_Latin1_General_CP1_CI_AS</td><td>NULL</td><td>NULL</td><td>NULL</td></tr>",
                            "<tr><td>TSQL2012</td><td>Sales</td><td>Orders</td><td>shipcountry</td><td>14</td><td>NULL</td><td>NO</td><td>nvarchar</td><td>15</td><td>30</td><td>NULL</td><td>NULL</td><td>NULL</td><td>NULL</td><td>NULL</td><td>NULL</td><td>UNICODE</td><td>NULL</td><td>NULL</td><td>SQL_Latin1_General_CP1_CI_AS</td><td>NULL</td><td>NULL</td><td>NULL</td></tr>",
                            "</table>"
                        ]
                    }
                }
            ],
            "execution_count": 10
        },
        {
            "cell_type": "markdown",
            "source": [
                "## Exercise 3\n",
                "Get all employees hired in 2002."
            ],
            "metadata": {
                "language": "sql",
                "azdata_cell_guid": "17a7727c-f6ec-4364-a818-29093ed8d0f9"
            },
            "attachments": {}
        },
        {
            "cell_type": "code",
            "source": [
                "SELECT empid, firstname, lastname \r\n",
                "FROM HR.Employees\r\n",
                "WHERE hiredate > '20020101' AND hiredate < '20030101'"
            ],
            "metadata": {
                "language": "sql",
                "azdata_cell_guid": "33a89988-50a9-4360-b21f-f6fb22867043"
            },
            "outputs": [
                {
                    "output_type": "display_data",
                    "data": {
                        "text/html": "(3 rows affected)"
                    },
                    "metadata": {}
                },
                {
                    "output_type": "display_data",
                    "data": {
                        "text/html": "Total execution time: 00:00:00.006"
                    },
                    "metadata": {}
                },
                {
                    "output_type": "execute_result",
                    "metadata": {},
                    "execution_count": 12,
                    "data": {
                        "application/vnd.dataresource+json": {
                            "schema": {
                                "fields": [
                                    {
                                        "name": "empid"
                                    },
                                    {
                                        "name": "firstname"
                                    },
                                    {
                                        "name": "lastname"
                                    }
                                ]
                            },
                            "data": [
                                {
                                    "empid": "1",
                                    "firstname": "Sara",
                                    "lastname": "Davis"
                                },
                                {
                                    "empid": "2",
                                    "firstname": "Don",
                                    "lastname": "Funk"
                                },
                                {
                                    "empid": "3",
                                    "firstname": "Judy",
                                    "lastname": "Lew"
                                }
                            ]
                        },
                        "text/html": [
                            "<table>",
                            "<tr><th>empid</th><th>firstname</th><th>lastname</th></tr>",
                            "<tr><td>1</td><td>Sara</td><td>Davis</td></tr>",
                            "<tr><td>2</td><td>Don</td><td>Funk</td></tr>",
                            "<tr><td>3</td><td>Judy</td><td>Lew</td></tr>",
                            "</table>"
                        ]
                    }
                }
            ],
            "execution_count": 12
        },
        {
            "cell_type": "markdown",
            "source": [
                "# Sorting Data"
            ],
            "metadata": {
                "azdata_cell_guid": "2b63e92d-45f8-4d11-bfa4-eb2fe15feb0f",
                "language": "sql"
            },
            "attachments": {}
        },
        {
            "cell_type": "code",
            "source": [
                "-- query with no ORDER BY doesn't guarantee presentation ordering\n",
                "SELECT empid, firstname, lastname, city, MONTH(birthdate) AS birthmonth\n",
                "FROM HR.Employees\n",
                "WHERE country = N'USA' AND region = N'WA';\n"
            ],
            "metadata": {
                "azdata_cell_guid": "7aedd9a3-385c-4196-812b-dddd12deb4d9",
                "language": "sql"
            },
            "outputs": [
                {
                    "output_type": "display_data",
                    "data": {
                        "text/html": "(5 rows affected)"
                    },
                    "metadata": {}
                },
                {
                    "output_type": "display_data",
                    "data": {
                        "text/html": "Total execution time: 00:00:00.009"
                    },
                    "metadata": {}
                },
                {
                    "output_type": "execute_result",
                    "metadata": {},
                    "execution_count": 13,
                    "data": {
                        "application/vnd.dataresource+json": {
                            "schema": {
                                "fields": [
                                    {
                                        "name": "empid"
                                    },
                                    {
                                        "name": "firstname"
                                    },
                                    {
                                        "name": "lastname"
                                    },
                                    {
                                        "name": "city"
                                    },
                                    {
                                        "name": "birthmonth"
                                    }
                                ]
                            },
                            "data": [
                                {
                                    "empid": "1",
                                    "firstname": "Sara",
                                    "lastname": "Davis",
                                    "city": "Seattle",
                                    "birthmonth": "12"
                                },
                                {
                                    "empid": "2",
                                    "firstname": "Don",
                                    "lastname": "Funk",
                                    "city": "Tacoma",
                                    "birthmonth": "2"
                                },
                                {
                                    "empid": "3",
                                    "firstname": "Judy",
                                    "lastname": "Lew",
                                    "city": "Kirkland",
                                    "birthmonth": "8"
                                },
                                {
                                    "empid": "4",
                                    "firstname": "Yael",
                                    "lastname": "Peled",
                                    "city": "Redmond",
                                    "birthmonth": "9"
                                },
                                {
                                    "empid": "8",
                                    "firstname": "Maria",
                                    "lastname": "Cameron",
                                    "city": "Seattle",
                                    "birthmonth": "1"
                                }
                            ]
                        },
                        "text/html": [
                            "<table>",
                            "<tr><th>empid</th><th>firstname</th><th>lastname</th><th>city</th><th>birthmonth</th></tr>",
                            "<tr><td>1</td><td>Sara</td><td>Davis</td><td>Seattle</td><td>12</td></tr>",
                            "<tr><td>2</td><td>Don</td><td>Funk</td><td>Tacoma</td><td>2</td></tr>",
                            "<tr><td>3</td><td>Judy</td><td>Lew</td><td>Kirkland</td><td>8</td></tr>",
                            "<tr><td>4</td><td>Yael</td><td>Peled</td><td>Redmond</td><td>9</td></tr>",
                            "<tr><td>8</td><td>Maria</td><td>Cameron</td><td>Seattle</td><td>1</td></tr>",
                            "</table>"
                        ]
                    }
                }
            ],
            "execution_count": 13
        },
        {
            "cell_type": "code",
            "source": [
                "\n",
                "-- Simple ORDER BY example\n",
                "SELECT empid, firstname, lastname, city, MONTH(birthdate) AS birthmonth\n",
                "FROM HR.Employees\n",
                "WHERE country = N'USA' AND region = N'WA'\n",
                "ORDER BY city;"
            ],
            "metadata": {
                "azdata_cell_guid": "b64f9731-e456-4b96-a8a9-ca85faf8f1ba",
                "language": "sql"
            },
            "outputs": [
                {
                    "output_type": "display_data",
                    "data": {
                        "text/html": "(5 rows affected)"
                    },
                    "metadata": {}
                },
                {
                    "output_type": "display_data",
                    "data": {
                        "text/html": "Total execution time: 00:00:00.006"
                    },
                    "metadata": {}
                },
                {
                    "output_type": "execute_result",
                    "metadata": {},
                    "execution_count": 14,
                    "data": {
                        "application/vnd.dataresource+json": {
                            "schema": {
                                "fields": [
                                    {
                                        "name": "empid"
                                    },
                                    {
                                        "name": "firstname"
                                    },
                                    {
                                        "name": "lastname"
                                    },
                                    {
                                        "name": "city"
                                    },
                                    {
                                        "name": "birthmonth"
                                    }
                                ]
                            },
                            "data": [
                                {
                                    "empid": "3",
                                    "firstname": "Judy",
                                    "lastname": "Lew",
                                    "city": "Kirkland",
                                    "birthmonth": "8"
                                },
                                {
                                    "empid": "4",
                                    "firstname": "Yael",
                                    "lastname": "Peled",
                                    "city": "Redmond",
                                    "birthmonth": "9"
                                },
                                {
                                    "empid": "8",
                                    "firstname": "Maria",
                                    "lastname": "Cameron",
                                    "city": "Seattle",
                                    "birthmonth": "1"
                                },
                                {
                                    "empid": "1",
                                    "firstname": "Sara",
                                    "lastname": "Davis",
                                    "city": "Seattle",
                                    "birthmonth": "12"
                                },
                                {
                                    "empid": "2",
                                    "firstname": "Don",
                                    "lastname": "Funk",
                                    "city": "Tacoma",
                                    "birthmonth": "2"
                                }
                            ]
                        },
                        "text/html": [
                            "<table>",
                            "<tr><th>empid</th><th>firstname</th><th>lastname</th><th>city</th><th>birthmonth</th></tr>",
                            "<tr><td>3</td><td>Judy</td><td>Lew</td><td>Kirkland</td><td>8</td></tr>",
                            "<tr><td>4</td><td>Yael</td><td>Peled</td><td>Redmond</td><td>9</td></tr>",
                            "<tr><td>8</td><td>Maria</td><td>Cameron</td><td>Seattle</td><td>1</td></tr>",
                            "<tr><td>1</td><td>Sara</td><td>Davis</td><td>Seattle</td><td>12</td></tr>",
                            "<tr><td>2</td><td>Don</td><td>Funk</td><td>Tacoma</td><td>2</td></tr>",
                            "</table>"
                        ]
                    }
                }
            ],
            "execution_count": 14
        },
        {
            "cell_type": "code",
            "source": [
                "\n",
                "-- use descending order\n",
                "SELECT empid, firstname, lastname, city, MONTH(birthdate) AS birthmonth\n",
                "FROM HR.Employees\n",
                "WHERE country = N'USA' AND region = N'WA'\n",
                "ORDER BY city DESC;"
            ],
            "metadata": {
                "azdata_cell_guid": "cf77dbb1-85d2-4f3d-a22d-545901684c50",
                "language": "sql"
            },
            "outputs": [
                {
                    "output_type": "display_data",
                    "data": {
                        "text/html": "(5 rows affected)"
                    },
                    "metadata": {}
                },
                {
                    "output_type": "display_data",
                    "data": {
                        "text/html": "Total execution time: 00:00:00.005"
                    },
                    "metadata": {}
                },
                {
                    "output_type": "execute_result",
                    "metadata": {},
                    "execution_count": 15,
                    "data": {
                        "application/vnd.dataresource+json": {
                            "schema": {
                                "fields": [
                                    {
                                        "name": "empid"
                                    },
                                    {
                                        "name": "firstname"
                                    },
                                    {
                                        "name": "lastname"
                                    },
                                    {
                                        "name": "city"
                                    },
                                    {
                                        "name": "birthmonth"
                                    }
                                ]
                            },
                            "data": [
                                {
                                    "empid": "2",
                                    "firstname": "Don",
                                    "lastname": "Funk",
                                    "city": "Tacoma",
                                    "birthmonth": "2"
                                },
                                {
                                    "empid": "1",
                                    "firstname": "Sara",
                                    "lastname": "Davis",
                                    "city": "Seattle",
                                    "birthmonth": "12"
                                },
                                {
                                    "empid": "8",
                                    "firstname": "Maria",
                                    "lastname": "Cameron",
                                    "city": "Seattle",
                                    "birthmonth": "1"
                                },
                                {
                                    "empid": "4",
                                    "firstname": "Yael",
                                    "lastname": "Peled",
                                    "city": "Redmond",
                                    "birthmonth": "9"
                                },
                                {
                                    "empid": "3",
                                    "firstname": "Judy",
                                    "lastname": "Lew",
                                    "city": "Kirkland",
                                    "birthmonth": "8"
                                }
                            ]
                        },
                        "text/html": [
                            "<table>",
                            "<tr><th>empid</th><th>firstname</th><th>lastname</th><th>city</th><th>birthmonth</th></tr>",
                            "<tr><td>2</td><td>Don</td><td>Funk</td><td>Tacoma</td><td>2</td></tr>",
                            "<tr><td>1</td><td>Sara</td><td>Davis</td><td>Seattle</td><td>12</td></tr>",
                            "<tr><td>8</td><td>Maria</td><td>Cameron</td><td>Seattle</td><td>1</td></tr>",
                            "<tr><td>4</td><td>Yael</td><td>Peled</td><td>Redmond</td><td>9</td></tr>",
                            "<tr><td>3</td><td>Judy</td><td>Lew</td><td>Kirkland</td><td>8</td></tr>",
                            "</table>"
                        ]
                    }
                }
            ],
            "execution_count": 15
        },
        {
            "cell_type": "code",
            "source": [
                "\n",
                "-- order by multiple columns\n",
                "SELECT empid, firstname, lastname, city, MONTH(birthdate) AS birthmonth\n",
                "FROM HR.Employees\n",
                "WHERE country = N'USA' AND region = N'WA'\n",
                "ORDER BY city, empid;"
            ],
            "metadata": {
                "azdata_cell_guid": "cac7b979-1452-4360-9c41-ddcd3b261669",
                "language": "sql"
            },
            "outputs": [
                {
                    "output_type": "display_data",
                    "data": {
                        "text/html": "(5 rows affected)"
                    },
                    "metadata": {}
                },
                {
                    "output_type": "display_data",
                    "data": {
                        "text/html": "Total execution time: 00:00:00.008"
                    },
                    "metadata": {}
                },
                {
                    "output_type": "execute_result",
                    "metadata": {},
                    "execution_count": 16,
                    "data": {
                        "application/vnd.dataresource+json": {
                            "schema": {
                                "fields": [
                                    {
                                        "name": "empid"
                                    },
                                    {
                                        "name": "firstname"
                                    },
                                    {
                                        "name": "lastname"
                                    },
                                    {
                                        "name": "city"
                                    },
                                    {
                                        "name": "birthmonth"
                                    }
                                ]
                            },
                            "data": [
                                {
                                    "empid": "3",
                                    "firstname": "Judy",
                                    "lastname": "Lew",
                                    "city": "Kirkland",
                                    "birthmonth": "8"
                                },
                                {
                                    "empid": "4",
                                    "firstname": "Yael",
                                    "lastname": "Peled",
                                    "city": "Redmond",
                                    "birthmonth": "9"
                                },
                                {
                                    "empid": "1",
                                    "firstname": "Sara",
                                    "lastname": "Davis",
                                    "city": "Seattle",
                                    "birthmonth": "12"
                                },
                                {
                                    "empid": "8",
                                    "firstname": "Maria",
                                    "lastname": "Cameron",
                                    "city": "Seattle",
                                    "birthmonth": "1"
                                },
                                {
                                    "empid": "2",
                                    "firstname": "Don",
                                    "lastname": "Funk",
                                    "city": "Tacoma",
                                    "birthmonth": "2"
                                }
                            ]
                        },
                        "text/html": [
                            "<table>",
                            "<tr><th>empid</th><th>firstname</th><th>lastname</th><th>city</th><th>birthmonth</th></tr>",
                            "<tr><td>3</td><td>Judy</td><td>Lew</td><td>Kirkland</td><td>8</td></tr>",
                            "<tr><td>4</td><td>Yael</td><td>Peled</td><td>Redmond</td><td>9</td></tr>",
                            "<tr><td>1</td><td>Sara</td><td>Davis</td><td>Seattle</td><td>12</td></tr>",
                            "<tr><td>8</td><td>Maria</td><td>Cameron</td><td>Seattle</td><td>1</td></tr>",
                            "<tr><td>2</td><td>Don</td><td>Funk</td><td>Tacoma</td><td>2</td></tr>",
                            "</table>"
                        ]
                    }
                }
            ],
            "execution_count": 16
        },
        {
            "cell_type": "code",
            "source": [
                "\n",
                "-- order by ordinals (bad practice)\n",
                "SELECT empid, firstname, lastname, city, MONTH(birthdate) AS birthmonth\n",
                "FROM HR.Employees\n",
                "WHERE country = N'USA' AND region = N'WA'\n",
                "ORDER BY 4, 1;"
            ],
            "metadata": {
                "azdata_cell_guid": "8624eb1f-eeb2-4b12-9e1c-679eda9d6e9c",
                "language": "sql"
            },
            "outputs": [
                {
                    "output_type": "display_data",
                    "data": {
                        "text/html": "(5 rows affected)"
                    },
                    "metadata": {}
                },
                {
                    "output_type": "display_data",
                    "data": {
                        "text/html": "Total execution time: 00:00:00.003"
                    },
                    "metadata": {}
                },
                {
                    "output_type": "execute_result",
                    "metadata": {},
                    "execution_count": 17,
                    "data": {
                        "application/vnd.dataresource+json": {
                            "schema": {
                                "fields": [
                                    {
                                        "name": "empid"
                                    },
                                    {
                                        "name": "firstname"
                                    },
                                    {
                                        "name": "lastname"
                                    },
                                    {
                                        "name": "city"
                                    },
                                    {
                                        "name": "birthmonth"
                                    }
                                ]
                            },
                            "data": [
                                {
                                    "empid": "3",
                                    "firstname": "Judy",
                                    "lastname": "Lew",
                                    "city": "Kirkland",
                                    "birthmonth": "8"
                                },
                                {
                                    "empid": "4",
                                    "firstname": "Yael",
                                    "lastname": "Peled",
                                    "city": "Redmond",
                                    "birthmonth": "9"
                                },
                                {
                                    "empid": "1",
                                    "firstname": "Sara",
                                    "lastname": "Davis",
                                    "city": "Seattle",
                                    "birthmonth": "12"
                                },
                                {
                                    "empid": "8",
                                    "firstname": "Maria",
                                    "lastname": "Cameron",
                                    "city": "Seattle",
                                    "birthmonth": "1"
                                },
                                {
                                    "empid": "2",
                                    "firstname": "Don",
                                    "lastname": "Funk",
                                    "city": "Tacoma",
                                    "birthmonth": "2"
                                }
                            ]
                        },
                        "text/html": [
                            "<table>",
                            "<tr><th>empid</th><th>firstname</th><th>lastname</th><th>city</th><th>birthmonth</th></tr>",
                            "<tr><td>3</td><td>Judy</td><td>Lew</td><td>Kirkland</td><td>8</td></tr>",
                            "<tr><td>4</td><td>Yael</td><td>Peled</td><td>Redmond</td><td>9</td></tr>",
                            "<tr><td>1</td><td>Sara</td><td>Davis</td><td>Seattle</td><td>12</td></tr>",
                            "<tr><td>8</td><td>Maria</td><td>Cameron</td><td>Seattle</td><td>1</td></tr>",
                            "<tr><td>2</td><td>Don</td><td>Funk</td><td>Tacoma</td><td>2</td></tr>",
                            "</table>"
                        ]
                    }
                }
            ],
            "execution_count": 17
        },
        {
            "cell_type": "code",
            "source": [
                "\n",
                "-- change SELECT list but forget to change ordinals in ORDER BY\n",
                "SELECT empid, city, firstname, lastname, MONTH(birthdate) AS birthmonth\n",
                "FROM HR.Employees\n",
                "WHERE country = N'USA' AND region = N'WA'\n",
                "ORDER BY 4, 1;"
            ],
            "metadata": {
                "azdata_cell_guid": "95245aef-87d4-4dbf-893e-ba1a8ae61ef5",
                "language": "sql"
            },
            "outputs": [],
            "execution_count": null
        },
        {
            "cell_type": "code",
            "source": [
                "\n",
                "-- order by elements not in SELECT\n",
                "SELECT empid, city\n",
                "FROM HR.Employees\n",
                "WHERE country = N'USA' AND region = N'WA'\n",
                "ORDER BY birthdate;"
            ],
            "metadata": {
                "azdata_cell_guid": "ce096f84-6576-4e8b-b613-3272b14b8238",
                "language": "sql"
            },
            "outputs": [
                {
                    "output_type": "display_data",
                    "data": {
                        "text/html": "(5 rows affected)"
                    },
                    "metadata": {}
                },
                {
                    "output_type": "display_data",
                    "data": {
                        "text/html": "Total execution time: 00:00:00.006"
                    },
                    "metadata": {}
                },
                {
                    "output_type": "execute_result",
                    "metadata": {},
                    "execution_count": 18,
                    "data": {
                        "application/vnd.dataresource+json": {
                            "schema": {
                                "fields": [
                                    {
                                        "name": "empid"
                                    },
                                    {
                                        "name": "city"
                                    }
                                ]
                            },
                            "data": [
                                {
                                    "empid": "4",
                                    "city": "Redmond"
                                },
                                {
                                    "empid": "1",
                                    "city": "Seattle"
                                },
                                {
                                    "empid": "2",
                                    "city": "Tacoma"
                                },
                                {
                                    "empid": "8",
                                    "city": "Seattle"
                                },
                                {
                                    "empid": "3",
                                    "city": "Kirkland"
                                }
                            ]
                        },
                        "text/html": [
                            "<table>",
                            "<tr><th>empid</th><th>city</th></tr>",
                            "<tr><td>4</td><td>Redmond</td></tr>",
                            "<tr><td>1</td><td>Seattle</td></tr>",
                            "<tr><td>2</td><td>Tacoma</td></tr>",
                            "<tr><td>8</td><td>Seattle</td></tr>",
                            "<tr><td>3</td><td>Kirkland</td></tr>",
                            "</table>"
                        ]
                    }
                }
            ],
            "execution_count": 18
        },
        {
            "cell_type": "code",
            "source": [
                "-- following fails\n",
                "SELECT DISTINCT city\n",
                "FROM HR.Employees\n",
                "WHERE country = N'USA' AND region = N'WA'\n",
                "ORDER BY birthdate;"
            ],
            "metadata": {
                "azdata_cell_guid": "d099b7b7-ef46-46c3-90fe-97b5f821e58d",
                "language": "sql",
                "tags": []
            },
            "outputs": [
                {
                    "output_type": "error",
                    "evalue": "Msg 145, Level 15, State 1, Line 2\r\nORDER BY items must appear in the select list if SELECT DISTINCT is specified.",
                    "ename": "",
                    "traceback": []
                },
                {
                    "output_type": "display_data",
                    "data": {
                        "text/html": "Total execution time: 00:00:00.002"
                    },
                    "metadata": {}
                }
            ],
            "execution_count": 19
        },
        {
            "cell_type": "code",
            "source": [
                "-- following succeeds\n",
                "SELECT DISTINCT city\n",
                "FROM HR.Employees\n",
                "WHERE country = N'USA' AND region = N'WA'\n",
                "ORDER BY city;"
            ],
            "metadata": {
                "azdata_cell_guid": "44cfee08-81e0-4dc2-9302-a873054abe28",
                "language": "sql"
            },
            "outputs": [
                {
                    "output_type": "display_data",
                    "data": {
                        "text/html": "(4 rows affected)"
                    },
                    "metadata": {}
                },
                {
                    "output_type": "display_data",
                    "data": {
                        "text/html": "Total execution time: 00:00:00.005"
                    },
                    "metadata": {}
                },
                {
                    "output_type": "execute_result",
                    "metadata": {},
                    "execution_count": 20,
                    "data": {
                        "application/vnd.dataresource+json": {
                            "schema": {
                                "fields": [
                                    {
                                        "name": "city"
                                    }
                                ]
                            },
                            "data": [
                                {
                                    "city": "Kirkland"
                                },
                                {
                                    "city": "Redmond"
                                },
                                {
                                    "city": "Seattle"
                                },
                                {
                                    "city": "Tacoma"
                                }
                            ]
                        },
                        "text/html": [
                            "<table>",
                            "<tr><th>city</th></tr>",
                            "<tr><td>Kirkland</td></tr>",
                            "<tr><td>Redmond</td></tr>",
                            "<tr><td>Seattle</td></tr>",
                            "<tr><td>Tacoma</td></tr>",
                            "</table>"
                        ]
                    }
                }
            ],
            "execution_count": 20
        },
        {
            "cell_type": "code",
            "source": [
                "-- can refer to column aliases asigned in SELECT\n",
                "SELECT empid, firstname, lastname, city, MONTH(birthdate) AS birthmonth\n",
                "FROM HR.Employees\n",
                "WHERE country = N'USA' AND region = N'WA'\n",
                "ORDER BY birthmonth;"
            ],
            "metadata": {
                "azdata_cell_guid": "0166b3e6-01f6-4f7f-b433-601e6df84c6d",
                "language": "sql"
            },
            "outputs": [],
            "execution_count": null
        },
        {
            "cell_type": "markdown",
            "source": [
                "## Exercise 4\n",
                "Order emplyeess by the year they are hired, and those hired in the same year should be orderd by their last name."
            ],
            "metadata": {
                "language": "sql",
                "azdata_cell_guid": "4535087e-feeb-4d58-ae5c-8977a3f0419d"
            },
            "attachments": {}
        },
        {
            "cell_type": "code",
            "source": [
                "SELECT firstname, lastname, YEAR(hiredate) AS hireyear\r\n",
                "FROM HR.employees\r\n",
                "ORDER BY hiredate, lastname"
            ],
            "metadata": {
                "language": "sql",
                "azdata_cell_guid": "3134cc60-b4ef-498d-b6c5-d68932f5f496"
            },
            "outputs": [
                {
                    "output_type": "display_data",
                    "data": {
                        "text/html": "(9 rows affected)"
                    },
                    "metadata": {}
                },
                {
                    "output_type": "display_data",
                    "data": {
                        "text/html": "Total execution time: 00:00:00.006"
                    },
                    "metadata": {}
                },
                {
                    "output_type": "execute_result",
                    "metadata": {},
                    "execution_count": 23,
                    "data": {
                        "application/vnd.dataresource+json": {
                            "schema": {
                                "fields": [
                                    {
                                        "name": "firstname"
                                    },
                                    {
                                        "name": "lastname"
                                    },
                                    {
                                        "name": "hireyear"
                                    }
                                ]
                            },
                            "data": [
                                {
                                    "firstname": "Judy",
                                    "lastname": "Lew",
                                    "hireyear": "2002"
                                },
                                {
                                    "firstname": "Sara",
                                    "lastname": "Davis",
                                    "hireyear": "2002"
                                },
                                {
                                    "firstname": "Don",
                                    "lastname": "Funk",
                                    "hireyear": "2002"
                                },
                                {
                                    "firstname": "Yael",
                                    "lastname": "Peled",
                                    "hireyear": "2003"
                                },
                                {
                                    "firstname": "Sven",
                                    "lastname": "Buck",
                                    "hireyear": "2003"
                                },
                                {
                                    "firstname": "Paul",
                                    "lastname": "Suurs",
                                    "hireyear": "2003"
                                },
                                {
                                    "firstname": "Russell",
                                    "lastname": "King",
                                    "hireyear": "2004"
                                },
                                {
                                    "firstname": "Maria",
                                    "lastname": "Cameron",
                                    "hireyear": "2004"
                                },
                                {
                                    "firstname": "Zoya",
                                    "lastname": "Dolgopyatova",
                                    "hireyear": "2004"
                                }
                            ]
                        },
                        "text/html": [
                            "<table>",
                            "<tr><th>firstname</th><th>lastname</th><th>hireyear</th></tr>",
                            "<tr><td>Judy</td><td>Lew</td><td>2002</td></tr>",
                            "<tr><td>Sara</td><td>Davis</td><td>2002</td></tr>",
                            "<tr><td>Don</td><td>Funk</td><td>2002</td></tr>",
                            "<tr><td>Yael</td><td>Peled</td><td>2003</td></tr>",
                            "<tr><td>Sven</td><td>Buck</td><td>2003</td></tr>",
                            "<tr><td>Paul</td><td>Suurs</td><td>2003</td></tr>",
                            "<tr><td>Russell</td><td>King</td><td>2004</td></tr>",
                            "<tr><td>Maria</td><td>Cameron</td><td>2004</td></tr>",
                            "<tr><td>Zoya</td><td>Dolgopyatova</td><td>2004</td></tr>",
                            "</table>"
                        ]
                    }
                }
            ],
            "execution_count": 23
        },
        {
            "cell_type": "code",
            "source": [
                "-- NULLs sort first\n",
                "SELECT orderid, shippeddate\n",
                "FROM Sales.Orders\n",
                "WHERE custid = 20\n",
                "ORDER BY shippeddate;"
            ],
            "metadata": {
                "azdata_cell_guid": "371d1216-3043-400c-bc2e-0a080a965611",
                "language": "sql"
            },
            "outputs": [
                {
                    "output_type": "display_data",
                    "data": {
                        "text/html": "(30 rows affected)"
                    },
                    "metadata": {}
                },
                {
                    "output_type": "display_data",
                    "data": {
                        "text/html": "Total execution time: 00:00:00.010"
                    },
                    "metadata": {}
                },
                {
                    "output_type": "execute_result",
                    "metadata": {},
                    "execution_count": 24,
                    "data": {
                        "application/vnd.dataresource+json": {
                            "schema": {
                                "fields": [
                                    {
                                        "name": "orderid"
                                    },
                                    {
                                        "name": "shippeddate"
                                    }
                                ]
                            },
                            "data": [
                                {
                                    "orderid": "11008",
                                    "shippeddate": "NULL"
                                },
                                {
                                    "orderid": "11072",
                                    "shippeddate": "NULL"
                                },
                                {
                                    "orderid": "10258",
                                    "shippeddate": "2006-07-23 00:00:00.000"
                                },
                                {
                                    "orderid": "10263",
                                    "shippeddate": "2006-07-31 00:00:00.000"
                                },
                                {
                                    "orderid": "10351",
                                    "shippeddate": "2006-11-20 00:00:00.000"
                                },
                                {
                                    "orderid": "10368",
                                    "shippeddate": "2006-12-02 00:00:00.000"
                                },
                                {
                                    "orderid": "10382",
                                    "shippeddate": "2006-12-16 00:00:00.000"
                                },
                                {
                                    "orderid": "10390",
                                    "shippeddate": "2006-12-26 00:00:00.000"
                                },
                                {
                                    "orderid": "10403",
                                    "shippeddate": "2007-01-09 00:00:00.000"
                                },
                                {
                                    "orderid": "10402",
                                    "shippeddate": "2007-01-10 00:00:00.000"
                                },
                                {
                                    "orderid": "10430",
                                    "shippeddate": "2007-02-03 00:00:00.000"
                                },
                                {
                                    "orderid": "10442",
                                    "shippeddate": "2007-02-18 00:00:00.000"
                                },
                                {
                                    "orderid": "10514",
                                    "shippeddate": "2007-05-16 00:00:00.000"
                                },
                                {
                                    "orderid": "10571",
                                    "shippeddate": "2007-07-04 00:00:00.000"
                                },
                                {
                                    "orderid": "10595",
                                    "shippeddate": "2007-07-14 00:00:00.000"
                                },
                                {
                                    "orderid": "10633",
                                    "shippeddate": "2007-08-18 00:00:00.000"
                                },
                                {
                                    "orderid": "10667",
                                    "shippeddate": "2007-09-19 00:00:00.000"
                                },
                                {
                                    "orderid": "10698",
                                    "shippeddate": "2007-10-17 00:00:00.000"
                                },
                                {
                                    "orderid": "10764",
                                    "shippeddate": "2007-12-08 00:00:00.000"
                                },
                                {
                                    "orderid": "10773",
                                    "shippeddate": "2007-12-16 00:00:00.000"
                                },
                                {
                                    "orderid": "10776",
                                    "shippeddate": "2007-12-18 00:00:00.000"
                                },
                                {
                                    "orderid": "10771",
                                    "shippeddate": "2008-01-02 00:00:00.000"
                                },
                                {
                                    "orderid": "10795",
                                    "shippeddate": "2008-01-20 00:00:00.000"
                                },
                                {
                                    "orderid": "10836",
                                    "shippeddate": "2008-01-21 00:00:00.000"
                                },
                                {
                                    "orderid": "10854",
                                    "shippeddate": "2008-02-05 00:00:00.000"
                                },
                                {
                                    "orderid": "10895",
                                    "shippeddate": "2008-02-23 00:00:00.000"
                                },
                                {
                                    "orderid": "10979",
                                    "shippeddate": "2008-03-31 00:00:00.000"
                                },
                                {
                                    "orderid": "10968",
                                    "shippeddate": "2008-04-01 00:00:00.000"
                                },
                                {
                                    "orderid": "10990",
                                    "shippeddate": "2008-04-07 00:00:00.000"
                                },
                                {
                                    "orderid": "11017",
                                    "shippeddate": "2008-04-20 00:00:00.000"
                                }
                            ]
                        },
                        "text/html": [
                            "<table>",
                            "<tr><th>orderid</th><th>shippeddate</th></tr>",
                            "<tr><td>11008</td><td>NULL</td></tr>",
                            "<tr><td>11072</td><td>NULL</td></tr>",
                            "<tr><td>10258</td><td>2006-07-23 00:00:00.000</td></tr>",
                            "<tr><td>10263</td><td>2006-07-31 00:00:00.000</td></tr>",
                            "<tr><td>10351</td><td>2006-11-20 00:00:00.000</td></tr>",
                            "<tr><td>10368</td><td>2006-12-02 00:00:00.000</td></tr>",
                            "<tr><td>10382</td><td>2006-12-16 00:00:00.000</td></tr>",
                            "<tr><td>10390</td><td>2006-12-26 00:00:00.000</td></tr>",
                            "<tr><td>10403</td><td>2007-01-09 00:00:00.000</td></tr>",
                            "<tr><td>10402</td><td>2007-01-10 00:00:00.000</td></tr>",
                            "<tr><td>10430</td><td>2007-02-03 00:00:00.000</td></tr>",
                            "<tr><td>10442</td><td>2007-02-18 00:00:00.000</td></tr>",
                            "<tr><td>10514</td><td>2007-05-16 00:00:00.000</td></tr>",
                            "<tr><td>10571</td><td>2007-07-04 00:00:00.000</td></tr>",
                            "<tr><td>10595</td><td>2007-07-14 00:00:00.000</td></tr>",
                            "<tr><td>10633</td><td>2007-08-18 00:00:00.000</td></tr>",
                            "<tr><td>10667</td><td>2007-09-19 00:00:00.000</td></tr>",
                            "<tr><td>10698</td><td>2007-10-17 00:00:00.000</td></tr>",
                            "<tr><td>10764</td><td>2007-12-08 00:00:00.000</td></tr>",
                            "<tr><td>10773</td><td>2007-12-16 00:00:00.000</td></tr>",
                            "<tr><td>10776</td><td>2007-12-18 00:00:00.000</td></tr>",
                            "<tr><td>10771</td><td>2008-01-02 00:00:00.000</td></tr>",
                            "<tr><td>10795</td><td>2008-01-20 00:00:00.000</td></tr>",
                            "<tr><td>10836</td><td>2008-01-21 00:00:00.000</td></tr>",
                            "<tr><td>10854</td><td>2008-02-05 00:00:00.000</td></tr>",
                            "<tr><td>10895</td><td>2008-02-23 00:00:00.000</td></tr>",
                            "<tr><td>10979</td><td>2008-03-31 00:00:00.000</td></tr>",
                            "<tr><td>10968</td><td>2008-04-01 00:00:00.000</td></tr>",
                            "<tr><td>10990</td><td>2008-04-07 00:00:00.000</td></tr>",
                            "<tr><td>11017</td><td>2008-04-20 00:00:00.000</td></tr>",
                            "</table>"
                        ]
                    }
                }
            ],
            "execution_count": 24
        },
        {
            "cell_type": "markdown",
            "source": [
                "# Filtering Data with TOP"
            ],
            "metadata": {
                "azdata_cell_guid": "af14b497-fe2e-4873-a24b-eab292e7083f"
            },
            "attachments": {}
        },
        {
            "cell_type": "code",
            "source": [
                "-- return the three most recent orders\n",
                "SELECT TOP (3) orderid, orderdate, custid, empid\n",
                "FROM Sales.Orders\n",
                "ORDER BY orderdate DESC;"
            ],
            "metadata": {
                "azdata_cell_guid": "b6db8b9e-7e35-4657-86de-d158b82459f2",
                "language": "sql"
            },
            "outputs": [
                {
                    "output_type": "display_data",
                    "data": {
                        "text/html": "(3 rows affected)"
                    },
                    "metadata": {}
                },
                {
                    "output_type": "display_data",
                    "data": {
                        "text/html": "Total execution time: 00:00:00.007"
                    },
                    "metadata": {}
                },
                {
                    "output_type": "execute_result",
                    "metadata": {},
                    "execution_count": 25,
                    "data": {
                        "application/vnd.dataresource+json": {
                            "schema": {
                                "fields": [
                                    {
                                        "name": "orderid"
                                    },
                                    {
                                        "name": "orderdate"
                                    },
                                    {
                                        "name": "custid"
                                    },
                                    {
                                        "name": "empid"
                                    }
                                ]
                            },
                            "data": [
                                {
                                    "orderid": "11077",
                                    "orderdate": "2008-05-06 00:00:00.000",
                                    "custid": "65",
                                    "empid": "1"
                                },
                                {
                                    "orderid": "11076",
                                    "orderdate": "2008-05-06 00:00:00.000",
                                    "custid": "9",
                                    "empid": "4"
                                },
                                {
                                    "orderid": "11075",
                                    "orderdate": "2008-05-06 00:00:00.000",
                                    "custid": "68",
                                    "empid": "8"
                                }
                            ]
                        },
                        "text/html": [
                            "<table>",
                            "<tr><th>orderid</th><th>orderdate</th><th>custid</th><th>empid</th></tr>",
                            "<tr><td>11077</td><td>2008-05-06 00:00:00.000</td><td>65</td><td>1</td></tr>",
                            "<tr><td>11076</td><td>2008-05-06 00:00:00.000</td><td>9</td><td>4</td></tr>",
                            "<tr><td>11075</td><td>2008-05-06 00:00:00.000</td><td>68</td><td>8</td></tr>",
                            "</table>"
                        ]
                    }
                }
            ],
            "execution_count": 25
        },
        {
            "cell_type": "code",
            "source": [
                "\n",
                "-- can use percent\n",
                "SELECT TOP (1) PERCENT orderid, orderdate, custid, empid\n",
                "FROM Sales.Orders\n",
                "ORDER BY orderdate DESC;"
            ],
            "metadata": {
                "azdata_cell_guid": "955c92d3-a2b3-461a-ad97-16183c538988",
                "language": "sql"
            },
            "outputs": [
                {
                    "output_type": "display_data",
                    "data": {
                        "text/html": "(9 rows affected)"
                    },
                    "metadata": {}
                },
                {
                    "output_type": "display_data",
                    "data": {
                        "text/html": "Total execution time: 00:00:00.006"
                    },
                    "metadata": {}
                },
                {
                    "output_type": "execute_result",
                    "metadata": {},
                    "execution_count": 26,
                    "data": {
                        "application/vnd.dataresource+json": {
                            "schema": {
                                "fields": [
                                    {
                                        "name": "orderid"
                                    },
                                    {
                                        "name": "orderdate"
                                    },
                                    {
                                        "name": "custid"
                                    },
                                    {
                                        "name": "empid"
                                    }
                                ]
                            },
                            "data": [
                                {
                                    "orderid": "11074",
                                    "orderdate": "2008-05-06 00:00:00.000",
                                    "custid": "73",
                                    "empid": "7"
                                },
                                {
                                    "orderid": "11075",
                                    "orderdate": "2008-05-06 00:00:00.000",
                                    "custid": "68",
                                    "empid": "8"
                                },
                                {
                                    "orderid": "11076",
                                    "orderdate": "2008-05-06 00:00:00.000",
                                    "custid": "9",
                                    "empid": "4"
                                },
                                {
                                    "orderid": "11077",
                                    "orderdate": "2008-05-06 00:00:00.000",
                                    "custid": "65",
                                    "empid": "1"
                                },
                                {
                                    "orderid": "11070",
                                    "orderdate": "2008-05-05 00:00:00.000",
                                    "custid": "44",
                                    "empid": "2"
                                },
                                {
                                    "orderid": "11071",
                                    "orderdate": "2008-05-05 00:00:00.000",
                                    "custid": "46",
                                    "empid": "1"
                                },
                                {
                                    "orderid": "11072",
                                    "orderdate": "2008-05-05 00:00:00.000",
                                    "custid": "20",
                                    "empid": "4"
                                },
                                {
                                    "orderid": "11073",
                                    "orderdate": "2008-05-05 00:00:00.000",
                                    "custid": "58",
                                    "empid": "2"
                                },
                                {
                                    "orderid": "11067",
                                    "orderdate": "2008-05-04 00:00:00.000",
                                    "custid": "17",
                                    "empid": "1"
                                }
                            ]
                        },
                        "text/html": [
                            "<table>",
                            "<tr><th>orderid</th><th>orderdate</th><th>custid</th><th>empid</th></tr>",
                            "<tr><td>11074</td><td>2008-05-06 00:00:00.000</td><td>73</td><td>7</td></tr>",
                            "<tr><td>11075</td><td>2008-05-06 00:00:00.000</td><td>68</td><td>8</td></tr>",
                            "<tr><td>11076</td><td>2008-05-06 00:00:00.000</td><td>9</td><td>4</td></tr>",
                            "<tr><td>11077</td><td>2008-05-06 00:00:00.000</td><td>65</td><td>1</td></tr>",
                            "<tr><td>11070</td><td>2008-05-05 00:00:00.000</td><td>44</td><td>2</td></tr>",
                            "<tr><td>11071</td><td>2008-05-05 00:00:00.000</td><td>46</td><td>1</td></tr>",
                            "<tr><td>11072</td><td>2008-05-05 00:00:00.000</td><td>20</td><td>4</td></tr>",
                            "<tr><td>11073</td><td>2008-05-05 00:00:00.000</td><td>58</td><td>2</td></tr>",
                            "<tr><td>11067</td><td>2008-05-04 00:00:00.000</td><td>17</td><td>1</td></tr>",
                            "</table>"
                        ]
                    }
                }
            ],
            "execution_count": 26
        },
        {
            "cell_type": "code",
            "source": [
                "\n",
                "-- can use expression, like parameter or variable, as input\n",
                "DECLARE @n AS BIGINT = 5;\n",
                "\n",
                "SELECT TOP (@n) orderid, orderdate, custid, empid\n",
                "FROM Sales.Orders\n",
                "ORDER BY orderdate DESC;"
            ],
            "metadata": {
                "azdata_cell_guid": "96b40838-aad6-4105-ac6d-cdf95684902e",
                "language": "sql"
            },
            "outputs": [],
            "execution_count": null
        },
        {
            "cell_type": "code",
            "source": [
                "-- no ORDER BY, ordering is arbitrary\n",
                "SELECT TOP (3) orderid, orderdate, custid, empid\n",
                "FROM Sales.Orders;"
            ],
            "metadata": {
                "azdata_cell_guid": "951469e3-bf72-4c58-8c8b-022bf1afbd65",
                "language": "sql"
            },
            "outputs": [
                {
                    "output_type": "display_data",
                    "data": {
                        "text/html": "(3 rows affected)"
                    },
                    "metadata": {}
                },
                {
                    "output_type": "display_data",
                    "data": {
                        "text/html": "Total execution time: 00:00:00.005"
                    },
                    "metadata": {}
                },
                {
                    "output_type": "execute_result",
                    "metadata": {},
                    "execution_count": 27,
                    "data": {
                        "application/vnd.dataresource+json": {
                            "schema": {
                                "fields": [
                                    {
                                        "name": "orderid"
                                    },
                                    {
                                        "name": "orderdate"
                                    },
                                    {
                                        "name": "custid"
                                    },
                                    {
                                        "name": "empid"
                                    }
                                ]
                            },
                            "data": [
                                {
                                    "orderid": "10248",
                                    "orderdate": "2006-07-04 00:00:00.000",
                                    "custid": "85",
                                    "empid": "5"
                                },
                                {
                                    "orderid": "10249",
                                    "orderdate": "2006-07-05 00:00:00.000",
                                    "custid": "79",
                                    "empid": "6"
                                },
                                {
                                    "orderid": "10250",
                                    "orderdate": "2006-07-08 00:00:00.000",
                                    "custid": "34",
                                    "empid": "4"
                                }
                            ]
                        },
                        "text/html": [
                            "<table>",
                            "<tr><th>orderid</th><th>orderdate</th><th>custid</th><th>empid</th></tr>",
                            "<tr><td>10248</td><td>2006-07-04 00:00:00.000</td><td>85</td><td>5</td></tr>",
                            "<tr><td>10249</td><td>2006-07-05 00:00:00.000</td><td>79</td><td>6</td></tr>",
                            "<tr><td>10250</td><td>2006-07-08 00:00:00.000</td><td>34</td><td>4</td></tr>",
                            "</table>"
                        ]
                    }
                }
            ],
            "execution_count": 27
        },
        {
            "cell_type": "code",
            "source": [
                "\n",
                "-- non-deterministic ordering even with ORDER BY since ordering isn't unique\n",
                "SELECT TOP (3) orderid, orderdate, custid, empid\n",
                "FROM Sales.Orders\n",
                "ORDER BY orderdate DESC;"
            ],
            "metadata": {
                "azdata_cell_guid": "975ffd68-ecac-4def-81ef-403fa21b8efc",
                "language": "sql"
            },
            "outputs": [
                {
                    "output_type": "display_data",
                    "data": {
                        "text/html": "(3 rows affected)"
                    },
                    "metadata": {}
                },
                {
                    "output_type": "display_data",
                    "data": {
                        "text/html": "Total execution time: 00:00:00.003"
                    },
                    "metadata": {}
                },
                {
                    "output_type": "execute_result",
                    "metadata": {},
                    "execution_count": 28,
                    "data": {
                        "application/vnd.dataresource+json": {
                            "schema": {
                                "fields": [
                                    {
                                        "name": "orderid"
                                    },
                                    {
                                        "name": "orderdate"
                                    },
                                    {
                                        "name": "custid"
                                    },
                                    {
                                        "name": "empid"
                                    }
                                ]
                            },
                            "data": [
                                {
                                    "orderid": "11077",
                                    "orderdate": "2008-05-06 00:00:00.000",
                                    "custid": "65",
                                    "empid": "1"
                                },
                                {
                                    "orderid": "11076",
                                    "orderdate": "2008-05-06 00:00:00.000",
                                    "custid": "9",
                                    "empid": "4"
                                },
                                {
                                    "orderid": "11075",
                                    "orderdate": "2008-05-06 00:00:00.000",
                                    "custid": "68",
                                    "empid": "8"
                                }
                            ]
                        },
                        "text/html": [
                            "<table>",
                            "<tr><th>orderid</th><th>orderdate</th><th>custid</th><th>empid</th></tr>",
                            "<tr><td>11077</td><td>2008-05-06 00:00:00.000</td><td>65</td><td>1</td></tr>",
                            "<tr><td>11076</td><td>2008-05-06 00:00:00.000</td><td>9</td><td>4</td></tr>",
                            "<tr><td>11075</td><td>2008-05-06 00:00:00.000</td><td>68</td><td>8</td></tr>",
                            "</table>"
                        ]
                    }
                }
            ],
            "execution_count": 28
        },
        {
            "cell_type": "code",
            "source": [
                "\n",
                "-- return all ties\n",
                "SELECT TOP (3) WITH TIES orderid, orderdate, custid, empid\n",
                "FROM Sales.Orders\n",
                "ORDER BY orderdate DESC;"
            ],
            "metadata": {
                "azdata_cell_guid": "5a70406b-1d9e-414c-8505-ee1685591c5b",
                "language": "sql"
            },
            "outputs": [
                {
                    "output_type": "display_data",
                    "data": {
                        "text/html": "(4 rows affected)"
                    },
                    "metadata": {}
                },
                {
                    "output_type": "display_data",
                    "data": {
                        "text/html": "Total execution time: 00:00:00.011"
                    },
                    "metadata": {}
                },
                {
                    "output_type": "execute_result",
                    "metadata": {},
                    "execution_count": 29,
                    "data": {
                        "application/vnd.dataresource+json": {
                            "schema": {
                                "fields": [
                                    {
                                        "name": "orderid"
                                    },
                                    {
                                        "name": "orderdate"
                                    },
                                    {
                                        "name": "custid"
                                    },
                                    {
                                        "name": "empid"
                                    }
                                ]
                            },
                            "data": [
                                {
                                    "orderid": "11077",
                                    "orderdate": "2008-05-06 00:00:00.000",
                                    "custid": "65",
                                    "empid": "1"
                                },
                                {
                                    "orderid": "11076",
                                    "orderdate": "2008-05-06 00:00:00.000",
                                    "custid": "9",
                                    "empid": "4"
                                },
                                {
                                    "orderid": "11075",
                                    "orderdate": "2008-05-06 00:00:00.000",
                                    "custid": "68",
                                    "empid": "8"
                                },
                                {
                                    "orderid": "11074",
                                    "orderdate": "2008-05-06 00:00:00.000",
                                    "custid": "73",
                                    "empid": "7"
                                }
                            ]
                        },
                        "text/html": [
                            "<table>",
                            "<tr><th>orderid</th><th>orderdate</th><th>custid</th><th>empid</th></tr>",
                            "<tr><td>11077</td><td>2008-05-06 00:00:00.000</td><td>65</td><td>1</td></tr>",
                            "<tr><td>11076</td><td>2008-05-06 00:00:00.000</td><td>9</td><td>4</td></tr>",
                            "<tr><td>11075</td><td>2008-05-06 00:00:00.000</td><td>68</td><td>8</td></tr>",
                            "<tr><td>11074</td><td>2008-05-06 00:00:00.000</td><td>73</td><td>7</td></tr>",
                            "</table>"
                        ]
                    }
                }
            ],
            "execution_count": 29
        },
        {
            "cell_type": "code",
            "source": [
                "\n",
                "-- break ties\n",
                "SELECT TOP (3) orderid, orderdate, custid, empid\n",
                "FROM Sales.Orders\n",
                "ORDER BY orderdate DESC, orderid DESC;"
            ],
            "metadata": {
                "azdata_cell_guid": "b5204497-43ed-4e62-9341-94aeb6d2f6b0",
                "language": "sql"
            },
            "outputs": [
                {
                    "output_type": "display_data",
                    "data": {
                        "text/html": "(3 rows affected)"
                    },
                    "metadata": {}
                },
                {
                    "output_type": "display_data",
                    "data": {
                        "text/html": "Total execution time: 00:00:00.003"
                    },
                    "metadata": {}
                },
                {
                    "output_type": "execute_result",
                    "metadata": {},
                    "execution_count": 30,
                    "data": {
                        "application/vnd.dataresource+json": {
                            "schema": {
                                "fields": [
                                    {
                                        "name": "orderid"
                                    },
                                    {
                                        "name": "orderdate"
                                    },
                                    {
                                        "name": "custid"
                                    },
                                    {
                                        "name": "empid"
                                    }
                                ]
                            },
                            "data": [
                                {
                                    "orderid": "11077",
                                    "orderdate": "2008-05-06 00:00:00.000",
                                    "custid": "65",
                                    "empid": "1"
                                },
                                {
                                    "orderid": "11076",
                                    "orderdate": "2008-05-06 00:00:00.000",
                                    "custid": "9",
                                    "empid": "4"
                                },
                                {
                                    "orderid": "11075",
                                    "orderdate": "2008-05-06 00:00:00.000",
                                    "custid": "68",
                                    "empid": "8"
                                }
                            ]
                        },
                        "text/html": [
                            "<table>",
                            "<tr><th>orderid</th><th>orderdate</th><th>custid</th><th>empid</th></tr>",
                            "<tr><td>11077</td><td>2008-05-06 00:00:00.000</td><td>65</td><td>1</td></tr>",
                            "<tr><td>11076</td><td>2008-05-06 00:00:00.000</td><td>9</td><td>4</td></tr>",
                            "<tr><td>11075</td><td>2008-05-06 00:00:00.000</td><td>68</td><td>8</td></tr>",
                            "</table>"
                        ]
                    }
                }
            ],
            "execution_count": 30
        },
        {
            "cell_type": "markdown",
            "source": [
                "## Exercise 5\n",
                "- Get the last 2 hired employees. \n",
                "- Get the last 2 hired employees considering only the year of hiring, with ties."
            ],
            "metadata": {
                "language": "sql",
                "azdata_cell_guid": "a98d6f2b-08ec-4ee8-8898-712c05e3964d"
            },
            "attachments": {}
        },
        {
            "cell_type": "code",
            "source": [
                "SELECT TOP(2) WITH TIES firstname, lastname \r\n",
                "FROM HR.employees\r\n",
                "ORDER BY hiredate, YEAR(hiredate)"
            ],
            "metadata": {
                "language": "sql",
                "azdata_cell_guid": "5aa5f2f0-4c8f-4f35-962f-15beecd82bba"
            },
            "outputs": [
                {
                    "output_type": "display_data",
                    "data": {
                        "text/html": "(2 rows affected)"
                    },
                    "metadata": {}
                },
                {
                    "output_type": "display_data",
                    "data": {
                        "text/html": "Total execution time: 00:00:00.002"
                    },
                    "metadata": {}
                },
                {
                    "output_type": "execute_result",
                    "metadata": {},
                    "execution_count": 35,
                    "data": {
                        "application/vnd.dataresource+json": {
                            "schema": {
                                "fields": [
                                    {
                                        "name": "firstname"
                                    },
                                    {
                                        "name": "lastname"
                                    }
                                ]
                            },
                            "data": [
                                {
                                    "firstname": "Judy",
                                    "lastname": "Lew"
                                },
                                {
                                    "firstname": "Sara",
                                    "lastname": "Davis"
                                }
                            ]
                        },
                        "text/html": [
                            "<table>",
                            "<tr><th>firstname</th><th>lastname</th></tr>",
                            "<tr><td>Judy</td><td>Lew</td></tr>",
                            "<tr><td>Sara</td><td>Davis</td></tr>",
                            "</table>"
                        ]
                    }
                }
            ],
            "execution_count": 35
        }
    ]
}