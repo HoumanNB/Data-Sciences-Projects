{
    "metadata": {
        "kernelspec": {
            "name": "SQL",
            "display_name": "SQL",
            "language": "sql"
        },
        "language_info": {
            "name": "sql",
            "version": ""
        }
    },
    "nbformat_minor": 2,
    "nbformat": 4,
    "cells": [
        {
            "cell_type": "code",
            "source": [
                "USE TSQL2012;"
            ],
            "metadata": {
                "azdata_cell_guid": "f5d7f87b-20ad-4155-ac02-63b86ecf1f7a",
                "language": "sql"
            },
            "outputs": [
                {
                    "output_type": "display_data",
                    "data": {
                        "text/html": "Commands completed successfully."
                    },
                    "metadata": {}
                },
                {
                    "output_type": "display_data",
                    "data": {
                        "text/html": "Total execution time: 00:00:00"
                    },
                    "metadata": {}
                }
            ],
            "execution_count": 2
        },
        {
            "cell_type": "markdown",
            "source": [
                "# Simple Grouping"
            ],
            "metadata": {
                "azdata_cell_guid": "5f23e712-b5c1-4907-ba57-1fd1b559ae5b"
            },
            "attachments": {}
        },
        {
            "cell_type": "code",
            "source": [
                "-- grouped query without GROUP BY clause\n",
                "SELECT COUNT(*) AS numorders\n",
                "FROM Sales.Orders;"
            ],
            "metadata": {
                "azdata_cell_guid": "8ba50e31-ad3e-4695-8a5f-34413b823878",
                "language": "sql"
            },
            "outputs": [
                {
                    "output_type": "display_data",
                    "data": {
                        "text/html": "(1 row affected)"
                    },
                    "metadata": {}
                },
                {
                    "output_type": "display_data",
                    "data": {
                        "text/html": "Total execution time: 00:00:00.005"
                    },
                    "metadata": {}
                },
                {
                    "output_type": "execute_result",
                    "metadata": {},
                    "execution_count": 3,
                    "data": {
                        "application/vnd.dataresource+json": {
                            "schema": {
                                "fields": [
                                    {
                                        "name": "numorders"
                                    }
                                ]
                            },
                            "data": [
                                {
                                    "numorders": "830"
                                }
                            ]
                        },
                        "text/html": [
                            "<table>",
                            "<tr><th>numorders</th></tr>",
                            "<tr><td>830</td></tr>",
                            "</table>"
                        ]
                    }
                }
            ],
            "execution_count": 3
        },
        {
            "cell_type": "code",
            "source": [
                "-- grouped query with GROUP BY clause\n",
                "SELECT shipperid, COUNT(*) AS numorders\n",
                "FROM Sales.Orders\n",
                "GROUP BY shipperid;"
            ],
            "metadata": {
                "azdata_cell_guid": "30de43d8-d35f-40c9-9dd0-a7a7057915c4",
                "language": "sql"
            },
            "outputs": [
                {
                    "output_type": "display_data",
                    "data": {
                        "text/html": "(3 rows affected)"
                    },
                    "metadata": {}
                },
                {
                    "output_type": "display_data",
                    "data": {
                        "text/html": "Total execution time: 00:00:00.007"
                    },
                    "metadata": {}
                },
                {
                    "output_type": "execute_result",
                    "metadata": {},
                    "execution_count": 4,
                    "data": {
                        "application/vnd.dataresource+json": {
                            "schema": {
                                "fields": [
                                    {
                                        "name": "shipperid"
                                    },
                                    {
                                        "name": "numorders"
                                    }
                                ]
                            },
                            "data": [
                                {
                                    "shipperid": "1",
                                    "numorders": "249"
                                },
                                {
                                    "shipperid": "2",
                                    "numorders": "326"
                                },
                                {
                                    "shipperid": "3",
                                    "numorders": "255"
                                }
                            ]
                        },
                        "text/html": [
                            "<table>",
                            "<tr><th>shipperid</th><th>numorders</th></tr>",
                            "<tr><td>1</td><td>249</td></tr>",
                            "<tr><td>2</td><td>326</td></tr>",
                            "<tr><td>3</td><td>255</td></tr>",
                            "</table>"
                        ]
                    }
                }
            ],
            "execution_count": 4
        },
        {
            "cell_type": "code",
            "source": [
                "\n",
                "-- grouping set with multiple elements\n",
                "SELECT shipperid, YEAR(shippeddate) AS shippedyear,\n",
                "   COUNT(*) AS numorders\n",
                "FROM Sales.Orders\n",
                "GROUP BY shipperid, YEAR(shippeddate);"
            ],
            "metadata": {
                "azdata_cell_guid": "f6d6eeb3-5625-477a-bcd1-55e0ba57e34d",
                "language": "sql"
            },
            "outputs": [
                {
                    "output_type": "display_data",
                    "data": {
                        "text/html": "(12 rows affected)"
                    },
                    "metadata": {}
                },
                {
                    "output_type": "display_data",
                    "data": {
                        "text/html": "Total execution time: 00:00:00.007"
                    },
                    "metadata": {}
                },
                {
                    "output_type": "execute_result",
                    "metadata": {},
                    "execution_count": 5,
                    "data": {
                        "application/vnd.dataresource+json": {
                            "schema": {
                                "fields": [
                                    {
                                        "name": "shipperid"
                                    },
                                    {
                                        "name": "shippedyear"
                                    },
                                    {
                                        "name": "numorders"
                                    }
                                ]
                            },
                            "data": [
                                {
                                    "shipperid": "1",
                                    "shippedyear": "2008",
                                    "numorders": "79"
                                },
                                {
                                    "shipperid": "3",
                                    "shippedyear": "2008",
                                    "numorders": "73"
                                },
                                {
                                    "shipperid": "1",
                                    "shippedyear": "NULL",
                                    "numorders": "4"
                                },
                                {
                                    "shipperid": "3",
                                    "shippedyear": "NULL",
                                    "numorders": "6"
                                },
                                {
                                    "shipperid": "1",
                                    "shippedyear": "2006",
                                    "numorders": "36"
                                },
                                {
                                    "shipperid": "2",
                                    "shippedyear": "2007",
                                    "numorders": "143"
                                },
                                {
                                    "shipperid": "2",
                                    "shippedyear": "NULL",
                                    "numorders": "11"
                                },
                                {
                                    "shipperid": "3",
                                    "shippedyear": "2006",
                                    "numorders": "51"
                                },
                                {
                                    "shipperid": "1",
                                    "shippedyear": "2007",
                                    "numorders": "130"
                                },
                                {
                                    "shipperid": "2",
                                    "shippedyear": "2008",
                                    "numorders": "116"
                                },
                                {
                                    "shipperid": "2",
                                    "shippedyear": "2006",
                                    "numorders": "56"
                                },
                                {
                                    "shipperid": "3",
                                    "shippedyear": "2007",
                                    "numorders": "125"
                                }
                            ]
                        },
                        "text/html": [
                            "<table>",
                            "<tr><th>shipperid</th><th>shippedyear</th><th>numorders</th></tr>",
                            "<tr><td>1</td><td>2008</td><td>79</td></tr>",
                            "<tr><td>3</td><td>2008</td><td>73</td></tr>",
                            "<tr><td>1</td><td>NULL</td><td>4</td></tr>",
                            "<tr><td>3</td><td>NULL</td><td>6</td></tr>",
                            "<tr><td>1</td><td>2006</td><td>36</td></tr>",
                            "<tr><td>2</td><td>2007</td><td>143</td></tr>",
                            "<tr><td>2</td><td>NULL</td><td>11</td></tr>",
                            "<tr><td>3</td><td>2006</td><td>51</td></tr>",
                            "<tr><td>1</td><td>2007</td><td>130</td></tr>",
                            "<tr><td>2</td><td>2008</td><td>116</td></tr>",
                            "<tr><td>2</td><td>2006</td><td>56</td></tr>",
                            "<tr><td>3</td><td>2007</td><td>125</td></tr>",
                            "</table>"
                        ]
                    }
                }
            ],
            "execution_count": 5
        },
        {
            "cell_type": "code",
            "source": [
                "-- filtering groups\n",
                "SELECT shipperid, YEAR(shippeddate) AS shippedyear,\n",
                "   COUNT(*) AS numorders\n",
                "FROM Sales.Orders\n",
                "WHERE shippeddate IS NOT NULL\n",
                "GROUP BY shipperid, YEAR(shippeddate)\n",
                "HAVING COUNT(*) > 100;"
            ],
            "metadata": {
                "azdata_cell_guid": "f8cdb5ba-c391-45a4-be0d-4241e92e11e8",
                "language": "sql"
            },
            "outputs": [
                {
                    "output_type": "display_data",
                    "data": {
                        "text/html": "(4 rows affected)"
                    },
                    "metadata": {}
                },
                {
                    "output_type": "display_data",
                    "data": {
                        "text/html": "Total execution time: 00:00:00.007"
                    },
                    "metadata": {}
                },
                {
                    "output_type": "execute_result",
                    "metadata": {},
                    "execution_count": 7,
                    "data": {
                        "application/vnd.dataresource+json": {
                            "schema": {
                                "fields": [
                                    {
                                        "name": "shipperid"
                                    },
                                    {
                                        "name": "shippedyear"
                                    },
                                    {
                                        "name": "numorders"
                                    }
                                ]
                            },
                            "data": [
                                {
                                    "shipperid": "2",
                                    "shippedyear": "2007",
                                    "numorders": "143"
                                },
                                {
                                    "shipperid": "1",
                                    "shippedyear": "2007",
                                    "numorders": "130"
                                },
                                {
                                    "shipperid": "2",
                                    "shippedyear": "2008",
                                    "numorders": "116"
                                },
                                {
                                    "shipperid": "3",
                                    "shippedyear": "2007",
                                    "numorders": "125"
                                }
                            ]
                        },
                        "text/html": [
                            "<table>",
                            "<tr><th>shipperid</th><th>shippedyear</th><th>numorders</th></tr>",
                            "<tr><td>2</td><td>2007</td><td>143</td></tr>",
                            "<tr><td>1</td><td>2007</td><td>130</td></tr>",
                            "<tr><td>2</td><td>2008</td><td>116</td></tr>",
                            "<tr><td>3</td><td>2007</td><td>125</td></tr>",
                            "</table>"
                        ]
                    }
                }
            ],
            "execution_count": 7
        },
        {
            "cell_type": "code",
            "source": [
                "-- general aggregate functions ignore NULLs\n",
                "SELECT shipperid,\n",
                "  COUNT(*) AS numorders,\n",
                "  COUNT(shippeddate) AS shippedorders,\n",
                "  MIN(shippeddate) AS firstshipdate,\n",
                "  MAX(shippeddate) AS lastshipdate,\n",
                "  SUM(val) AS totalvalue\n",
                "FROM Sales.OrderValues\n",
                "GROUP BY shipperid;"
            ],
            "metadata": {
                "azdata_cell_guid": "6454abcc-429c-4a94-85bd-7314babe6f19",
                "language": "sql"
            },
            "outputs": [
                {
                    "output_type": "display_data",
                    "data": {
                        "text/html": "Warning: Null value is eliminated by an aggregate or other SET operation."
                    },
                    "metadata": {}
                },
                {
                    "output_type": "display_data",
                    "data": {
                        "text/html": "(3 rows affected)"
                    },
                    "metadata": {}
                },
                {
                    "output_type": "display_data",
                    "data": {
                        "text/html": "Total execution time: 00:00:00.021"
                    },
                    "metadata": {}
                },
                {
                    "output_type": "execute_result",
                    "metadata": {},
                    "execution_count": 8,
                    "data": {
                        "application/vnd.dataresource+json": {
                            "schema": {
                                "fields": [
                                    {
                                        "name": "shipperid"
                                    },
                                    {
                                        "name": "numorders"
                                    },
                                    {
                                        "name": "shippedorders"
                                    },
                                    {
                                        "name": "firstshipdate"
                                    },
                                    {
                                        "name": "lastshipdate"
                                    },
                                    {
                                        "name": "totalvalue"
                                    }
                                ]
                            },
                            "data": [
                                {
                                    "shipperid": "3",
                                    "numorders": "255",
                                    "shippedorders": "249",
                                    "firstshipdate": "2006-07-15 00:00:00.000",
                                    "lastshipdate": "2008-05-01 00:00:00.000",
                                    "totalvalue": "383405.53"
                                },
                                {
                                    "shipperid": "1",
                                    "numorders": "249",
                                    "shippedorders": "245",
                                    "firstshipdate": "2006-07-10 00:00:00.000",
                                    "lastshipdate": "2008-05-04 00:00:00.000",
                                    "totalvalue": "348840.00"
                                },
                                {
                                    "shipperid": "2",
                                    "numorders": "326",
                                    "shippedorders": "315",
                                    "firstshipdate": "2006-07-11 00:00:00.000",
                                    "lastshipdate": "2008-05-06 00:00:00.000",
                                    "totalvalue": "533547.69"
                                }
                            ]
                        },
                        "text/html": [
                            "<table>",
                            "<tr><th>shipperid</th><th>numorders</th><th>shippedorders</th><th>firstshipdate</th><th>lastshipdate</th><th>totalvalue</th></tr>",
                            "<tr><td>3</td><td>255</td><td>249</td><td>2006-07-15 00:00:00.000</td><td>2008-05-01 00:00:00.000</td><td>383405.53</td></tr>",
                            "<tr><td>1</td><td>249</td><td>245</td><td>2006-07-10 00:00:00.000</td><td>2008-05-04 00:00:00.000</td><td>348840.00</td></tr>",
                            "<tr><td>2</td><td>326</td><td>315</td><td>2006-07-11 00:00:00.000</td><td>2008-05-06 00:00:00.000</td><td>533547.69</td></tr>",
                            "</table>"
                        ]
                    }
                }
            ],
            "execution_count": 8
        },
        {
            "cell_type": "code",
            "source": [
                "-- aggregating distinct cases\n",
                "SELECT shipperid, COUNT(DISTINCT shippeddate) AS numshippingdates\n",
                "FROM Sales.Orders\n",
                "GROUP BY shipperid;"
            ],
            "metadata": {
                "azdata_cell_guid": "5173c7be-dff6-4061-b73a-dc039d08d8f6",
                "language": "sql"
            },
            "outputs": [],
            "execution_count": null
        },
        {
            "cell_type": "markdown",
            "source": [
                "## Exercise 1\n",
                "Return the years in which the company had have more than one hires, after and including 2003. Sort one countries and hire year.\n",
                "\n",
                "## Exercise 2\n",
                "Get total order numbers, min order number in a day, and max order number in a day per each year. Use `Sales.OrderValues` table. Order the table on year.\n",
                "\n",
                "## Exercise 3\n",
                "Use previous exercise, to return the days per each year we have had the lowest number of orders. \n",
                "\n",
                "Hint: use `WITH` and correlated queries.\n",
                ""
            ],
            "metadata": {
                "language": "sql",
                "azdata_cell_guid": "48749d25-a8a9-443b-9211-aa6653a20402"
            },
            "attachments": {}
        },
        {
            "cell_type": "markdown",
            "source": [
                "# Working With Multiple Grouping Sets\n",
                "\n",
                "Same as havein `GROUP BY`s separately and then using `UNION`."
            ],
            "metadata": {
                "azdata_cell_guid": "49db2062-a35a-4d71-b64b-9e10e2eb0a54"
            },
            "attachments": {}
        },
        {
            "cell_type": "code",
            "source": [
                "-- using the GROUPING SETS clause\n",
                "SELECT shipperid, YEAR(shippeddate) AS shipyear, COUNT(*) AS numorders\n",
                "FROM Sales.Orders\n",
                "WHERE shippeddate IS NOT NULL -- exclude unshipped orders\n",
                "GROUP BY GROUPING SETS\n",
                "(\n",
                "  ( shipperid, YEAR(shippeddate) ),\n",
                "  ( shipperid                    ),\n",
                "  ( YEAR(shippeddate)            ),\n",
                "  (                              )\n",
                ");"
            ],
            "metadata": {
                "azdata_cell_guid": "9bfc756e-c85f-4e00-820b-05b947594a18",
                "language": "sql"
            },
            "outputs": [],
            "execution_count": null
        }
    ]
}