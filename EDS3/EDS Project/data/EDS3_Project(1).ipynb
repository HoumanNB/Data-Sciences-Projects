{
 "cells": [
  {
   "cell_type": "code",
   "execution_count": 43,
   "metadata": {},
   "outputs": [],
   "source": [
    "import pandas as pd\n",
    "import matplotlib.pyplot as plt\n",
    "import numpy as np\n",
    "import re\n",
    "import seaborn as sns\n",
    "from sklearn.preprocessing import LabelEncoder\n",
    "from sklearn.preprocessing import StandardScaler\n",
    "from sklearn import ensemble\n",
    "from math import isinf\n",
    "from sklearn import ensemble \n",
    "from sklearn.model_selection import StratifiedShuffleSplit\n",
    "from sklearn.metrics import accuracy_score,balanced_accuracy_score,f1_score\n",
    "from sklearn.metrics import precision_score\n",
    "from sklearn.metrics import recall_score\n",
    "from sklearn.preprocessing import MinMaxScaler\n",
    "from sklearn.feature_selection import SelectKBest\n",
    "from sklearn.feature_selection import chi2,f_classif\n",
    "from sklearn import tree\n",
    "from sklearn.model_selection import GridSearchCV\n",
    "from sklearn.neural_network import MLPClassifier\n",
    "from sklearn.naive_bayes import GaussianNB\n",
    "from sklearn.neural_network import MLPClassifier\n",
    "from sklearn.utils import compute_class_weight"
   ]
  },
  {
   "cell_type": "code",
   "execution_count": 44,
   "metadata": {},
   "outputs": [],
   "source": [
    "data = pd.read_csv('train.csv')"
   ]
  },
  {
   "cell_type": "markdown",
   "metadata": {},
   "source": [
    "# Pre-Processes"
   ]
  },
  {
   "cell_type": "markdown",
   "metadata": {},
   "source": [
    "## Cleaner"
   ]
  },
  {
   "cell_type": "markdown",
   "metadata": {},
   "source": [
    "- ### Type"
   ]
  },
  {
   "cell_type": "markdown",
   "metadata": {},
   "source": [
    "Is directly encoded"
   ]
  },
  {
   "cell_type": "markdown",
   "metadata": {},
   "source": [
    "- ### Neighborhood"
   ]
  },
  {
   "cell_type": "markdown",
   "metadata": {},
   "source": [
    "Zone\n"
   ]
  },
  {
   "cell_type": "code",
   "execution_count": 45,
   "metadata": {},
   "outputs": [],
   "source": [
    "data['zone'] = data['neighborhood'].str.slice(stop=8)\n",
    "data['zone'] = data['zone'].str.replace('منطقه', '')\n",
    "data['zone'] = data['zone'].astype(float)"
   ]
  },
  {
   "cell_type": "markdown",
   "metadata": {},
   "source": [
    "Neighborhood & Street\n"
   ]
  },
  {
   "cell_type": "code",
   "execution_count": 46,
   "metadata": {},
   "outputs": [],
   "source": [
    "data['neighborhood'] = data['neighborhood'].str[13:len(data['neighborhood'])-13]\n",
    "data['neighborhood'] = data['neighborhood'].str.split(' خیابان ')"
   ]
  },
  {
   "cell_type": "code",
   "execution_count": 47,
   "metadata": {},
   "outputs": [],
   "source": [
    "data = data.drop(data[data['neighborhood'].isna()].index)"
   ]
  },
  {
   "cell_type": "code",
   "execution_count": 48,
   "metadata": {},
   "outputs": [],
   "source": [
    "data['street'] = data['neighborhood'].apply(lambda x:x.pop(1))\n",
    "data['neighborhood'] = data['neighborhood'].apply(lambda x:x.pop())"
   ]
  },
  {
   "cell_type": "markdown",
   "metadata": {},
   "source": [
    "- ### Description\n"
   ]
  },
  {
   "cell_type": "code",
   "execution_count": 49,
   "metadata": {},
   "outputs": [],
   "source": [
    "data['elevator'] = data['description'].str.contains('آسانسور دارد')\n",
    "\n",
    "data['parking'] = data['description'].str.contains('پارکینگ دارد')\n",
    "\n",
    "data['storage'] = data['description'].str.contains('انباری دارد')\n",
    "\n",
    "data['yard'] = data['description'].str.contains('حیاط')\n",
    "\n",
    "data['balcony'] = data['description'].str.contains('بالکن|بالکنی')\n",
    "\n",
    "data['reconstructed'] = data['description'].str.contains('بازسازی')\n",
    "\n",
    "data = data.drop('description', axis=1)\n"
   ]
  },
  {
   "cell_type": "markdown",
   "metadata": {},
   "source": [
    "- ### Floor\n"
   ]
  },
  {
   "cell_type": "code",
   "execution_count": 50,
   "metadata": {},
   "outputs": [],
   "source": [
    "data['floor'].replace('همکف', 0, inplace=True)\n",
    "\n",
    "data['floor'] = data['floor'].astype(int)"
   ]
  },
  {
   "cell_type": "code",
   "execution_count": 51,
   "metadata": {},
   "outputs": [],
   "source": [
    "data['floor'].replace(-130, float('nan'), inplace=True)"
   ]
  },
  {
   "cell_type": "code",
   "execution_count": 52,
   "metadata": {},
   "outputs": [],
   "source": [
    "data = data.drop(data[data['floor'].isna()].index)"
   ]
  },
  {
   "cell_type": "markdown",
   "metadata": {},
   "source": [
    "- ### Bedrooms\n"
   ]
  },
  {
   "cell_type": "code",
   "execution_count": 53,
   "metadata": {},
   "outputs": [],
   "source": [
    "data['bedrooms'].replace(0, float('nan'), inplace=True)"
   ]
  },
  {
   "cell_type": "code",
   "execution_count": 54,
   "metadata": {},
   "outputs": [],
   "source": [
    "data = data.drop(data[data['bedrooms'].isna()].index)"
   ]
  },
  {
   "cell_type": "markdown",
   "metadata": {},
   "source": [
    "- ### Price\n"
   ]
  },
  {
   "cell_type": "code",
   "execution_count": 55,
   "metadata": {},
   "outputs": [],
   "source": [
    "data['price'] = data['price'].str.replace(' تومان','')\n",
    "data['price'] = data['price'].str.replace(',', '')\n",
    "data['price'] = data['price'].str.replace('توافقی', '0')\n",
    "\n",
    "data['price'] = data['price'].astype('int64') # int and int32 are too short"
   ]
  },
  {
   "cell_type": "code",
   "execution_count": 56,
   "metadata": {},
   "outputs": [],
   "source": [
    "data = data.drop(data[data['price'] == 0].index)\n",
    "data = data.drop(data[data['price'] == 1111111].index)\n",
    "data = data.drop(data[data['price'] == 11111111].index)"
   ]
  },
  {
   "cell_type": "markdown",
   "metadata": {},
   "source": [
    "- ### Age"
   ]
  },
  {
   "cell_type": "code",
   "execution_count": 57,
   "metadata": {},
   "outputs": [],
   "source": [
    "data['age'] = data['age'].str.replace('تازه ساز', '0')\n",
    "data['age'] = data['age'].str.replace(' سال ساخت', '')\n",
    "\n",
    "# Best way to ignore NaN values is to convert to Float\n",
    "data['age'] = data['age'].astype(float)\n",
    "\n",
    "# Hand correcting that single one (and also to make automated correction easier)\n",
    "data['age'] = data['age'].replace(98.0, 4.0)\n",
    "\n",
    "# Correcting the 13xx/14xx dates with their age rather than year built\n",
    "data.loc[data['age'] > 1300, 'age'] = 1402 - data['age']"
   ]
  },
  {
   "cell_type": "markdown",
   "metadata": {},
   "source": [
    "- ### Area"
   ]
  },
  {
   "cell_type": "code",
   "execution_count": 58,
   "metadata": {},
   "outputs": [],
   "source": [
    "data = data.drop(data[data['area'] >= 1000].index)"
   ]
  },
  {
   "cell_type": "markdown",
   "metadata": {},
   "source": [
    "- ### Lat & long"
   ]
  },
  {
   "cell_type": "code",
   "execution_count": 59,
   "metadata": {},
   "outputs": [],
   "source": [
    "data = data.drop(['latitude', 'longitude'], axis=1)"
   ]
  },
  {
   "cell_type": "markdown",
   "metadata": {},
   "source": [
    "## NaNs"
   ]
  },
  {
   "cell_type": "code",
   "execution_count": 60,
   "metadata": {},
   "outputs": [],
   "source": [
    "data['age'] = data['age'].replace(np.nan, 0)\n",
    "\n",
    "data ['floor'] = data['floor'].replace(np.nan, 0)\n",
    "\n",
    "data['bedrooms'] = data['bedrooms'].replace(np.nan, 1)\n",
    "\n",
    "cols = ['elevator', 'parking', 'storage', 'yard', 'balcony', 'reconstructed']\n",
    "data[cols] = data[cols].replace(float('nan'), False)\n"
   ]
  },
  {
   "cell_type": "code",
   "execution_count": 61,
   "metadata": {},
   "outputs": [
    {
     "data": {
      "text/plain": [
       "type             0\n",
       "area             0\n",
       "neighborhood     0\n",
       "age              0\n",
       "floor            0\n",
       "bedrooms         0\n",
       "price            0\n",
       "zone             0\n",
       "street           0\n",
       "elevator         0\n",
       "parking          0\n",
       "storage          0\n",
       "yard             0\n",
       "balcony          0\n",
       "reconstructed    0\n",
       "dtype: int64"
      ]
     },
     "execution_count": 61,
     "metadata": {},
     "output_type": "execute_result"
    }
   ],
   "source": [
    "data.isna().sum()"
   ]
  },
  {
   "cell_type": "markdown",
   "metadata": {},
   "source": [
    "## Further Pre-Processing"
   ]
  },
  {
   "cell_type": "code",
   "execution_count": 62,
   "metadata": {},
   "outputs": [],
   "source": [
    "data = data.drop(data[data['area'] > 450].index)\n",
    "\n",
    "data = data.drop(data[data['area'] == 0].index)"
   ]
  },
  {
   "cell_type": "code",
   "execution_count": 63,
   "metadata": {},
   "outputs": [],
   "source": [
    "data = data.drop(data[(data['floor'] > 10) | (data['floor'] < 0)].index)"
   ]
  },
  {
   "cell_type": "code",
   "execution_count": 64,
   "metadata": {},
   "outputs": [],
   "source": [
    "data = data.drop(data[data['bedrooms'] > 5].index)"
   ]
  },
  {
   "cell_type": "code",
   "execution_count": 65,
   "metadata": {},
   "outputs": [],
   "source": [
    "data = data.drop(data[data['price'] > 40000000000].index)"
   ]
  },
  {
   "cell_type": "markdown",
   "metadata": {},
   "source": [
    "## Encoding"
   ]
  },
  {
   "cell_type": "code",
   "execution_count": 66,
   "metadata": {},
   "outputs": [],
   "source": [
    "def label_encode(df, columns):\n",
    "    le = LabelEncoder()\n",
    "    data = df.copy()\n",
    "    for col in columns:\n",
    "        data[col] = le.fit_transform(df[col])\n",
    "    return data"
   ]
  },
  {
   "cell_type": "code",
   "execution_count": 67,
   "metadata": {},
   "outputs": [],
   "source": [
    "columns = ['type', 'neighborhood', 'street', 'elevator', 'parking', \n",
    "           'storage', 'yard', 'balcony', 'reconstructed']"
   ]
  },
  {
   "cell_type": "code",
   "execution_count": 68,
   "metadata": {},
   "outputs": [],
   "source": [
    "label_encoded = label_encode(data, columns)\n",
    "\n",
    "label_encoded.to_csv('label_final_data2.csv', index=False)"
   ]
  },
  {
   "cell_type": "code",
   "execution_count": 69,
   "metadata": {},
   "outputs": [],
   "source": [
    "data = pd.read_csv('label_final_data2.csv')"
   ]
  },
  {
   "cell_type": "markdown",
   "metadata": {},
   "source": [
    "### Eliminating Infs"
   ]
  },
  {
   "cell_type": "code",
   "execution_count": 70,
   "metadata": {},
   "outputs": [],
   "source": [
    "data = data.replace([np.inf, -np.inf], np.finfo('float64').max)"
   ]
  },
  {
   "cell_type": "code",
   "execution_count": 71,
   "metadata": {},
   "outputs": [
    {
     "data": {
      "text/plain": [
       "0"
      ]
     },
     "execution_count": 71,
     "metadata": {},
     "output_type": "execute_result"
    }
   ],
   "source": [
    "data.isin([np.inf, -np.inf]).sum().sum()"
   ]
  },
  {
   "cell_type": "markdown",
   "metadata": {},
   "source": [
    "### Splitting"
   ]
  },
  {
   "cell_type": "code",
   "execution_count": 72,
   "metadata": {},
   "outputs": [],
   "source": [
    "x = data.drop('price', axis=1)\n",
    "y = data['price']\n",
    "sss = StratifiedShuffleSplit(n_splits=10, test_size=0.2, random_state=0)"
   ]
  },
  {
   "cell_type": "code",
   "execution_count": 73,
   "metadata": {},
   "outputs": [],
   "source": [
    "x = x.replace([np.inf, -np.inf], np.finfo('float64').max)\n",
    "y = y.replace([np.inf, -np.inf], np.finfo('float64').max)"
   ]
  },
  {
   "cell_type": "code",
   "execution_count": 74,
   "metadata": {},
   "outputs": [],
   "source": [
    "values_list = y.value_counts()\n",
    "lesser_values = values_list.loc[values_list == 1].index"
   ]
  },
  {
   "cell_type": "code",
   "execution_count": 75,
   "metadata": {},
   "outputs": [],
   "source": [
    "# Doing the removal for x so both x and y lengths are equal\n",
    "for num in lesser_values:\n",
    "    x.drop(y[y == num].index, inplace=True, axis=0)  \n",
    "    \n",
    "for num in lesser_values:\n",
    "    y.drop(y[y == num].index, inplace=True, axis=0)  "
   ]
  },
  {
   "cell_type": "code",
   "execution_count": 76,
   "metadata": {},
   "outputs": [],
   "source": [
    "train_index, test_index = next(sss.split(x, y))"
   ]
  },
  {
   "cell_type": "code",
   "execution_count": 77,
   "metadata": {},
   "outputs": [],
   "source": [
    "X_train = data.iloc[test_index].drop('price', axis=1)\n",
    "Y_train = data.iloc[test_index].price\n",
    "X_test = data.iloc[test_index].drop('price', axis=1)\n",
    "Y_test = data.iloc[test_index].price"
   ]
  },
  {
   "cell_type": "markdown",
   "metadata": {},
   "source": [
    "### Scaling"
   ]
  },
  {
   "cell_type": "code",
   "execution_count": 78,
   "metadata": {},
   "outputs": [],
   "source": [
    "cols = X_train.columns\n",
    "scaler = MinMaxScaler()"
   ]
  },
  {
   "cell_type": "code",
   "execution_count": 79,
   "metadata": {},
   "outputs": [],
   "source": [
    "X_train = scaler.fit_transform(X_train)\n",
    "X_test = scaler.transform(X_test)"
   ]
  },
  {
   "cell_type": "code",
   "execution_count": 80,
   "metadata": {},
   "outputs": [],
   "source": [
    "X_test  = pd.DataFrame(X_test, columns=[cols])\n",
    "X_train = pd.DataFrame(X_train, columns=[cols])"
   ]
  },
  {
   "cell_type": "markdown",
   "metadata": {},
   "source": [
    "### Correlations"
   ]
  },
  {
   "cell_type": "code",
   "execution_count": 81,
   "metadata": {},
   "outputs": [
    {
     "data": {
      "text/plain": [
       "(-1.0, 14.0)"
      ]
     },
     "execution_count": 81,
     "metadata": {},
     "output_type": "execute_result"
    },
    {
     "data": {
      "image/png": "[encoded data removed]",
      "text/plain": [
       "<Figure size 2000x700 with 1 Axes>"
      ]
     },
     "metadata": {},
     "output_type": "display_data"
    }
   ],
   "source": [
    "feature_name = x.columns.values\n",
    "model = ensemble.ExtraTreesRegressor(n_estimators=30, max_depth=30, max_features=.5, n_jobs=-1, random_state=0)\n",
    "model.fit(X_train, Y_train.to_numpy())\n",
    "importance = model.feature_importances_\n",
    "std = np.std([tree.feature_importances_ for tree in model.estimators_], axis=0)\n",
    "indices = np.argsort(importance)[::-1][:20]\n",
    "plt.figure(figsize=(20, 7))\n",
    "plt.bar(range(len(indices)), importance[indices], yerr=std[indices], align='center')\n",
    "plt.xticks(range(len(indices)), feature_name[indices], rotation='vertical')\n",
    "plt.xlim([-1, len(indices)])"
   ]
  },
  {
   "cell_type": "markdown",
   "metadata": {},
   "source": [
    "### Feature Selection"
   ]
  },
  {
   "cell_type": "code",
   "execution_count": 82,
   "metadata": {},
   "outputs": [
    {
     "name": "stdout",
     "output_type": "stream",
     "text": [
      "('type',)\n",
      "('area',)\n",
      "('neighborhood',)\n",
      "('bedrooms',)\n",
      "('zone',)\n",
      "('elevator',)\n",
      "('parking',)\n",
      "('yard',)\n",
      "('balcony',)\n",
      "('reconstructed',)\n"
     ]
    }
   ],
   "source": [
    "chi2_features = SelectKBest(chi2, k=10)\n",
    "\n",
    "dfscaled = X_train.copy()\n",
    "\n",
    "X_kbest_features = chi2_features.fit_transform(dfscaled, Y_train)\n",
    "chidata = pd.DataFrame(X_kbest_features)\n",
    "\n",
    "chifeatures50 = []\n",
    "\n",
    "for i in chidata.columns:\n",
    "    for j in dfscaled.columns:\n",
    "        if (chidata[i] == dfscaled[j]).sum() == len(chidata):\n",
    "            print(j)\n",
    "            chifeatures50.append(j)"
   ]
  },
  {
   "cell_type": "code",
   "execution_count": 83,
   "metadata": {},
   "outputs": [
    {
     "data": {
      "text/plain": [
       "['area',\n",
       " 'bedrooms',\n",
       " 'zone',\n",
       " 'neighborhood',\n",
       " 'age',\n",
       " 'street',\n",
       " 'type',\n",
       " 'floor',\n",
       " 'elevator',\n",
       " 'parking']"
      ]
     },
     "execution_count": 83,
     "metadata": {},
     "output_type": "execute_result"
    }
   ],
   "source": [
    "indices = np.argsort(importance)[::-1][:10]\n",
    "fimport = list(feature_name[indices])\n",
    "fimport"
   ]
  },
  {
   "cell_type": "code",
   "execution_count": 84,
   "metadata": {},
   "outputs": [],
   "source": [
    "X_test.to_csv('X_test(1).csv', index=False)\n",
    "Y_test.to_csv('Y_test(1).csv', index=False)\n",
    "\n",
    "X_train.to_csv('X_train(1).csv', index=False)\n",
    "Y_train.to_csv('Y_train(1).csv', index=False)"
   ]
  }
 ],
 "metadata": {
  "kernelspec": {
   "display_name": "base",
   "language": "python",
   "name": "python3"
  },
  "language_info": {
   "codemirror_mode": {
    "name": "ipython",
    "version": 3
   },
   "file_extension": ".py",
   "mimetype": "text/x-python",
   "name": "python",
   "nbconvert_exporter": "python",
   "pygments_lexer": "ipython3",
   "version": "3.11.4"
  },
  "orig_nbformat": 4
 },
 "nbformat": 4,
 "nbformat_minor": 2
}
