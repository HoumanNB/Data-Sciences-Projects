{
 "cells": [
  {
   "cell_type": "markdown",
   "metadata": {},
   "source": [
    "## Imports"
   ]
  },
  {
   "cell_type": "code",
   "execution_count": null,
   "metadata": {},
   "outputs": [],
   "source": [
    "import pandas as pd\n",
    "import matplotlib.pyplot as plt\n",
    "import numpy as np\n",
    "import re\n",
    "import seaborn as sns\n",
    "from sklearn.preprocessing import LabelEncoder\n",
    "from sklearn.preprocessing import StandardScaler\n",
    "from sklearn import ensemble\n",
    "from math import isinf\n",
    "from sklearn import ensemble \n",
    "from sklearn.model_selection import StratifiedShuffleSplit\n",
    "from sklearn.metrics import accuracy_score,balanced_accuracy_score,f1_score\n",
    "from sklearn.metrics import precision_score\n",
    "from sklearn.metrics import recall_score\n",
    "from sklearn.preprocessing import MinMaxScaler\n",
    "from sklearn.feature_selection import SelectKBest\n",
    "from sklearn.feature_selection import chi2,f_classif\n",
    "from sklearn import tree\n",
    "from sklearn.model_selection import GridSearchCV\n",
    "from sklearn.neural_network import MLPClassifier\n",
    "from sklearn.naive_bayes import GaussianNB\n",
    "from sklearn.neural_network import MLPClassifier"
   ]
  },
  {
   "cell_type": "code",
   "execution_count": null,
   "metadata": {},
   "outputs": [],
   "source": [
    "data = pd.read_csv('train.csv')\n",
    "test = pd.read_csv('test.csv')"
   ]
  },
  {
   "cell_type": "markdown",
   "metadata": {},
   "source": [
    "## Functions"
   ]
  },
  {
   "cell_type": "markdown",
   "metadata": {},
   "source": [
    "###### Shamelessly copied"
   ]
  },
  {
   "cell_type": "code",
   "execution_count": null,
   "metadata": {},
   "outputs": [],
   "source": [
    "# One-Hot Encoding\n",
    "def onehot_encode(df, columns):\n",
    "    return pd.get_dummies(df, columns=columns, prefix=columns)\n",
    "\n",
    "# Label Encoding\n",
    "def label_encode(df, columns):\n",
    "    le = LabelEncoder()\n",
    "    data = df.copy()\n",
    "    for col in columns:\n",
    "        data[col] = le.fit_transform(df[col])\n",
    "    return data"
   ]
  },
  {
   "cell_type": "markdown",
   "metadata": {},
   "source": [
    "## Data exploration"
   ]
  },
  {
   "cell_type": "code",
   "execution_count": null,
   "metadata": {},
   "outputs": [
    {
     "data": {
      "text/html": [
       "<div>\n",
       "<style scoped>\n",
       "    .dataframe tbody tr th:only-of-type {\n",
       "        vertical-align: middle;\n",
       "    }\n",
       "\n",
       "    .dataframe tbody tr th {\n",
       "        vertical-align: top;\n",
       "    }\n",
       "\n",
       "    .dataframe thead th {\n",
       "        text-align: right;\n",
       "    }\n",
       "</style>\n",
       "<table border=\"1\" class=\"dataframe\">\n",
       "  <thead>\n",
       "    <tr style=\"text-align: right;\">\n",
       "      <th></th>\n",
       "      <th>type</th>\n",
       "      <th>area</th>\n",
       "      <th>neighborhood</th>\n",
       "      <th>description</th>\n",
       "      <th>latitude</th>\n",
       "      <th>longitude</th>\n",
       "      <th>age</th>\n",
       "      <th>floor</th>\n",
       "      <th>bedrooms</th>\n",
       "      <th>price</th>\n",
       "    </tr>\n",
       "  </thead>\n",
       "  <tbody>\n",
       "    <tr>\n",
       "      <th>0</th>\n",
       "      <td>فروش آپارتمان</td>\n",
       "      <td>73.0</td>\n",
       "      <td>منطقه 12 محله الهیه  خیابان الهیه</td>\n",
       "      <td>متر امیریه/سند آماده/آسانسور پارکینگ/فول\\r\\...</td>\n",
       "      <td>36.373776</td>\n",
       "      <td>59.475820</td>\n",
       "      <td>11 سال ساخت</td>\n",
       "      <td>1</td>\n",
       "      <td>2.0</td>\n",
       "      <td>2,200,000,000 تومان</td>\n",
       "    </tr>\n",
       "    <tr>\n",
       "      <th>1</th>\n",
       "      <td>فروش آپارتمان</td>\n",
       "      <td>100.0</td>\n",
       "      <td>منطقه 2 محله فرامرز عباسی  خیابان فرامرز عباسی</td>\n",
       "      <td>آپارتمان   متر/فول/خوش نقشه/فرامرز\\r\\nباسلام\\...</td>\n",
       "      <td>36.327670</td>\n",
       "      <td>59.548380</td>\n",
       "      <td>7 سال ساخت</td>\n",
       "      <td>1</td>\n",
       "      <td>2.0</td>\n",
       "      <td>4,800,000,000 تومان</td>\n",
       "    </tr>\n",
       "    <tr>\n",
       "      <th>2</th>\n",
       "      <td>فروش آپارتمان</td>\n",
       "      <td>140.0</td>\n",
       "      <td>منطقه 9 محله هنرستان  خیابان هاشمیه</td>\n",
       "      <td>متر در هاشمیه\\r\\n⚜️⚜️⚜️کارگزاری املاک هورا...</td>\n",
       "      <td>36.310605</td>\n",
       "      <td>59.504477</td>\n",
       "      <td>تازه ساز</td>\n",
       "      <td>2</td>\n",
       "      <td>2.0</td>\n",
       "      <td>10,200,000,000 تومان</td>\n",
       "    </tr>\n",
       "    <tr>\n",
       "      <th>3</th>\n",
       "      <td>فروش آپارتمان</td>\n",
       "      <td>65.0</td>\n",
       "      <td>منطقه 12 محله الهیه  خیابان الهیه</td>\n",
       "      <td>آپارتمان  متری ویرانی   \\r\\nسلام آپارتمان    ...</td>\n",
       "      <td>36.400540</td>\n",
       "      <td>59.388382</td>\n",
       "      <td>6 سال ساخت</td>\n",
       "      <td>4</td>\n",
       "      <td>1.0</td>\n",
       "      <td>870,000,000 تومان</td>\n",
       "    </tr>\n",
       "    <tr>\n",
       "      <th>4</th>\n",
       "      <td>فروش آپارتمان</td>\n",
       "      <td>200.0</td>\n",
       "      <td>منطقه 12 محله الهیه  خیابان الهیه</td>\n",
       "      <td>/ متر*همکف*فول*  مترحیاط باامکانات کامل\\r\\...</td>\n",
       "      <td>36.373776</td>\n",
       "      <td>59.475820</td>\n",
       "      <td>تازه ساز</td>\n",
       "      <td>همکف</td>\n",
       "      <td>3.0</td>\n",
       "      <td>5,350,000,000 تومان</td>\n",
       "    </tr>\n",
       "    <tr>\n",
       "      <th>...</th>\n",
       "      <td>...</td>\n",
       "      <td>...</td>\n",
       "      <td>...</td>\n",
       "      <td>...</td>\n",
       "      <td>...</td>\n",
       "      <td>...</td>\n",
       "      <td>...</td>\n",
       "      <td>...</td>\n",
       "      <td>...</td>\n",
       "      <td>...</td>\n",
       "    </tr>\n",
       "    <tr>\n",
       "      <th>48116</th>\n",
       "      <td>فروش آپارتمان</td>\n",
       "      <td>110.0</td>\n",
       "      <td>منطقه 12 محله الهیه  خیابان الهیه</td>\n",
       "      <td>اپارتمان     متری سه نبش(تهاتر)\\r\\nتوجه!!!!!!...</td>\n",
       "      <td>36.371452</td>\n",
       "      <td>59.484620</td>\n",
       "      <td>4 سال ساخت</td>\n",
       "      <td>3</td>\n",
       "      <td>2.0</td>\n",
       "      <td>4,100,000,000 تومان</td>\n",
       "    </tr>\n",
       "    <tr>\n",
       "      <th>48117</th>\n",
       "      <td>فروش آپارتمان</td>\n",
       "      <td>140.0</td>\n",
       "      <td>منطقه 9 محله هنرستان  خیابان هفت تیر</td>\n",
       "      <td>متر ،   خواب ، هفت تیر    ، بازسازی شده\\r...</td>\n",
       "      <td>36.319780</td>\n",
       "      <td>59.494770</td>\n",
       "      <td>15 سال ساخت</td>\n",
       "      <td>1</td>\n",
       "      <td>2.0</td>\n",
       "      <td>5,500,000,000 تومان</td>\n",
       "    </tr>\n",
       "    <tr>\n",
       "      <th>48118</th>\n",
       "      <td>فروش آپارتمان</td>\n",
       "      <td>130.0</td>\n",
       "      <td>منطقه 10 محله قاسم آباد  خیابان قاسم آباد</td>\n",
       "      <td>((    مــِـتر رَفـیـعـی ))\\r\\n❄️❄️❄️❄️❄️❄️❄️❄...</td>\n",
       "      <td>36.349873</td>\n",
       "      <td>59.488426</td>\n",
       "      <td>4 سال ساخت</td>\n",
       "      <td>2</td>\n",
       "      <td>3.0</td>\n",
       "      <td>4,100,000,000 تومان</td>\n",
       "    </tr>\n",
       "    <tr>\n",
       "      <th>48119</th>\n",
       "      <td>فروش آپارتمان</td>\n",
       "      <td>85.0</td>\n",
       "      <td>منطقه 2 محله فرامرز عباسی  خیابان فرامرز عباسی</td>\n",
       "      <td>آپارتمان    متری دوخواب\\r\\n   متری \\nشمالی\\nد...</td>\n",
       "      <td>36.327670</td>\n",
       "      <td>59.548380</td>\n",
       "      <td>13 سال ساخت</td>\n",
       "      <td>3</td>\n",
       "      <td>2.0</td>\n",
       "      <td>3,200,000,000 تومان</td>\n",
       "    </tr>\n",
       "    <tr>\n",
       "      <th>48120</th>\n",
       "      <td>فروش آپارتمان</td>\n",
       "      <td>95.0</td>\n",
       "      <td>منطقه 12 محله الهیه  خیابان الهیه</td>\n",
       "      <td>آپارتمان    متر دو خوابه\\r\\nآپارتمان    متر د...</td>\n",
       "      <td>36.370980</td>\n",
       "      <td>59.478207</td>\n",
       "      <td>تازه ساز</td>\n",
       "      <td>همکف</td>\n",
       "      <td>0.0</td>\n",
       "      <td>0 تومان</td>\n",
       "    </tr>\n",
       "  </tbody>\n",
       "</table>\n",
       "<p>48121 rows × 10 columns</p>\n",
       "</div>"
      ],
      "text/plain": [
       "                type   area                                    neighborhood  \\\n",
       "0      فروش آپارتمان   73.0               منطقه 12 محله الهیه  خیابان الهیه   \n",
       "1      فروش آپارتمان  100.0  منطقه 2 محله فرامرز عباسی  خیابان فرامرز عباسی   \n",
       "2      فروش آپارتمان  140.0             منطقه 9 محله هنرستان  خیابان هاشمیه   \n",
       "3      فروش آپارتمان   65.0               منطقه 12 محله الهیه  خیابان الهیه   \n",
       "4      فروش آپارتمان  200.0               منطقه 12 محله الهیه  خیابان الهیه   \n",
       "...              ...    ...                                             ...   \n",
       "48116  فروش آپارتمان  110.0               منطقه 12 محله الهیه  خیابان الهیه   \n",
       "48117  فروش آپارتمان  140.0            منطقه 9 محله هنرستان  خیابان هفت تیر   \n",
       "48118  فروش آپارتمان  130.0       منطقه 10 محله قاسم آباد  خیابان قاسم آباد   \n",
       "48119  فروش آپارتمان   85.0  منطقه 2 محله فرامرز عباسی  خیابان فرامرز عباسی   \n",
       "48120  فروش آپارتمان   95.0               منطقه 12 محله الهیه  خیابان الهیه   \n",
       "\n",
       "                                             description   latitude  \\\n",
       "0         متر امیریه/سند آماده/آسانسور پارکینگ/فول\\r\\...  36.373776   \n",
       "1       آپارتمان   متر/فول/خوش نقشه/فرامرز\\r\\nباسلام\\...  36.327670   \n",
       "2          متر در هاشمیه\\r\\n⚜️⚜️⚜️کارگزاری املاک هورا...  36.310605   \n",
       "3       آپارتمان  متری ویرانی   \\r\\nسلام آپارتمان    ...  36.400540   \n",
       "4          / متر*همکف*فول*  مترحیاط باامکانات کامل\\r\\...  36.373776   \n",
       "...                                                  ...        ...   \n",
       "48116   اپارتمان     متری سه نبش(تهاتر)\\r\\nتوجه!!!!!!...  36.371452   \n",
       "48117       متر ،   خواب ، هفت تیر    ، بازسازی شده\\r...  36.319780   \n",
       "48118   ((    مــِـتر رَفـیـعـی ))\\r\\n❄️❄️❄️❄️❄️❄️❄️❄...  36.349873   \n",
       "48119   آپارتمان    متری دوخواب\\r\\n   متری \\nشمالی\\nد...  36.327670   \n",
       "48120   آپارتمان    متر دو خوابه\\r\\nآپارتمان    متر د...  36.370980   \n",
       "\n",
       "       longitude          age floor  bedrooms                    price  \n",
       "0      59.475820  11 سال ساخت     1       2.0   2,200,000,000 تومان     \n",
       "1      59.548380   7 سال ساخت     1       2.0   4,800,000,000 تومان     \n",
       "2      59.504477     تازه ساز     2       2.0  10,200,000,000 تومان     \n",
       "3      59.388382   6 سال ساخت     4       1.0     870,000,000 تومان     \n",
       "4      59.475820     تازه ساز  همکف       3.0   5,350,000,000 تومان     \n",
       "...          ...          ...   ...       ...                      ...  \n",
       "48116  59.484620   4 سال ساخت     3       2.0   4,100,000,000 تومان     \n",
       "48117  59.494770  15 سال ساخت     1       2.0   5,500,000,000 تومان     \n",
       "48118  59.488426   4 سال ساخت     2       3.0   4,100,000,000 تومان     \n",
       "48119  59.548380  13 سال ساخت     3       2.0   3,200,000,000 تومان     \n",
       "48120  59.478207     تازه ساز  همکف       0.0               0 تومان     \n",
       "\n",
       "[48121 rows x 10 columns]"
      ]
     },
     "execution_count": 4,
     "metadata": {},
     "output_type": "execute_result"
    }
   ],
   "source": [
    "data"
   ]
  },
  {
   "cell_type": "code",
   "execution_count": null,
   "metadata": {},
   "outputs": [
    {
     "data": {
      "text/html": [
       "<div>\n",
       "<style scoped>\n",
       "    .dataframe tbody tr th:only-of-type {\n",
       "        vertical-align: middle;\n",
       "    }\n",
       "\n",
       "    .dataframe tbody tr th {\n",
       "        vertical-align: top;\n",
       "    }\n",
       "\n",
       "    .dataframe thead th {\n",
       "        text-align: right;\n",
       "    }\n",
       "</style>\n",
       "<table border=\"1\" class=\"dataframe\">\n",
       "  <thead>\n",
       "    <tr style=\"text-align: right;\">\n",
       "      <th></th>\n",
       "      <th>area</th>\n",
       "      <th>latitude</th>\n",
       "      <th>longitude</th>\n",
       "      <th>bedrooms</th>\n",
       "    </tr>\n",
       "  </thead>\n",
       "  <tbody>\n",
       "    <tr>\n",
       "      <th>count</th>\n",
       "      <td>48121.000000</td>\n",
       "      <td>48120.000000</td>\n",
       "      <td>48120.000000</td>\n",
       "      <td>48119.000000</td>\n",
       "    </tr>\n",
       "    <tr>\n",
       "      <th>mean</th>\n",
       "      <td>166.271241</td>\n",
       "      <td>36.330968</td>\n",
       "      <td>59.529667</td>\n",
       "      <td>2.280929</td>\n",
       "    </tr>\n",
       "    <tr>\n",
       "      <th>std</th>\n",
       "      <td>2096.815156</td>\n",
       "      <td>0.034520</td>\n",
       "      <td>0.054514</td>\n",
       "      <td>0.966589</td>\n",
       "    </tr>\n",
       "    <tr>\n",
       "      <th>min</th>\n",
       "      <td>0.000000</td>\n",
       "      <td>34.929853</td>\n",
       "      <td>58.863373</td>\n",
       "      <td>0.000000</td>\n",
       "    </tr>\n",
       "    <tr>\n",
       "      <th>25%</th>\n",
       "      <td>85.000000</td>\n",
       "      <td>36.310605</td>\n",
       "      <td>59.475820</td>\n",
       "      <td>2.000000</td>\n",
       "    </tr>\n",
       "    <tr>\n",
       "      <th>50%</th>\n",
       "      <td>112.000000</td>\n",
       "      <td>36.327540</td>\n",
       "      <td>59.517400</td>\n",
       "      <td>2.000000</td>\n",
       "    </tr>\n",
       "    <tr>\n",
       "      <th>75%</th>\n",
       "      <td>156.000000</td>\n",
       "      <td>36.363948</td>\n",
       "      <td>59.571770</td>\n",
       "      <td>3.000000</td>\n",
       "    </tr>\n",
       "    <tr>\n",
       "      <th>max</th>\n",
       "      <td>300000.000000</td>\n",
       "      <td>36.528536</td>\n",
       "      <td>60.525852</td>\n",
       "      <td>12.000000</td>\n",
       "    </tr>\n",
       "  </tbody>\n",
       "</table>\n",
       "</div>"
      ],
      "text/plain": [
       "                area      latitude     longitude      bedrooms\n",
       "count   48121.000000  48120.000000  48120.000000  48119.000000\n",
       "mean      166.271241     36.330968     59.529667      2.280929\n",
       "std      2096.815156      0.034520      0.054514      0.966589\n",
       "min         0.000000     34.929853     58.863373      0.000000\n",
       "25%        85.000000     36.310605     59.475820      2.000000\n",
       "50%       112.000000     36.327540     59.517400      2.000000\n",
       "75%       156.000000     36.363948     59.571770      3.000000\n",
       "max    300000.000000     36.528536     60.525852     12.000000"
      ]
     },
     "execution_count": 5,
     "metadata": {},
     "output_type": "execute_result"
    }
   ],
   "source": [
    "data.describe()"
   ]
  },
  {
   "cell_type": "code",
   "execution_count": null,
   "metadata": {},
   "outputs": [
    {
     "name": "stdout",
     "output_type": "stream",
     "text": [
      "<class 'pandas.core.frame.DataFrame'>\n",
      "RangeIndex: 48121 entries, 0 to 48120\n",
      "Data columns (total 10 columns):\n",
      " #   Column        Non-Null Count  Dtype  \n",
      "---  ------        --------------  -----  \n",
      " 0   type          48121 non-null  object \n",
      " 1   area          48121 non-null  float64\n",
      " 2   neighborhood  48120 non-null  object \n",
      " 3   description   45838 non-null  object \n",
      " 4   latitude      48120 non-null  float64\n",
      " 5   longitude     48120 non-null  float64\n",
      " 6   age           47649 non-null  object \n",
      " 7   floor         48121 non-null  object \n",
      " 8   bedrooms      48119 non-null  float64\n",
      " 9   price         48121 non-null  object \n",
      "dtypes: float64(4), object(6)\n",
      "memory usage: 3.7+ MB\n"
     ]
    }
   ],
   "source": [
    "data.info()"
   ]
  },
  {
   "cell_type": "code",
   "execution_count": null,
   "metadata": {},
   "outputs": [
    {
     "data": {
      "text/plain": [
       "type               0\n",
       "area               0\n",
       "neighborhood       1\n",
       "description     2283\n",
       "latitude           1\n",
       "longitude          1\n",
       "age              472\n",
       "floor              0\n",
       "bedrooms           2\n",
       "price              0\n",
       "dtype: int64"
      ]
     },
     "execution_count": 7,
     "metadata": {},
     "output_type": "execute_result"
    }
   ],
   "source": [
    "data.isna().sum()"
   ]
  },
  {
   "cell_type": "markdown",
   "metadata": {},
   "source": [
    "## Pre-Processing"
   ]
  },
  {
   "cell_type": "markdown",
   "metadata": {},
   "source": [
    "### Floor"
   ]
  },
  {
   "cell_type": "code",
   "execution_count": null,
   "metadata": {},
   "outputs": [
    {
     "data": {
      "text/plain": [
       "array(['1', '2', '4', 'همکف', '5', '3', '9', '6', '8', '7', '-1', '10',\n",
       "       '15', '20', '11', '18', '17', '-130', '14', '30', '21', '13', '12',\n",
       "       '16', '22'], dtype=object)"
      ]
     },
     "execution_count": 8,
     "metadata": {},
     "output_type": "execute_result"
    }
   ],
   "source": [
    "data['floor'].unique()"
   ]
  },
  {
   "cell_type": "code",
   "execution_count": null,
   "metadata": {},
   "outputs": [],
   "source": [
    "data['floor'].replace('همکف', 0, inplace=True)"
   ]
  },
  {
   "cell_type": "code",
   "execution_count": null,
   "metadata": {},
   "outputs": [],
   "source": [
    "data['floor'] = data['floor'].astype(int)"
   ]
  },
  {
   "cell_type": "code",
   "execution_count": null,
   "metadata": {},
   "outputs": [
    {
     "data": {
      "text/html": [
       "<div>\n",
       "<style scoped>\n",
       "    .dataframe tbody tr th:only-of-type {\n",
       "        vertical-align: middle;\n",
       "    }\n",
       "\n",
       "    .dataframe tbody tr th {\n",
       "        vertical-align: top;\n",
       "    }\n",
       "\n",
       "    .dataframe thead th {\n",
       "        text-align: right;\n",
       "    }\n",
       "</style>\n",
       "<table border=\"1\" class=\"dataframe\">\n",
       "  <thead>\n",
       "    <tr style=\"text-align: right;\">\n",
       "      <th></th>\n",
       "      <th>type</th>\n",
       "      <th>area</th>\n",
       "      <th>neighborhood</th>\n",
       "      <th>description</th>\n",
       "      <th>latitude</th>\n",
       "      <th>longitude</th>\n",
       "      <th>age</th>\n",
       "      <th>floor</th>\n",
       "      <th>bedrooms</th>\n",
       "      <th>price</th>\n",
       "    </tr>\n",
       "  </thead>\n",
       "  <tbody>\n",
       "    <tr>\n",
       "      <th>5862</th>\n",
       "      <td>فروش آپارتمان</td>\n",
       "      <td>1920.0</td>\n",
       "      <td>منطقه 7 محله 17 شهریور  خیابان هفده شهریور</td>\n",
       "      <td>هتل آپارتمان صفر نزدیک حرم\\r\\nبه نام خدا\\n\\n⚜...</td>\n",
       "      <td>36.276045</td>\n",
       "      <td>59.617282</td>\n",
       "      <td>تازه ساز</td>\n",
       "      <td>-130</td>\n",
       "      <td>5.0</td>\n",
       "      <td>50,000,000,000 تومان</td>\n",
       "    </tr>\n",
       "    <tr>\n",
       "      <th>9938</th>\n",
       "      <td>فروش آپارتمان</td>\n",
       "      <td>340.0</td>\n",
       "      <td>منطقه 1 محله بعثت  خیابان کوهسنگی</td>\n",
       "      <td>آپارتمان     متر برج باران\\r\\nبرند باران \\n\\n...</td>\n",
       "      <td>36.287180</td>\n",
       "      <td>59.574720</td>\n",
       "      <td>1 سال ساخت</td>\n",
       "      <td>-130</td>\n",
       "      <td>4.0</td>\n",
       "      <td>0 تومان</td>\n",
       "    </tr>\n",
       "    <tr>\n",
       "      <th>14547</th>\n",
       "      <td>فروش آپارتمان</td>\n",
       "      <td>330.0</td>\n",
       "      <td>منطقه 9 محله هنرستان  خیابان هنرستان</td>\n",
       "      <td>برج پنت هاوس    متر\\r\\n✅محمد بیداری - مسکن بی...</td>\n",
       "      <td>36.313811</td>\n",
       "      <td>59.500077</td>\n",
       "      <td>تازه ساز</td>\n",
       "      <td>-130</td>\n",
       "      <td>4.0</td>\n",
       "      <td>48,000,000,000 تومان</td>\n",
       "    </tr>\n",
       "    <tr>\n",
       "      <th>19332</th>\n",
       "      <td>فروش آپارتمان</td>\n",
       "      <td>85.0</td>\n",
       "      <td>منطقه 12 محله الهیه  خیابان الهیه</td>\n",
       "      <td>متر . فول  واحدی رحمانیه سند آماده تک برگ\\r...</td>\n",
       "      <td>36.376953</td>\n",
       "      <td>59.459780</td>\n",
       "      <td>2 سال ساخت</td>\n",
       "      <td>-130</td>\n",
       "      <td>2.0</td>\n",
       "      <td>2,690,000,000 تومان</td>\n",
       "    </tr>\n",
       "    <tr>\n",
       "      <th>19868</th>\n",
       "      <td>فروش آپارتمان</td>\n",
       "      <td>250.0</td>\n",
       "      <td>منطقه 1 محله بعثت  خیابان کوهسنگی</td>\n",
       "      <td>آپارتمان     متر برج الیزه\\r\\nبرج سفارشی  با ...</td>\n",
       "      <td>36.287180</td>\n",
       "      <td>59.574720</td>\n",
       "      <td>1 سال ساخت</td>\n",
       "      <td>-130</td>\n",
       "      <td>3.0</td>\n",
       "      <td>0 تومان</td>\n",
       "    </tr>\n",
       "    <tr>\n",
       "      <th>22666</th>\n",
       "      <td>فروش آپارتمان</td>\n",
       "      <td>3627.0</td>\n",
       "      <td>منطقه 8 محله چهارراه لشکر  خیابان امام رضا</td>\n",
       "      <td>متر هتل فروشی\\r\\n     متر زمین در دو ساخت...</td>\n",
       "      <td>36.272780</td>\n",
       "      <td>59.602730</td>\n",
       "      <td>7 سال ساخت</td>\n",
       "      <td>-130</td>\n",
       "      <td>5.0</td>\n",
       "      <td>320,000,000,000 تومان</td>\n",
       "    </tr>\n",
       "    <tr>\n",
       "      <th>23124</th>\n",
       "      <td>فروش آپارتمان</td>\n",
       "      <td>142.0</td>\n",
       "      <td>منطقه 8 محله چهارراه لشکر  خیابان امام رضا</td>\n",
       "      <td>پیش فروش آپارتمان  خوابه گل اندیشه و شریعتی\\r...</td>\n",
       "      <td>36.272780</td>\n",
       "      <td>59.602730</td>\n",
       "      <td>تازه ساز</td>\n",
       "      <td>-130</td>\n",
       "      <td>3.0</td>\n",
       "      <td>1,111,111,111 تومان</td>\n",
       "    </tr>\n",
       "    <tr>\n",
       "      <th>27906</th>\n",
       "      <td>فروش آپارتمان</td>\n",
       "      <td>200.0</td>\n",
       "      <td>منطقه 1 محله سجاد  خیابان فلسطین</td>\n",
       "      <td>متراستانه‌شرقی غربی  اتاق\\r\\nمعاوضه‌‌یافرو...</td>\n",
       "      <td>36.308098</td>\n",
       "      <td>59.562786</td>\n",
       "      <td>16 سال ساخت</td>\n",
       "      <td>-130</td>\n",
       "      <td>2.0</td>\n",
       "      <td>14,000,000,000 تومان</td>\n",
       "    </tr>\n",
       "    <tr>\n",
       "      <th>30583</th>\n",
       "      <td>فروش آپارتمان</td>\n",
       "      <td>180.0</td>\n",
       "      <td>منطقه 9 محله هنرستان  خیابان هاشمیه</td>\n",
       "      <td>آپارتمان     متر برج باران\\r\\nمتفاوت و خاص \\n...</td>\n",
       "      <td>36.310605</td>\n",
       "      <td>59.504477</td>\n",
       "      <td>1 سال ساخت</td>\n",
       "      <td>-130</td>\n",
       "      <td>3.0</td>\n",
       "      <td>0 تومان</td>\n",
       "    </tr>\n",
       "    <tr>\n",
       "      <th>37678</th>\n",
       "      <td>فروش آپارتمان</td>\n",
       "      <td>140.0</td>\n",
       "      <td>منطقه 12 محله الهیه  خیابان الهیه</td>\n",
       "      <td>متر دو واحدی برنددرجه یک منطقه\\r\\nبا سلام\\...</td>\n",
       "      <td>36.373776</td>\n",
       "      <td>59.475820</td>\n",
       "      <td>تازه ساز</td>\n",
       "      <td>-130</td>\n",
       "      <td>3.0</td>\n",
       "      <td>5,100,000,000 تومان</td>\n",
       "    </tr>\n",
       "    <tr>\n",
       "      <th>40874</th>\n",
       "      <td>فروش آپارتمان</td>\n",
       "      <td>240.0</td>\n",
       "      <td>منطقه 1 محله بعثت  خیابان کوهسنگی</td>\n",
       "      <td>آپارتمان    متر برج باران\\r\\nمتفاوت وخاص \\n\\n...</td>\n",
       "      <td>36.287180</td>\n",
       "      <td>59.574720</td>\n",
       "      <td>1 سال ساخت</td>\n",
       "      <td>-130</td>\n",
       "      <td>3.0</td>\n",
       "      <td>0 تومان</td>\n",
       "    </tr>\n",
       "  </tbody>\n",
       "</table>\n",
       "</div>"
      ],
      "text/plain": [
       "                type    area                                neighborhood  \\\n",
       "5862   فروش آپارتمان  1920.0  منطقه 7 محله 17 شهریور  خیابان هفده شهریور   \n",
       "9938   فروش آپارتمان   340.0           منطقه 1 محله بعثت  خیابان کوهسنگی   \n",
       "14547  فروش آپارتمان   330.0        منطقه 9 محله هنرستان  خیابان هنرستان   \n",
       "19332  فروش آپارتمان    85.0           منطقه 12 محله الهیه  خیابان الهیه   \n",
       "19868  فروش آپارتمان   250.0           منطقه 1 محله بعثت  خیابان کوهسنگی   \n",
       "22666  فروش آپارتمان  3627.0  منطقه 8 محله چهارراه لشکر  خیابان امام رضا   \n",
       "23124  فروش آپارتمان   142.0  منطقه 8 محله چهارراه لشکر  خیابان امام رضا   \n",
       "27906  فروش آپارتمان   200.0            منطقه 1 محله سجاد  خیابان فلسطین   \n",
       "30583  فروش آپارتمان   180.0         منطقه 9 محله هنرستان  خیابان هاشمیه   \n",
       "37678  فروش آپارتمان   140.0           منطقه 12 محله الهیه  خیابان الهیه   \n",
       "40874  فروش آپارتمان   240.0           منطقه 1 محله بعثت  خیابان کوهسنگی   \n",
       "\n",
       "                                             description   latitude  \\\n",
       "5862    هتل آپارتمان صفر نزدیک حرم\\r\\nبه نام خدا\\n\\n⚜...  36.276045   \n",
       "9938    آپارتمان     متر برج باران\\r\\nبرند باران \\n\\n...  36.287180   \n",
       "14547   برج پنت هاوس    متر\\r\\n✅محمد بیداری - مسکن بی...  36.313811   \n",
       "19332     متر . فول  واحدی رحمانیه سند آماده تک برگ\\r...  36.376953   \n",
       "19868   آپارتمان     متر برج الیزه\\r\\nبرج سفارشی  با ...  36.287180   \n",
       "22666       متر هتل فروشی\\r\\n     متر زمین در دو ساخت...  36.272780   \n",
       "23124   پیش فروش آپارتمان  خوابه گل اندیشه و شریعتی\\r...  36.272780   \n",
       "27906      متراستانه‌شرقی غربی  اتاق\\r\\nمعاوضه‌‌یافرو...  36.308098   \n",
       "30583   آپارتمان     متر برج باران\\r\\nمتفاوت و خاص \\n...  36.310605   \n",
       "37678      متر دو واحدی برنددرجه یک منطقه\\r\\nبا سلام\\...  36.373776   \n",
       "40874   آپارتمان    متر برج باران\\r\\nمتفاوت وخاص \\n\\n...  36.287180   \n",
       "\n",
       "       longitude          age  floor  bedrooms                     price  \n",
       "5862   59.617282     تازه ساز   -130       5.0   50,000,000,000 تومان     \n",
       "9938   59.574720   1 سال ساخت   -130       4.0                0 تومان     \n",
       "14547  59.500077     تازه ساز   -130       4.0   48,000,000,000 تومان     \n",
       "19332  59.459780   2 سال ساخت   -130       2.0    2,690,000,000 تومان     \n",
       "19868  59.574720   1 سال ساخت   -130       3.0                0 تومان     \n",
       "22666  59.602730   7 سال ساخت   -130       5.0  320,000,000,000 تومان     \n",
       "23124  59.602730     تازه ساز   -130       3.0    1,111,111,111 تومان     \n",
       "27906  59.562786  16 سال ساخت   -130       2.0   14,000,000,000 تومان     \n",
       "30583  59.504477   1 سال ساخت   -130       3.0                0 تومان     \n",
       "37678  59.475820     تازه ساز   -130       3.0    5,100,000,000 تومان     \n",
       "40874  59.574720   1 سال ساخت   -130       3.0                0 تومان     "
      ]
     },
     "execution_count": 11,
     "metadata": {},
     "output_type": "execute_result"
    }
   ],
   "source": [
    "data.loc[data['floor'] < -1]"
   ]
  },
  {
   "cell_type": "markdown",
   "metadata": {},
   "source": [
    "Floor of -130 is probably the default NaN value"
   ]
  },
  {
   "cell_type": "code",
   "execution_count": null,
   "metadata": {},
   "outputs": [],
   "source": [
    "data['floor'].replace(-130, float('nan'), inplace=True)"
   ]
  },
  {
   "cell_type": "code",
   "execution_count": null,
   "metadata": {},
   "outputs": [
    {
     "data": {
      "text/plain": [
       "11"
      ]
     },
     "execution_count": 13,
     "metadata": {},
     "output_type": "execute_result"
    }
   ],
   "source": [
    "data['floor'].isna().sum()"
   ]
  },
  {
   "cell_type": "markdown",
   "metadata": {},
   "source": [
    "### Bedrooms"
   ]
  },
  {
   "cell_type": "code",
   "execution_count": null,
   "metadata": {},
   "outputs": [
    {
     "data": {
      "text/html": [
       "<div>\n",
       "<style scoped>\n",
       "    .dataframe tbody tr th:only-of-type {\n",
       "        vertical-align: middle;\n",
       "    }\n",
       "\n",
       "    .dataframe tbody tr th {\n",
       "        vertical-align: top;\n",
       "    }\n",
       "\n",
       "    .dataframe thead th {\n",
       "        text-align: right;\n",
       "    }\n",
       "</style>\n",
       "<table border=\"1\" class=\"dataframe\">\n",
       "  <thead>\n",
       "    <tr style=\"text-align: right;\">\n",
       "      <th></th>\n",
       "      <th>type</th>\n",
       "      <th>area</th>\n",
       "      <th>neighborhood</th>\n",
       "      <th>description</th>\n",
       "      <th>latitude</th>\n",
       "      <th>longitude</th>\n",
       "      <th>age</th>\n",
       "      <th>floor</th>\n",
       "      <th>bedrooms</th>\n",
       "      <th>price</th>\n",
       "    </tr>\n",
       "  </thead>\n",
       "  <tbody>\n",
       "    <tr>\n",
       "      <th>55</th>\n",
       "      <td>فروش آپارتمان</td>\n",
       "      <td>0.0</td>\n",
       "      <td>منطقه 2 محله کوی امیرالمومنین  خیابان کوی امیر...</td>\n",
       "      <td>سه خواب/صفر/فول\\r\\nبا سلام \\nآپارتمان واقع در...</td>\n",
       "      <td>36.341250</td>\n",
       "      <td>59.571770</td>\n",
       "      <td>تازه ساز</td>\n",
       "      <td>0.0</td>\n",
       "      <td>0.0</td>\n",
       "      <td>0 تومان</td>\n",
       "    </tr>\n",
       "    <tr>\n",
       "      <th>59</th>\n",
       "      <td>فروش آپارتمان</td>\n",
       "      <td>0.0</td>\n",
       "      <td>منطقه 12 محله الهیه  خیابان الهیه</td>\n",
       "      <td>متری-روژان-سه نبش\\r\\nبا سلام\\nواحد در حال ...</td>\n",
       "      <td>36.378821</td>\n",
       "      <td>59.462804</td>\n",
       "      <td>تازه ساز</td>\n",
       "      <td>0.0</td>\n",
       "      <td>0.0</td>\n",
       "      <td>0 تومان</td>\n",
       "    </tr>\n",
       "    <tr>\n",
       "      <th>73</th>\n",
       "      <td>فروش آپارتمان</td>\n",
       "      <td>125.0</td>\n",
       "      <td>منطقه 11 محله آزاد شهر  خیابان آزادشهر</td>\n",
       "      <td>مترى سروش جلال بین مهران و اموزگار\\r\\nدرو...</td>\n",
       "      <td>36.327540</td>\n",
       "      <td>59.527520</td>\n",
       "      <td>تازه ساز</td>\n",
       "      <td>0.0</td>\n",
       "      <td>0.0</td>\n",
       "      <td>0 تومان</td>\n",
       "    </tr>\n",
       "    <tr>\n",
       "      <th>83</th>\n",
       "      <td>فروش آپارتمان</td>\n",
       "      <td>160.0</td>\n",
       "      <td>منطقه 2 محله فرامرز عباسی  خیابان فرامرز عباسی</td>\n",
       "      <td>متری*انتهای فرامرز\\r\\n    متری سه خواب\\nم...</td>\n",
       "      <td>36.346940</td>\n",
       "      <td>59.557926</td>\n",
       "      <td>تازه ساز</td>\n",
       "      <td>0.0</td>\n",
       "      <td>0.0</td>\n",
       "      <td>0 تومان</td>\n",
       "    </tr>\n",
       "    <tr>\n",
       "      <th>120</th>\n",
       "      <td>فروش آپارتمان</td>\n",
       "      <td>0.0</td>\n",
       "      <td>منطقه 11 محله آزاد شهر  خیابان فرهنگ</td>\n",
       "      <td>سید رضی    تک واحدی\\r\\n.\\n                   ...</td>\n",
       "      <td>36.328550</td>\n",
       "      <td>59.513390</td>\n",
       "      <td>تازه ساز</td>\n",
       "      <td>0.0</td>\n",
       "      <td>0.0</td>\n",
       "      <td>0 تومان</td>\n",
       "    </tr>\n",
       "    <tr>\n",
       "      <th>...</th>\n",
       "      <td>...</td>\n",
       "      <td>...</td>\n",
       "      <td>...</td>\n",
       "      <td>...</td>\n",
       "      <td>...</td>\n",
       "      <td>...</td>\n",
       "      <td>...</td>\n",
       "      <td>...</td>\n",
       "      <td>...</td>\n",
       "      <td>...</td>\n",
       "    </tr>\n",
       "    <tr>\n",
       "      <th>48073</th>\n",
       "      <td>فروش آپارتمان</td>\n",
       "      <td>500.0</td>\n",
       "      <td>منطقه 9 محله رضاشهر  خیابان رضاشهر</td>\n",
       "      <td>مشارکت درساخت    مترشمالی رضاشهر\\r\\nقابل توجه...</td>\n",
       "      <td>36.288372</td>\n",
       "      <td>59.540913</td>\n",
       "      <td>تازه ساز</td>\n",
       "      <td>0.0</td>\n",
       "      <td>0.0</td>\n",
       "      <td>0 تومان</td>\n",
       "    </tr>\n",
       "    <tr>\n",
       "      <th>48074</th>\n",
       "      <td>فروش آپارتمان</td>\n",
       "      <td>200.0</td>\n",
       "      <td>منطقه 12 محله الهیه  خیابان الهیه</td>\n",
       "      <td>متر تک واحدی مدرن بدون مشابه\\r\\nالهیه - \\n...</td>\n",
       "      <td>36.373776</td>\n",
       "      <td>59.475820</td>\n",
       "      <td>تازه ساز</td>\n",
       "      <td>0.0</td>\n",
       "      <td>0.0</td>\n",
       "      <td>0 تومان</td>\n",
       "    </tr>\n",
       "    <tr>\n",
       "      <th>48086</th>\n",
       "      <td>فروش آپارتمان</td>\n",
       "      <td>100.0</td>\n",
       "      <td>منطقه 10 محله قاسم آباد  خیابان قاسم آباد</td>\n",
       "      <td>متر پیش فروش ادیب   \\r\\n** بنام خدای مهربا...</td>\n",
       "      <td>36.360020</td>\n",
       "      <td>59.517400</td>\n",
       "      <td>تازه ساز</td>\n",
       "      <td>0.0</td>\n",
       "      <td>0.0</td>\n",
       "      <td>0 تومان</td>\n",
       "    </tr>\n",
       "    <tr>\n",
       "      <th>48091</th>\n",
       "      <td>فروش آپارتمان</td>\n",
       "      <td>125.0</td>\n",
       "      <td>منطقه 12 محله الهیه  خیابان الهیه</td>\n",
       "      <td>آپارتمان پیش‌فروش    متری رحمانیه \\r\\nباسلام ...</td>\n",
       "      <td>36.373776</td>\n",
       "      <td>59.475820</td>\n",
       "      <td>تازه ساز</td>\n",
       "      <td>0.0</td>\n",
       "      <td>0.0</td>\n",
       "      <td>0 تومان</td>\n",
       "    </tr>\n",
       "    <tr>\n",
       "      <th>48120</th>\n",
       "      <td>فروش آپارتمان</td>\n",
       "      <td>95.0</td>\n",
       "      <td>منطقه 12 محله الهیه  خیابان الهیه</td>\n",
       "      <td>آپارتمان    متر دو خوابه\\r\\nآپارتمان    متر د...</td>\n",
       "      <td>36.370980</td>\n",
       "      <td>59.478207</td>\n",
       "      <td>تازه ساز</td>\n",
       "      <td>0.0</td>\n",
       "      <td>0.0</td>\n",
       "      <td>0 تومان</td>\n",
       "    </tr>\n",
       "  </tbody>\n",
       "</table>\n",
       "<p>2316 rows × 10 columns</p>\n",
       "</div>"
      ],
      "text/plain": [
       "                type   area  \\\n",
       "55     فروش آپارتمان    0.0   \n",
       "59     فروش آپارتمان    0.0   \n",
       "73     فروش آپارتمان  125.0   \n",
       "83     فروش آپارتمان  160.0   \n",
       "120    فروش آپارتمان    0.0   \n",
       "...              ...    ...   \n",
       "48073  فروش آپارتمان  500.0   \n",
       "48074  فروش آپارتمان  200.0   \n",
       "48086  فروش آپارتمان  100.0   \n",
       "48091  فروش آپارتمان  125.0   \n",
       "48120  فروش آپارتمان   95.0   \n",
       "\n",
       "                                            neighborhood  \\\n",
       "55     منطقه 2 محله کوی امیرالمومنین  خیابان کوی امیر...   \n",
       "59                     منطقه 12 محله الهیه  خیابان الهیه   \n",
       "73                منطقه 11 محله آزاد شهر  خیابان آزادشهر   \n",
       "83        منطقه 2 محله فرامرز عباسی  خیابان فرامرز عباسی   \n",
       "120                 منطقه 11 محله آزاد شهر  خیابان فرهنگ   \n",
       "...                                                  ...   \n",
       "48073                 منطقه 9 محله رضاشهر  خیابان رضاشهر   \n",
       "48074                  منطقه 12 محله الهیه  خیابان الهیه   \n",
       "48086          منطقه 10 محله قاسم آباد  خیابان قاسم آباد   \n",
       "48091                  منطقه 12 محله الهیه  خیابان الهیه   \n",
       "48120                  منطقه 12 محله الهیه  خیابان الهیه   \n",
       "\n",
       "                                             description   latitude  \\\n",
       "55      سه خواب/صفر/فول\\r\\nبا سلام \\nآپارتمان واقع در...  36.341250   \n",
       "59         متری-روژان-سه نبش\\r\\nبا سلام\\nواحد در حال ...  36.378821   \n",
       "73          مترى سروش جلال بین مهران و اموزگار\\r\\nدرو...  36.327540   \n",
       "83          متری*انتهای فرامرز\\r\\n    متری سه خواب\\nم...  36.346940   \n",
       "120     سید رضی    تک واحدی\\r\\n.\\n                   ...  36.328550   \n",
       "...                                                  ...        ...   \n",
       "48073   مشارکت درساخت    مترشمالی رضاشهر\\r\\nقابل توجه...  36.288372   \n",
       "48074      متر تک واحدی مدرن بدون مشابه\\r\\nالهیه - \\n...  36.373776   \n",
       "48086      متر پیش فروش ادیب   \\r\\n** بنام خدای مهربا...  36.360020   \n",
       "48091   آپارتمان پیش‌فروش    متری رحمانیه \\r\\nباسلام ...  36.373776   \n",
       "48120   آپارتمان    متر دو خوابه\\r\\nآپارتمان    متر د...  36.370980   \n",
       "\n",
       "       longitude       age  floor  bedrooms       price  \n",
       "55     59.571770  تازه ساز    0.0       0.0  0 تومان     \n",
       "59     59.462804  تازه ساز    0.0       0.0  0 تومان     \n",
       "73     59.527520  تازه ساز    0.0       0.0  0 تومان     \n",
       "83     59.557926  تازه ساز    0.0       0.0  0 تومان     \n",
       "120    59.513390  تازه ساز    0.0       0.0  0 تومان     \n",
       "...          ...       ...    ...       ...         ...  \n",
       "48073  59.540913  تازه ساز    0.0       0.0  0 تومان     \n",
       "48074  59.475820  تازه ساز    0.0       0.0  0 تومان     \n",
       "48086  59.517400  تازه ساز    0.0       0.0  0 تومان     \n",
       "48091  59.475820  تازه ساز    0.0       0.0  0 تومان     \n",
       "48120  59.478207  تازه ساز    0.0       0.0  0 تومان     \n",
       "\n",
       "[2316 rows x 10 columns]"
      ]
     },
     "execution_count": 14,
     "metadata": {},
     "output_type": "execute_result"
    }
   ],
   "source": [
    "data.loc[data['bedrooms'] < 1]"
   ]
  },
  {
   "cell_type": "markdown",
   "metadata": {},
   "source": [
    "Most of the 0 bedrooms also have 0 bedrooms and price.  \n",
    "this means some 0 floors mean NaN, and not ground floor.  \n",
    "\n",
    "There is no way of knowing, except to drop the ones that lack a price"
   ]
  },
  {
   "cell_type": "code",
   "execution_count": null,
   "metadata": {},
   "outputs": [],
   "source": [
    "# Replacing 0 with NaN so the model wont be misinformed\n",
    "data['bedrooms'].replace(0, float('nan'), inplace=True)"
   ]
  },
  {
   "cell_type": "markdown",
   "metadata": {},
   "source": [
    "### Price"
   ]
  },
  {
   "cell_type": "code",
   "execution_count": null,
   "metadata": {},
   "outputs": [],
   "source": [
    "data['price'] = data['price'].str.replace(' تومان','')"
   ]
  },
  {
   "cell_type": "code",
   "execution_count": null,
   "metadata": {},
   "outputs": [],
   "source": [
    "data['price'] = data['price'].str.replace(',', '')"
   ]
  },
  {
   "cell_type": "code",
   "execution_count": null,
   "metadata": {},
   "outputs": [],
   "source": [
    "data['price'] = data['price'].str.replace('توافقی', '0')"
   ]
  },
  {
   "cell_type": "code",
   "execution_count": null,
   "metadata": {},
   "outputs": [],
   "source": [
    "data['price'] = data['price'].astype('int64') # int and int32 are too short"
   ]
  },
  {
   "cell_type": "markdown",
   "metadata": {},
   "source": [
    "Prices with 0 value should be dropped. This will also drop many 0 valued floors and bedrooms, making the other true zeros(ground floors) more accurate"
   ]
  },
  {
   "cell_type": "code",
   "execution_count": null,
   "metadata": {},
   "outputs": [
    {
     "name": "stdout",
     "output_type": "stream",
     "text": [
      "<class 'pandas.core.series.Series'>\n",
      "RangeIndex: 48121 entries, 0 to 48120\n",
      "Series name: price\n",
      "Non-Null Count  Dtype\n",
      "--------------  -----\n",
      "48121 non-null  int64\n",
      "dtypes: int64(1)\n",
      "memory usage: 376.1 KB\n"
     ]
    }
   ],
   "source": [
    "data['price'].info()"
   ]
  },
  {
   "cell_type": "code",
   "execution_count": null,
   "metadata": {},
   "outputs": [],
   "source": [
    "data = data.drop(data[data['price'] == 0].index)"
   ]
  },
  {
   "cell_type": "code",
   "execution_count": null,
   "metadata": {},
   "outputs": [],
   "source": [
    "data = data.drop(data[data['price'] == 1111111].index)\n",
    "data = data.drop(data[data['price'] == 11111111].index)"
   ]
  },
  {
   "cell_type": "markdown",
   "metadata": {},
   "source": [
    "### Price => sqmprice"
   ]
  },
  {
   "cell_type": "code",
   "execution_count": null,
   "metadata": {},
   "outputs": [],
   "source": [
    "data['sqmprice'] = data['price'] // data['area']"
   ]
  },
  {
   "cell_type": "code",
   "execution_count": null,
   "metadata": {},
   "outputs": [
    {
     "data": {
      "text/plain": [
       "<bound method NDFrame.describe of 0        30136986.0\n",
       "1        48000000.0\n",
       "2        72857142.0\n",
       "3        13384615.0\n",
       "4        26750000.0\n",
       "            ...    \n",
       "48115    46363636.0\n",
       "48116    37272727.0\n",
       "48117    39285714.0\n",
       "48118    31538461.0\n",
       "48119    37647058.0\n",
       "Name: sqmprice, Length: 46065, dtype: float64>"
      ]
     },
     "execution_count": 24,
     "metadata": {},
     "output_type": "execute_result"
    }
   ],
   "source": [
    "data['sqmprice'].describe"
   ]
  },
  {
   "cell_type": "markdown",
   "metadata": {},
   "source": [
    "### Age"
   ]
  },
  {
   "cell_type": "code",
   "execution_count": null,
   "metadata": {},
   "outputs": [
    {
     "data": {
      "text/plain": [
       "array(['11 سال ساخت', '7 سال ساخت', 'تازه ساز', '6 سال ساخت',\n",
       "       '10 سال ساخت', '15 سال ساخت', '4 سال ساخت', '23 سال ساخت',\n",
       "       '9 سال ساخت', '2 سال ساخت', '30 سال ساخت', '17 سال ساخت',\n",
       "       '27 سال ساخت', '20 سال ساخت', '24 سال ساخت', '14 سال ساخت',\n",
       "       '12 سال ساخت', '1 سال ساخت', '8 سال ساخت', nan, '16 سال ساخت',\n",
       "       '5 سال ساخت', '13 سال ساخت', '21 سال ساخت', '25 سال ساخت',\n",
       "       '3 سال ساخت', '19 سال ساخت', '22 سال ساخت', '28 سال ساخت',\n",
       "       '18 سال ساخت', '1402 سال ساخت', '31 سال ساخت', '26 سال ساخت',\n",
       "       '29 سال ساخت', '98 سال ساخت', '40 سال ساخت', '1387 سال ساخت',\n",
       "       '1401 سال ساخت', '38 سال ساخت', '41 سال ساخت'], dtype=object)"
      ]
     },
     "execution_count": 25,
     "metadata": {},
     "output_type": "execute_result"
    }
   ],
   "source": [
    "data['age'].unique()"
   ]
  },
  {
   "cell_type": "code",
   "execution_count": null,
   "metadata": {},
   "outputs": [],
   "source": [
    "data['age'] = data['age'].str.replace('تازه ساز', '0')"
   ]
  },
  {
   "cell_type": "code",
   "execution_count": null,
   "metadata": {},
   "outputs": [],
   "source": [
    "data['age'] = data['age'].str.replace(' سال ساخت', '')"
   ]
  },
  {
   "cell_type": "code",
   "execution_count": null,
   "metadata": {},
   "outputs": [
    {
     "data": {
      "text/plain": [
       "array(['11', '7', '0', '6', '10', '15', '4', '23', '9', '2', '30', '17',\n",
       "       '27', '20', '24', '14', '12', '1', '8', nan, '16', '5', '13', '21',\n",
       "       '25', '3', '19', '22', '28', '18', '1402', '31', '26', '29', '98',\n",
       "       '40', '1387', '1401', '38', '41'], dtype=object)"
      ]
     },
     "execution_count": 28,
     "metadata": {},
     "output_type": "execute_result"
    }
   ],
   "source": [
    "data['age'].unique()"
   ]
  },
  {
   "cell_type": "code",
   "execution_count": null,
   "metadata": {},
   "outputs": [],
   "source": [
    "# Best way to ignore NaN values is to convert to Float\n",
    "data['age'] = data['age'].astype(float)"
   ]
  },
  {
   "cell_type": "markdown",
   "metadata": {},
   "source": [
    "0 is the default value for NaN, so we change them so"
   ]
  },
  {
   "cell_type": "code",
   "execution_count": null,
   "metadata": {},
   "outputs": [
    {
     "data": {
      "text/plain": [
       "13562"
      ]
     },
     "execution_count": 30,
     "metadata": {},
     "output_type": "execute_result"
    }
   ],
   "source": [
    "data['age'].replace(0, float('nan'), inplace=True)\n",
    "data['age'].isna().sum()"
   ]
  },
  {
   "cell_type": "markdown",
   "metadata": {},
   "source": [
    "We unfortunately can't delete, nor fill them. so we have to leave them as is."
   ]
  },
  {
   "cell_type": "code",
   "execution_count": null,
   "metadata": {},
   "outputs": [
    {
     "data": {
      "text/html": [
       "<div>\n",
       "<style scoped>\n",
       "    .dataframe tbody tr th:only-of-type {\n",
       "        vertical-align: middle;\n",
       "    }\n",
       "\n",
       "    .dataframe tbody tr th {\n",
       "        vertical-align: top;\n",
       "    }\n",
       "\n",
       "    .dataframe thead th {\n",
       "        text-align: right;\n",
       "    }\n",
       "</style>\n",
       "<table border=\"1\" class=\"dataframe\">\n",
       "  <thead>\n",
       "    <tr style=\"text-align: right;\">\n",
       "      <th></th>\n",
       "      <th>type</th>\n",
       "      <th>area</th>\n",
       "      <th>neighborhood</th>\n",
       "      <th>description</th>\n",
       "      <th>latitude</th>\n",
       "      <th>longitude</th>\n",
       "      <th>age</th>\n",
       "      <th>floor</th>\n",
       "      <th>bedrooms</th>\n",
       "      <th>price</th>\n",
       "      <th>sqmprice</th>\n",
       "    </tr>\n",
       "  </thead>\n",
       "  <tbody>\n",
       "    <tr>\n",
       "      <th>227</th>\n",
       "      <td>فروش آپارتمان</td>\n",
       "      <td>155.0</td>\n",
       "      <td>منطقه 2 محله کوی امیرالمومنین  خیابان ولیعصر</td>\n",
       "      <td>میلان    متری حاشیه ملک   متر</td>\n",
       "      <td>36.204212</td>\n",
       "      <td>59.662045</td>\n",
       "      <td>1402.0</td>\n",
       "      <td>-1.0</td>\n",
       "      <td>3.0</td>\n",
       "      <td>3720000000</td>\n",
       "      <td>24000000.0</td>\n",
       "    </tr>\n",
       "    <tr>\n",
       "      <th>3641</th>\n",
       "      <td>فروش آپارتمان</td>\n",
       "      <td>115.0</td>\n",
       "      <td>منطقه 12 محله الهیه  خیابان الهیه</td>\n",
       "      <td>NaN</td>\n",
       "      <td>36.373776</td>\n",
       "      <td>59.475820</td>\n",
       "      <td>98.0</td>\n",
       "      <td>3.0</td>\n",
       "      <td>2.0</td>\n",
       "      <td>3450000000</td>\n",
       "      <td>30000000.0</td>\n",
       "    </tr>\n",
       "    <tr>\n",
       "      <th>11144</th>\n",
       "      <td>فروش آپارتمان</td>\n",
       "      <td>190.0</td>\n",
       "      <td>منطقه 10 محله قاسم آباد  خیابان امامیه</td>\n",
       "      <td>زیر بنا    متر\\r\\n\\r\\n نبش جنوبی \\r\\n\\r\\nقوی ...</td>\n",
       "      <td>36.362476</td>\n",
       "      <td>59.515076</td>\n",
       "      <td>1402.0</td>\n",
       "      <td>2.0</td>\n",
       "      <td>3.0</td>\n",
       "      <td>6800000000</td>\n",
       "      <td>35789473.0</td>\n",
       "    </tr>\n",
       "    <tr>\n",
       "      <th>20015</th>\n",
       "      <td>فروش آپارتمان</td>\n",
       "      <td>165.0</td>\n",
       "      <td>منطقه 2 محله کوی امیرالمومنین  خیابان ولیعصر</td>\n",
       "      <td>NaN</td>\n",
       "      <td>36.204212</td>\n",
       "      <td>59.662045</td>\n",
       "      <td>1402.0</td>\n",
       "      <td>6.0</td>\n",
       "      <td>3.0</td>\n",
       "      <td>3950000000</td>\n",
       "      <td>23939393.0</td>\n",
       "    </tr>\n",
       "    <tr>\n",
       "      <th>21791</th>\n",
       "      <td>فروش آپارتمان</td>\n",
       "      <td>92.0</td>\n",
       "      <td>منطقه 9 محله آب و برق   خیابان لادن</td>\n",
       "      <td>بهترین موقعیت مکانی</td>\n",
       "      <td>36.329591</td>\n",
       "      <td>59.474027</td>\n",
       "      <td>1387.0</td>\n",
       "      <td>1.0</td>\n",
       "      <td>2.0</td>\n",
       "      <td>3500000000</td>\n",
       "      <td>38043478.0</td>\n",
       "    </tr>\n",
       "    <tr>\n",
       "      <th>28506</th>\n",
       "      <td>فروش آپارتمان</td>\n",
       "      <td>110.0</td>\n",
       "      <td>منطقه 9 محله رضاشهر  خیابان سرافرازان</td>\n",
       "      <td>فروش فوری \\r\\nصفر    متر \\r\\nانتقال سند   الی...</td>\n",
       "      <td>36.290086</td>\n",
       "      <td>59.502946</td>\n",
       "      <td>1401.0</td>\n",
       "      <td>4.0</td>\n",
       "      <td>2.0</td>\n",
       "      <td>3750000000</td>\n",
       "      <td>34090909.0</td>\n",
       "    </tr>\n",
       "  </tbody>\n",
       "</table>\n",
       "</div>"
      ],
      "text/plain": [
       "                type   area                                  neighborhood  \\\n",
       "227    فروش آپارتمان  155.0  منطقه 2 محله کوی امیرالمومنین  خیابان ولیعصر   \n",
       "3641   فروش آپارتمان  115.0             منطقه 12 محله الهیه  خیابان الهیه   \n",
       "11144  فروش آپارتمان  190.0        منطقه 10 محله قاسم آباد  خیابان امامیه   \n",
       "20015  فروش آپارتمان  165.0  منطقه 2 محله کوی امیرالمومنین  خیابان ولیعصر   \n",
       "21791  فروش آپارتمان   92.0           منطقه 9 محله آب و برق   خیابان لادن   \n",
       "28506  فروش آپارتمان  110.0         منطقه 9 محله رضاشهر  خیابان سرافرازان   \n",
       "\n",
       "                                             description   latitude  \\\n",
       "227                      میلان    متری حاشیه ملک   متر    36.204212   \n",
       "3641                                                 NaN  36.373776   \n",
       "11144   زیر بنا    متر\\r\\n\\r\\n نبش جنوبی \\r\\n\\r\\nقوی ...  36.362476   \n",
       "20015                                                NaN  36.204212   \n",
       "21791                              بهترین موقعیت مکانی    36.329591   \n",
       "28506   فروش فوری \\r\\nصفر    متر \\r\\nانتقال سند   الی...  36.290086   \n",
       "\n",
       "       longitude     age  floor  bedrooms       price    sqmprice  \n",
       "227    59.662045  1402.0   -1.0       3.0  3720000000  24000000.0  \n",
       "3641   59.475820    98.0    3.0       2.0  3450000000  30000000.0  \n",
       "11144  59.515076  1402.0    2.0       3.0  6800000000  35789473.0  \n",
       "20015  59.662045  1402.0    6.0       3.0  3950000000  23939393.0  \n",
       "21791  59.474027  1387.0    1.0       2.0  3500000000  38043478.0  \n",
       "28506  59.502946  1401.0    4.0       2.0  3750000000  34090909.0  "
      ]
     },
     "execution_count": 31,
     "metadata": {},
     "output_type": "execute_result"
    }
   ],
   "source": [
    "data.loc[data['age'] > 80]"
   ]
  },
  {
   "cell_type": "code",
   "execution_count": null,
   "metadata": {},
   "outputs": [],
   "source": [
    "# Hand correcting that single one (and also to make automated correction easier)\n",
    "data['age'] = data['age'].replace(98.0, 4.0)"
   ]
  },
  {
   "cell_type": "code",
   "execution_count": null,
   "metadata": {},
   "outputs": [],
   "source": [
    "# Correcting the 13xx/14xx dates with their age rather than year built\n",
    "data.loc[data['age'] > 1300, 'age'] = 1402 - data['age']"
   ]
  },
  {
   "cell_type": "code",
   "execution_count": null,
   "metadata": {},
   "outputs": [
    {
     "data": {
      "text/html": [
       "<div>\n",
       "<style scoped>\n",
       "    .dataframe tbody tr th:only-of-type {\n",
       "        vertical-align: middle;\n",
       "    }\n",
       "\n",
       "    .dataframe tbody tr th {\n",
       "        vertical-align: top;\n",
       "    }\n",
       "\n",
       "    .dataframe thead th {\n",
       "        text-align: right;\n",
       "    }\n",
       "</style>\n",
       "<table border=\"1\" class=\"dataframe\">\n",
       "  <thead>\n",
       "    <tr style=\"text-align: right;\">\n",
       "      <th></th>\n",
       "      <th>area</th>\n",
       "      <th>latitude</th>\n",
       "      <th>longitude</th>\n",
       "      <th>age</th>\n",
       "      <th>floor</th>\n",
       "      <th>bedrooms</th>\n",
       "      <th>price</th>\n",
       "      <th>sqmprice</th>\n",
       "    </tr>\n",
       "  </thead>\n",
       "  <tbody>\n",
       "    <tr>\n",
       "      <th>count</th>\n",
       "      <td>46065.000000</td>\n",
       "      <td>46064.000000</td>\n",
       "      <td>46064.000000</td>\n",
       "      <td>32503.000000</td>\n",
       "      <td>46058.000000</td>\n",
       "      <td>45763.000000</td>\n",
       "      <td>4.606500e+04</td>\n",
       "      <td>46065.0</td>\n",
       "    </tr>\n",
       "    <tr>\n",
       "      <th>mean</th>\n",
       "      <td>168.283912</td>\n",
       "      <td>36.330782</td>\n",
       "      <td>59.529927</td>\n",
       "      <td>10.011814</td>\n",
       "      <td>2.396392</td>\n",
       "      <td>2.394926</td>\n",
       "      <td>6.786497e+09</td>\n",
       "      <td>inf</td>\n",
       "    </tr>\n",
       "    <tr>\n",
       "      <th>std</th>\n",
       "      <td>2142.794623</td>\n",
       "      <td>0.034497</td>\n",
       "      <td>0.054646</td>\n",
       "      <td>7.414401</td>\n",
       "      <td>1.778091</td>\n",
       "      <td>0.838044</td>\n",
       "      <td>2.711606e+10</td>\n",
       "      <td>NaN</td>\n",
       "    </tr>\n",
       "    <tr>\n",
       "      <th>min</th>\n",
       "      <td>0.000000</td>\n",
       "      <td>34.929853</td>\n",
       "      <td>58.863373</td>\n",
       "      <td>0.000000</td>\n",
       "      <td>-1.000000</td>\n",
       "      <td>1.000000</td>\n",
       "      <td>6.000000e+06</td>\n",
       "      <td>17550.0</td>\n",
       "    </tr>\n",
       "    <tr>\n",
       "      <th>25%</th>\n",
       "      <td>86.000000</td>\n",
       "      <td>36.310243</td>\n",
       "      <td>59.475820</td>\n",
       "      <td>4.000000</td>\n",
       "      <td>1.000000</td>\n",
       "      <td>2.000000</td>\n",
       "      <td>2.650000e+09</td>\n",
       "      <td>28571428.0</td>\n",
       "    </tr>\n",
       "    <tr>\n",
       "      <th>50%</th>\n",
       "      <td>112.000000</td>\n",
       "      <td>36.327540</td>\n",
       "      <td>59.517400</td>\n",
       "      <td>9.000000</td>\n",
       "      <td>2.000000</td>\n",
       "      <td>2.000000</td>\n",
       "      <td>3.900000e+09</td>\n",
       "      <td>35000000.0</td>\n",
       "    </tr>\n",
       "    <tr>\n",
       "      <th>75%</th>\n",
       "      <td>156.000000</td>\n",
       "      <td>36.362376</td>\n",
       "      <td>59.571770</td>\n",
       "      <td>15.000000</td>\n",
       "      <td>4.000000</td>\n",
       "      <td>3.000000</td>\n",
       "      <td>6.600000e+09</td>\n",
       "      <td>46000000.0</td>\n",
       "    </tr>\n",
       "    <tr>\n",
       "      <th>max</th>\n",
       "      <td>300000.000000</td>\n",
       "      <td>36.528536</td>\n",
       "      <td>60.525852</td>\n",
       "      <td>41.000000</td>\n",
       "      <td>30.000000</td>\n",
       "      <td>12.000000</td>\n",
       "      <td>4.300000e+12</td>\n",
       "      <td>inf</td>\n",
       "    </tr>\n",
       "  </tbody>\n",
       "</table>\n",
       "</div>"
      ],
      "text/plain": [
       "                area      latitude     longitude           age         floor  \\\n",
       "count   46065.000000  46064.000000  46064.000000  32503.000000  46058.000000   \n",
       "mean      168.283912     36.330782     59.529927     10.011814      2.396392   \n",
       "std      2142.794623      0.034497      0.054646      7.414401      1.778091   \n",
       "min         0.000000     34.929853     58.863373      0.000000     -1.000000   \n",
       "25%        86.000000     36.310243     59.475820      4.000000      1.000000   \n",
       "50%       112.000000     36.327540     59.517400      9.000000      2.000000   \n",
       "75%       156.000000     36.362376     59.571770     15.000000      4.000000   \n",
       "max    300000.000000     36.528536     60.525852     41.000000     30.000000   \n",
       "\n",
       "           bedrooms         price    sqmprice  \n",
       "count  45763.000000  4.606500e+04     46065.0  \n",
       "mean       2.394926  6.786497e+09         inf  \n",
       "std        0.838044  2.711606e+10         NaN  \n",
       "min        1.000000  6.000000e+06     17550.0  \n",
       "25%        2.000000  2.650000e+09  28571428.0  \n",
       "50%        2.000000  3.900000e+09  35000000.0  \n",
       "75%        3.000000  6.600000e+09  46000000.0  \n",
       "max       12.000000  4.300000e+12         inf  "
      ]
     },
     "execution_count": 34,
     "metadata": {},
     "output_type": "execute_result"
    }
   ],
   "source": [
    "data.describe()"
   ]
  },
  {
   "cell_type": "markdown",
   "metadata": {},
   "source": [
    "### Area"
   ]
  },
  {
   "cell_type": "code",
   "execution_count": null,
   "metadata": {},
   "outputs": [
    {
     "data": {
      "text/html": [
       "<div>\n",
       "<style scoped>\n",
       "    .dataframe tbody tr th:only-of-type {\n",
       "        vertical-align: middle;\n",
       "    }\n",
       "\n",
       "    .dataframe tbody tr th {\n",
       "        vertical-align: top;\n",
       "    }\n",
       "\n",
       "    .dataframe thead th {\n",
       "        text-align: right;\n",
       "    }\n",
       "</style>\n",
       "<table border=\"1\" class=\"dataframe\">\n",
       "  <thead>\n",
       "    <tr style=\"text-align: right;\">\n",
       "      <th></th>\n",
       "      <th>type</th>\n",
       "      <th>area</th>\n",
       "      <th>neighborhood</th>\n",
       "      <th>description</th>\n",
       "      <th>latitude</th>\n",
       "      <th>longitude</th>\n",
       "      <th>age</th>\n",
       "      <th>floor</th>\n",
       "      <th>bedrooms</th>\n",
       "      <th>price</th>\n",
       "      <th>sqmprice</th>\n",
       "    </tr>\n",
       "  </thead>\n",
       "  <tbody>\n",
       "    <tr>\n",
       "      <th>4232</th>\n",
       "      <td>فروش آپارتمان</td>\n",
       "      <td>110000.0</td>\n",
       "      <td>منطقه 8 محله چهارراه لشکر  خیابان بلوار امام خ...</td>\n",
       "      <td>آپارتمان    متری عدل خمینی\\r\\nخونه بسیار تمیز...</td>\n",
       "      <td>36.288100</td>\n",
       "      <td>59.600600</td>\n",
       "      <td>11.0</td>\n",
       "      <td>2.0</td>\n",
       "      <td>2.0</td>\n",
       "      <td>40000000000</td>\n",
       "      <td>363636.0</td>\n",
       "    </tr>\n",
       "    <tr>\n",
       "      <th>5796</th>\n",
       "      <td>فروش آپارتمان</td>\n",
       "      <td>40000.0</td>\n",
       "      <td>منطقه 8 محله چهارراه لشکر  خیابان امام رضا</td>\n",
       "      <td>فروش هتل ستاره بنام مشهد/سندملکی/کارشناسی\\r\\n...</td>\n",
       "      <td>36.272780</td>\n",
       "      <td>59.602730</td>\n",
       "      <td>11.0</td>\n",
       "      <td>6.0</td>\n",
       "      <td>5.0</td>\n",
       "      <td>900000000000</td>\n",
       "      <td>22500000.0</td>\n",
       "    </tr>\n",
       "    <tr>\n",
       "      <th>7208</th>\n",
       "      <td>فروش ویلایی</td>\n",
       "      <td>111111.0</td>\n",
       "      <td>منطقه 2 محله هدایت  خیابان ابوطالب</td>\n",
       "      <td>مغازه و انباری\\r\\nجهت تماس با شماره داخل تصوی...</td>\n",
       "      <td>36.318450</td>\n",
       "      <td>59.587680</td>\n",
       "      <td>NaN</td>\n",
       "      <td>0.0</td>\n",
       "      <td>NaN</td>\n",
       "      <td>1950000000</td>\n",
       "      <td>17550.0</td>\n",
       "    </tr>\n",
       "    <tr>\n",
       "      <th>15554</th>\n",
       "      <td>فروش آپارتمان</td>\n",
       "      <td>300000.0</td>\n",
       "      <td>منطقه 3 محله گاز  خیابان گاز</td>\n",
       "      <td>آپارتمان  طبقه\\r\\nآپارتمان  طبقه .طبقه اول را...</td>\n",
       "      <td>36.315080</td>\n",
       "      <td>59.632800</td>\n",
       "      <td>9.0</td>\n",
       "      <td>0.0</td>\n",
       "      <td>1.0</td>\n",
       "      <td>70000000000</td>\n",
       "      <td>233333.0</td>\n",
       "    </tr>\n",
       "    <tr>\n",
       "      <th>19754</th>\n",
       "      <td>فروش آپارتمان</td>\n",
       "      <td>65000.0</td>\n",
       "      <td>منطقه 4 و 5 محله طلاب  خیابان مفتح</td>\n",
       "      <td>اپارتمان   متری طبقه اول\\r\\nاپارتمان    متری ...</td>\n",
       "      <td>36.296030</td>\n",
       "      <td>59.643700</td>\n",
       "      <td>NaN</td>\n",
       "      <td>1.0</td>\n",
       "      <td>1.0</td>\n",
       "      <td>120000000000</td>\n",
       "      <td>1846153.0</td>\n",
       "    </tr>\n",
       "    <tr>\n",
       "      <th>20449</th>\n",
       "      <td>فروش آپارتمان</td>\n",
       "      <td>17000.0</td>\n",
       "      <td>منطقه 8 محله چهارراه لشکر  خیابان امام رضا</td>\n",
       "      <td>هتل  ستاره صفر کلید نخورده   دقیقه تا حرم اما...</td>\n",
       "      <td>36.272780</td>\n",
       "      <td>59.602730</td>\n",
       "      <td>NaN</td>\n",
       "      <td>16.0</td>\n",
       "      <td>5.0</td>\n",
       "      <td>500000000000</td>\n",
       "      <td>29411764.0</td>\n",
       "    </tr>\n",
       "    <tr>\n",
       "      <th>20716</th>\n",
       "      <td>فروش آپارتمان</td>\n",
       "      <td>125000.0</td>\n",
       "      <td>منطقه 12 محله الهیه  خیابان الهیه</td>\n",
       "      <td>اپارتمان    متری در محمدیه\\r\\nتوضیحات زنگ بزن...</td>\n",
       "      <td>36.373776</td>\n",
       "      <td>59.475820</td>\n",
       "      <td>1.0</td>\n",
       "      <td>6.0</td>\n",
       "      <td>2.0</td>\n",
       "      <td>45000000000</td>\n",
       "      <td>360000.0</td>\n",
       "    </tr>\n",
       "    <tr>\n",
       "      <th>22079</th>\n",
       "      <td>فروش ویلایی</td>\n",
       "      <td>75000.0</td>\n",
       "      <td>منطقه 7 محله سیدی  خیابان کوشش</td>\n",
       "      <td>خانه  ویلایی\\r\\n  متری دردوطبقه مجزامناسب دوخ...</td>\n",
       "      <td>36.265280</td>\n",
       "      <td>59.609260</td>\n",
       "      <td>NaN</td>\n",
       "      <td>0.0</td>\n",
       "      <td>3.0</td>\n",
       "      <td>204000000000</td>\n",
       "      <td>2720000.0</td>\n",
       "    </tr>\n",
       "    <tr>\n",
       "      <th>28675</th>\n",
       "      <td>فروش ویلایی</td>\n",
       "      <td>111111.0</td>\n",
       "      <td>منطقه 1 محله بعثت  خیابان رضا</td>\n",
       "      <td>*ویلایی با تجاری / حاشیه پیروزی / رضاشهر\\r\\n﷽...</td>\n",
       "      <td>36.291085</td>\n",
       "      <td>59.565186</td>\n",
       "      <td>14.0</td>\n",
       "      <td>0.0</td>\n",
       "      <td>5.0</td>\n",
       "      <td>39000000000</td>\n",
       "      <td>351000.0</td>\n",
       "    </tr>\n",
       "    <tr>\n",
       "      <th>34554</th>\n",
       "      <td>فروش آپارتمان</td>\n",
       "      <td>90000.0</td>\n",
       "      <td>منطقه 3 محله گاز  خیابان طبرسی شمالی</td>\n",
       "      <td>فروش هوای طبقه سوم خانه اپارتمانی\\r\\nخانه فوق...</td>\n",
       "      <td>36.323210</td>\n",
       "      <td>59.627390</td>\n",
       "      <td>NaN</td>\n",
       "      <td>3.0</td>\n",
       "      <td>NaN</td>\n",
       "      <td>27000000000</td>\n",
       "      <td>300000.0</td>\n",
       "    </tr>\n",
       "    <tr>\n",
       "      <th>40241</th>\n",
       "      <td>فروش آپارتمان</td>\n",
       "      <td>11000.0</td>\n",
       "      <td>منطقه 1 محله بعثت  خیابان رضا</td>\n",
       "      <td>هتل  * در حال ساخت    طبقه دارای تجاری و اقام...</td>\n",
       "      <td>36.291085</td>\n",
       "      <td>59.565186</td>\n",
       "      <td>NaN</td>\n",
       "      <td>16.0</td>\n",
       "      <td>5.0</td>\n",
       "      <td>750000000000</td>\n",
       "      <td>68181818.0</td>\n",
       "    </tr>\n",
       "    <tr>\n",
       "      <th>42920</th>\n",
       "      <td>فروش ویلایی</td>\n",
       "      <td>14000.0</td>\n",
       "      <td>منطقه 2 محله هدایت  خیابان ابوطالب</td>\n",
       "      <td>زمین       متری مجتمعی با آب فروان و سند ملکی...</td>\n",
       "      <td>36.318450</td>\n",
       "      <td>59.587680</td>\n",
       "      <td>1.0</td>\n",
       "      <td>0.0</td>\n",
       "      <td>NaN</td>\n",
       "      <td>9800000000</td>\n",
       "      <td>700000.0</td>\n",
       "    </tr>\n",
       "    <tr>\n",
       "      <th>44961</th>\n",
       "      <td>فروش ویلایی</td>\n",
       "      <td>200125.0</td>\n",
       "      <td>منطقه 11 محله آزاد شهر  خیابان آزادشهر</td>\n",
       "      <td>مترزمین    متربنا شمالی تراکم متوسط آزادشه...</td>\n",
       "      <td>36.327540</td>\n",
       "      <td>59.527520</td>\n",
       "      <td>21.0</td>\n",
       "      <td>0.0</td>\n",
       "      <td>2.0</td>\n",
       "      <td>12000000000</td>\n",
       "      <td>59962.0</td>\n",
       "    </tr>\n",
       "    <tr>\n",
       "      <th>46519</th>\n",
       "      <td>فروش ویلایی</td>\n",
       "      <td>90000.0</td>\n",
       "      <td>منطقه 3 محله گاز  خیابان رسالت</td>\n",
       "      <td>خانه دوطبقه سفت کاری شده فروشی\\r\\nسلام خانه د...</td>\n",
       "      <td>36.303140</td>\n",
       "      <td>59.633800</td>\n",
       "      <td>NaN</td>\n",
       "      <td>0.0</td>\n",
       "      <td>2.0</td>\n",
       "      <td>75000000000</td>\n",
       "      <td>833333.0</td>\n",
       "    </tr>\n",
       "  </tbody>\n",
       "</table>\n",
       "</div>"
      ],
      "text/plain": [
       "                type      area  \\\n",
       "4232   فروش آپارتمان  110000.0   \n",
       "5796   فروش آپارتمان   40000.0   \n",
       "7208     فروش ویلایی  111111.0   \n",
       "15554  فروش آپارتمان  300000.0   \n",
       "19754  فروش آپارتمان   65000.0   \n",
       "20449  فروش آپارتمان   17000.0   \n",
       "20716  فروش آپارتمان  125000.0   \n",
       "22079    فروش ویلایی   75000.0   \n",
       "28675    فروش ویلایی  111111.0   \n",
       "34554  فروش آپارتمان   90000.0   \n",
       "40241  فروش آپارتمان   11000.0   \n",
       "42920    فروش ویلایی   14000.0   \n",
       "44961    فروش ویلایی  200125.0   \n",
       "46519    فروش ویلایی   90000.0   \n",
       "\n",
       "                                            neighborhood  \\\n",
       "4232   منطقه 8 محله چهارراه لشکر  خیابان بلوار امام خ...   \n",
       "5796          منطقه 8 محله چهارراه لشکر  خیابان امام رضا   \n",
       "7208                  منطقه 2 محله هدایت  خیابان ابوطالب   \n",
       "15554                       منطقه 3 محله گاز  خیابان گاز   \n",
       "19754                 منطقه 4 و 5 محله طلاب  خیابان مفتح   \n",
       "20449         منطقه 8 محله چهارراه لشکر  خیابان امام رضا   \n",
       "20716                  منطقه 12 محله الهیه  خیابان الهیه   \n",
       "22079                     منطقه 7 محله سیدی  خیابان کوشش   \n",
       "28675                      منطقه 1 محله بعثت  خیابان رضا   \n",
       "34554               منطقه 3 محله گاز  خیابان طبرسی شمالی   \n",
       "40241                      منطقه 1 محله بعثت  خیابان رضا   \n",
       "42920                 منطقه 2 محله هدایت  خیابان ابوطالب   \n",
       "44961             منطقه 11 محله آزاد شهر  خیابان آزادشهر   \n",
       "46519                     منطقه 3 محله گاز  خیابان رسالت   \n",
       "\n",
       "                                             description   latitude  \\\n",
       "4232    آپارتمان    متری عدل خمینی\\r\\nخونه بسیار تمیز...  36.288100   \n",
       "5796    فروش هتل ستاره بنام مشهد/سندملکی/کارشناسی\\r\\n...  36.272780   \n",
       "7208    مغازه و انباری\\r\\nجهت تماس با شماره داخل تصوی...  36.318450   \n",
       "15554   آپارتمان  طبقه\\r\\nآپارتمان  طبقه .طبقه اول را...  36.315080   \n",
       "19754   اپارتمان   متری طبقه اول\\r\\nاپارتمان    متری ...  36.296030   \n",
       "20449   هتل  ستاره صفر کلید نخورده   دقیقه تا حرم اما...  36.272780   \n",
       "20716   اپارتمان    متری در محمدیه\\r\\nتوضیحات زنگ بزن...  36.373776   \n",
       "22079   خانه  ویلایی\\r\\n  متری دردوطبقه مجزامناسب دوخ...  36.265280   \n",
       "28675   *ویلایی با تجاری / حاشیه پیروزی / رضاشهر\\r\\n﷽...  36.291085   \n",
       "34554   فروش هوای طبقه سوم خانه اپارتمانی\\r\\nخانه فوق...  36.323210   \n",
       "40241   هتل  * در حال ساخت    طبقه دارای تجاری و اقام...  36.291085   \n",
       "42920   زمین       متری مجتمعی با آب فروان و سند ملکی...  36.318450   \n",
       "44961      مترزمین    متربنا شمالی تراکم متوسط آزادشه...  36.327540   \n",
       "46519   خانه دوطبقه سفت کاری شده فروشی\\r\\nسلام خانه د...  36.303140   \n",
       "\n",
       "       longitude   age  floor  bedrooms         price    sqmprice  \n",
       "4232   59.600600  11.0    2.0       2.0   40000000000    363636.0  \n",
       "5796   59.602730  11.0    6.0       5.0  900000000000  22500000.0  \n",
       "7208   59.587680   NaN    0.0       NaN    1950000000     17550.0  \n",
       "15554  59.632800   9.0    0.0       1.0   70000000000    233333.0  \n",
       "19754  59.643700   NaN    1.0       1.0  120000000000   1846153.0  \n",
       "20449  59.602730   NaN   16.0       5.0  500000000000  29411764.0  \n",
       "20716  59.475820   1.0    6.0       2.0   45000000000    360000.0  \n",
       "22079  59.609260   NaN    0.0       3.0  204000000000   2720000.0  \n",
       "28675  59.565186  14.0    0.0       5.0   39000000000    351000.0  \n",
       "34554  59.627390   NaN    3.0       NaN   27000000000    300000.0  \n",
       "40241  59.565186   NaN   16.0       5.0  750000000000  68181818.0  \n",
       "42920  59.587680   1.0    0.0       NaN    9800000000    700000.0  \n",
       "44961  59.527520  21.0    0.0       2.0   12000000000     59962.0  \n",
       "46519  59.633800   NaN    0.0       2.0   75000000000    833333.0  "
      ]
     },
     "execution_count": 35,
     "metadata": {},
     "output_type": "execute_result"
    }
   ],
   "source": [
    "# Removing some outliers\n",
    "data.loc[data['area'] > 10000]"
   ]
  },
  {
   "cell_type": "code",
   "execution_count": null,
   "metadata": {},
   "outputs": [],
   "source": [
    "data = data.drop(data[data['area'] > 10000].index)"
   ]
  },
  {
   "cell_type": "markdown",
   "metadata": {},
   "source": [
    "### Neighborhood => Zone"
   ]
  },
  {
   "cell_type": "code",
   "execution_count": null,
   "metadata": {},
   "outputs": [],
   "source": [
    "data['zone'] = data['neighborhood'].str.slice(stop=8)"
   ]
  },
  {
   "cell_type": "code",
   "execution_count": null,
   "metadata": {},
   "outputs": [
    {
     "data": {
      "text/plain": [
       "array(['منطقه 12', 'منطقه 2 ', 'منطقه 9 ', 'منطقه 1 ', 'منطقه 10',\n",
       "       'منطقه 11', 'منطقه 7 ', 'منطقه 8 ', 'منطقه 6 ', 'منطقه 3 ',\n",
       "       'منطقه 4 ', nan], dtype=object)"
      ]
     },
     "execution_count": 38,
     "metadata": {},
     "output_type": "execute_result"
    }
   ],
   "source": [
    "data['zone'].unique()"
   ]
  },
  {
   "cell_type": "code",
   "execution_count": null,
   "metadata": {},
   "outputs": [],
   "source": [
    "data['zone'] = data['zone'].str.replace('منطقه', '')"
   ]
  },
  {
   "cell_type": "code",
   "execution_count": null,
   "metadata": {},
   "outputs": [],
   "source": [
    "data['zone'] = data['zone'].astype(float)"
   ]
  },
  {
   "cell_type": "code",
   "execution_count": null,
   "metadata": {},
   "outputs": [
    {
     "data": {
      "text/plain": [
       "count    46050.000000\n",
       "mean         7.941194\n",
       "std          3.983066\n",
       "min          1.000000\n",
       "25%          4.000000\n",
       "50%          9.000000\n",
       "75%         11.000000\n",
       "max         12.000000\n",
       "Name: zone, dtype: float64"
      ]
     },
     "execution_count": 41,
     "metadata": {},
     "output_type": "execute_result"
    }
   ],
   "source": [
    "data['zone'].describe()"
   ]
  },
  {
   "cell_type": "markdown",
   "metadata": {},
   "source": [
    "### Neighborhood => Neighborhood & Street"
   ]
  },
  {
   "cell_type": "code",
   "execution_count": null,
   "metadata": {},
   "outputs": [
    {
     "data": {
      "text/plain": [
       "0                     منطقه 12 محله الهیه  خیابان الهیه\n",
       "1        منطقه 2 محله فرامرز عباسی  خیابان فرامرز عباسی\n",
       "2                   منطقه 9 محله هنرستان  خیابان هاشمیه\n",
       "3                     منطقه 12 محله الهیه  خیابان الهیه\n",
       "4                     منطقه 12 محله الهیه  خیابان الهیه\n",
       "                              ...                      \n",
       "48115              منطقه 11 محله آزاد شهر  خیابان فرهنگ\n",
       "48116                 منطقه 12 محله الهیه  خیابان الهیه\n",
       "48117              منطقه 9 محله هنرستان  خیابان هفت تیر\n",
       "48118         منطقه 10 محله قاسم آباد  خیابان قاسم آباد\n",
       "48119    منطقه 2 محله فرامرز عباسی  خیابان فرامرز عباسی\n",
       "Name: neighborhood, Length: 46051, dtype: object"
      ]
     },
     "execution_count": 42,
     "metadata": {},
     "output_type": "execute_result"
    }
   ],
   "source": [
    "data['neighborhood']"
   ]
  },
  {
   "cell_type": "markdown",
   "metadata": {},
   "source": [
    "Dropping the null values as the interfere with a lambda function later on"
   ]
  },
  {
   "cell_type": "code",
   "execution_count": null,
   "metadata": {},
   "outputs": [],
   "source": [
    "data = data.drop(data[data['neighborhood'].isna()].index)"
   ]
  },
  {
   "cell_type": "markdown",
   "metadata": {},
   "source": [
    "This method only works with unified strings(all being the same format)"
   ]
  },
  {
   "cell_type": "code",
   "execution_count": null,
   "metadata": {},
   "outputs": [],
   "source": [
    "data['neighborhood'] = data['neighborhood'].str[13:len(data['neighborhood'])-13]"
   ]
  },
  {
   "cell_type": "code",
   "execution_count": null,
   "metadata": {},
   "outputs": [
    {
     "data": {
      "text/plain": [
       "0                      الهیه  خیابان الهیه\n",
       "1        فرامرز عباسی  خیابان فرامرز عباسی\n",
       "2                   هنرستان  خیابان هاشمیه\n",
       "3                      الهیه  خیابان الهیه\n",
       "4                      الهیه  خیابان الهیه\n",
       "                       ...                \n",
       "48115               آزاد شهر  خیابان فرهنگ\n",
       "48116                  الهیه  خیابان الهیه\n",
       "48117              هنرستان  خیابان هفت تیر\n",
       "48118          قاسم آباد  خیابان قاسم آباد\n",
       "48119    فرامرز عباسی  خیابان فرامرز عباسی\n",
       "Name: neighborhood, Length: 46050, dtype: object"
      ]
     },
     "execution_count": 45,
     "metadata": {},
     "output_type": "execute_result"
    }
   ],
   "source": [
    "data['neighborhood']"
   ]
  },
  {
   "cell_type": "code",
   "execution_count": null,
   "metadata": {},
   "outputs": [],
   "source": [
    "data['neighborhood'] = data['neighborhood'].str.split(' خیابان ')"
   ]
  },
  {
   "cell_type": "code",
   "execution_count": null,
   "metadata": {},
   "outputs": [
    {
     "data": {
      "text/plain": [
       "0                     [ الهیه , الهیه]\n",
       "1        [فرامرز عباسی , فرامرز عباسی]\n",
       "2                   [هنرستان , هاشمیه]\n",
       "3                     [ الهیه , الهیه]\n",
       "4                     [ الهیه , الهیه]\n",
       "                     ...              \n",
       "48115              [ آزاد شهر , فرهنگ]\n",
       "48116                 [ الهیه , الهیه]\n",
       "48117              [هنرستان , هفت تیر]\n",
       "48118         [ قاسم آباد , قاسم آباد]\n",
       "48119    [فرامرز عباسی , فرامرز عباسی]\n",
       "Name: neighborhood, Length: 46050, dtype: object"
      ]
     },
     "execution_count": 47,
     "metadata": {},
     "output_type": "execute_result"
    }
   ],
   "source": [
    "data['neighborhood']"
   ]
  },
  {
   "cell_type": "markdown",
   "metadata": {},
   "source": [
    "Separating the street from neighborhood"
   ]
  },
  {
   "cell_type": "code",
   "execution_count": null,
   "metadata": {},
   "outputs": [],
   "source": [
    "data['street'] = data['neighborhood'].apply(lambda x:x.pop(1))"
   ]
  },
  {
   "cell_type": "code",
   "execution_count": null,
   "metadata": {},
   "outputs": [
    {
     "data": {
      "text/html": [
       "<div>\n",
       "<style scoped>\n",
       "    .dataframe tbody tr th:only-of-type {\n",
       "        vertical-align: middle;\n",
       "    }\n",
       "\n",
       "    .dataframe tbody tr th {\n",
       "        vertical-align: top;\n",
       "    }\n",
       "\n",
       "    .dataframe thead th {\n",
       "        text-align: right;\n",
       "    }\n",
       "</style>\n",
       "<table border=\"1\" class=\"dataframe\">\n",
       "  <thead>\n",
       "    <tr style=\"text-align: right;\">\n",
       "      <th></th>\n",
       "      <th>type</th>\n",
       "      <th>area</th>\n",
       "      <th>neighborhood</th>\n",
       "      <th>description</th>\n",
       "      <th>latitude</th>\n",
       "      <th>longitude</th>\n",
       "      <th>age</th>\n",
       "      <th>floor</th>\n",
       "      <th>bedrooms</th>\n",
       "      <th>price</th>\n",
       "      <th>sqmprice</th>\n",
       "      <th>zone</th>\n",
       "      <th>street</th>\n",
       "    </tr>\n",
       "  </thead>\n",
       "  <tbody>\n",
       "    <tr>\n",
       "      <th>0</th>\n",
       "      <td>فروش آپارتمان</td>\n",
       "      <td>73.0</td>\n",
       "      <td>[ الهیه ]</td>\n",
       "      <td>متر امیریه/سند آماده/آسانسور پارکینگ/فول\\r\\...</td>\n",
       "      <td>36.373776</td>\n",
       "      <td>59.475820</td>\n",
       "      <td>11.0</td>\n",
       "      <td>1.0</td>\n",
       "      <td>2.0</td>\n",
       "      <td>2200000000</td>\n",
       "      <td>30136986.0</td>\n",
       "      <td>12.0</td>\n",
       "      <td>الهیه</td>\n",
       "    </tr>\n",
       "    <tr>\n",
       "      <th>1</th>\n",
       "      <td>فروش آپارتمان</td>\n",
       "      <td>100.0</td>\n",
       "      <td>[فرامرز عباسی ]</td>\n",
       "      <td>آپارتمان   متر/فول/خوش نقشه/فرامرز\\r\\nباسلام\\...</td>\n",
       "      <td>36.327670</td>\n",
       "      <td>59.548380</td>\n",
       "      <td>7.0</td>\n",
       "      <td>1.0</td>\n",
       "      <td>2.0</td>\n",
       "      <td>4800000000</td>\n",
       "      <td>48000000.0</td>\n",
       "      <td>2.0</td>\n",
       "      <td>فرامرز عباسی</td>\n",
       "    </tr>\n",
       "    <tr>\n",
       "      <th>2</th>\n",
       "      <td>فروش آپارتمان</td>\n",
       "      <td>140.0</td>\n",
       "      <td>[هنرستان ]</td>\n",
       "      <td>متر در هاشمیه\\r\\n⚜️⚜️⚜️کارگزاری املاک هورا...</td>\n",
       "      <td>36.310605</td>\n",
       "      <td>59.504477</td>\n",
       "      <td>NaN</td>\n",
       "      <td>2.0</td>\n",
       "      <td>2.0</td>\n",
       "      <td>10200000000</td>\n",
       "      <td>72857142.0</td>\n",
       "      <td>9.0</td>\n",
       "      <td>هاشمیه</td>\n",
       "    </tr>\n",
       "    <tr>\n",
       "      <th>3</th>\n",
       "      <td>فروش آپارتمان</td>\n",
       "      <td>65.0</td>\n",
       "      <td>[ الهیه ]</td>\n",
       "      <td>آپارتمان  متری ویرانی   \\r\\nسلام آپارتمان    ...</td>\n",
       "      <td>36.400540</td>\n",
       "      <td>59.388382</td>\n",
       "      <td>6.0</td>\n",
       "      <td>4.0</td>\n",
       "      <td>1.0</td>\n",
       "      <td>870000000</td>\n",
       "      <td>13384615.0</td>\n",
       "      <td>12.0</td>\n",
       "      <td>الهیه</td>\n",
       "    </tr>\n",
       "    <tr>\n",
       "      <th>4</th>\n",
       "      <td>فروش آپارتمان</td>\n",
       "      <td>200.0</td>\n",
       "      <td>[ الهیه ]</td>\n",
       "      <td>/ متر*همکف*فول*  مترحیاط باامکانات کامل\\r\\...</td>\n",
       "      <td>36.373776</td>\n",
       "      <td>59.475820</td>\n",
       "      <td>NaN</td>\n",
       "      <td>0.0</td>\n",
       "      <td>3.0</td>\n",
       "      <td>5350000000</td>\n",
       "      <td>26750000.0</td>\n",
       "      <td>12.0</td>\n",
       "      <td>الهیه</td>\n",
       "    </tr>\n",
       "  </tbody>\n",
       "</table>\n",
       "</div>"
      ],
      "text/plain": [
       "            type   area     neighborhood  \\\n",
       "0  فروش آپارتمان   73.0        [ الهیه ]   \n",
       "1  فروش آپارتمان  100.0  [فرامرز عباسی ]   \n",
       "2  فروش آپارتمان  140.0       [هنرستان ]   \n",
       "3  فروش آپارتمان   65.0        [ الهیه ]   \n",
       "4  فروش آپارتمان  200.0        [ الهیه ]   \n",
       "\n",
       "                                         description   latitude  longitude  \\\n",
       "0     متر امیریه/سند آماده/آسانسور پارکینگ/فول\\r\\...  36.373776  59.475820   \n",
       "1   آپارتمان   متر/فول/خوش نقشه/فرامرز\\r\\nباسلام\\...  36.327670  59.548380   \n",
       "2      متر در هاشمیه\\r\\n⚜️⚜️⚜️کارگزاری املاک هورا...  36.310605  59.504477   \n",
       "3   آپارتمان  متری ویرانی   \\r\\nسلام آپارتمان    ...  36.400540  59.388382   \n",
       "4      / متر*همکف*فول*  مترحیاط باامکانات کامل\\r\\...  36.373776  59.475820   \n",
       "\n",
       "    age  floor  bedrooms        price    sqmprice  zone        street  \n",
       "0  11.0    1.0       2.0   2200000000  30136986.0  12.0         الهیه  \n",
       "1   7.0    1.0       2.0   4800000000  48000000.0   2.0  فرامرز عباسی  \n",
       "2   NaN    2.0       2.0  10200000000  72857142.0   9.0        هاشمیه  \n",
       "3   6.0    4.0       1.0    870000000  13384615.0  12.0         الهیه  \n",
       "4   NaN    0.0       3.0   5350000000  26750000.0  12.0         الهیه  "
      ]
     },
     "execution_count": 49,
     "metadata": {},
     "output_type": "execute_result"
    }
   ],
   "source": [
    "data.head()"
   ]
  },
  {
   "cell_type": "markdown",
   "metadata": {},
   "source": [
    "Converting neighborhood to string"
   ]
  },
  {
   "cell_type": "code",
   "execution_count": null,
   "metadata": {},
   "outputs": [],
   "source": [
    "data['neighborhood'] = data['neighborhood'].apply(lambda x:x.pop())"
   ]
  },
  {
   "cell_type": "code",
   "execution_count": null,
   "metadata": {},
   "outputs": [
    {
     "data": {
      "text/plain": [
       "0           الهیه \n",
       "1    فرامرز عباسی \n",
       "2         هنرستان \n",
       "3           الهیه \n",
       "4           الهیه \n",
       "Name: neighborhood, dtype: object"
      ]
     },
     "execution_count": 51,
     "metadata": {},
     "output_type": "execute_result"
    }
   ],
   "source": [
    "data['neighborhood'].head()"
   ]
  },
  {
   "cell_type": "code",
   "execution_count": null,
   "metadata": {},
   "outputs": [
    {
     "data": {
      "text/html": [
       "<div>\n",
       "<style scoped>\n",
       "    .dataframe tbody tr th:only-of-type {\n",
       "        vertical-align: middle;\n",
       "    }\n",
       "\n",
       "    .dataframe tbody tr th {\n",
       "        vertical-align: top;\n",
       "    }\n",
       "\n",
       "    .dataframe thead th {\n",
       "        text-align: right;\n",
       "    }\n",
       "</style>\n",
       "<table border=\"1\" class=\"dataframe\">\n",
       "  <thead>\n",
       "    <tr style=\"text-align: right;\">\n",
       "      <th></th>\n",
       "      <th>type</th>\n",
       "      <th>area</th>\n",
       "      <th>neighborhood</th>\n",
       "      <th>description</th>\n",
       "      <th>latitude</th>\n",
       "      <th>longitude</th>\n",
       "      <th>age</th>\n",
       "      <th>floor</th>\n",
       "      <th>bedrooms</th>\n",
       "      <th>price</th>\n",
       "      <th>sqmprice</th>\n",
       "      <th>zone</th>\n",
       "      <th>street</th>\n",
       "    </tr>\n",
       "  </thead>\n",
       "  <tbody>\n",
       "    <tr>\n",
       "      <th>0</th>\n",
       "      <td>فروش آپارتمان</td>\n",
       "      <td>73.0</td>\n",
       "      <td>الهیه</td>\n",
       "      <td>متر امیریه/سند آماده/آسانسور پارکینگ/فول\\r\\...</td>\n",
       "      <td>36.373776</td>\n",
       "      <td>59.475820</td>\n",
       "      <td>11.0</td>\n",
       "      <td>1.0</td>\n",
       "      <td>2.0</td>\n",
       "      <td>2200000000</td>\n",
       "      <td>30136986.0</td>\n",
       "      <td>12.0</td>\n",
       "      <td>الهیه</td>\n",
       "    </tr>\n",
       "    <tr>\n",
       "      <th>1</th>\n",
       "      <td>فروش آپارتمان</td>\n",
       "      <td>100.0</td>\n",
       "      <td>فرامرز عباسی</td>\n",
       "      <td>آپارتمان   متر/فول/خوش نقشه/فرامرز\\r\\nباسلام\\...</td>\n",
       "      <td>36.327670</td>\n",
       "      <td>59.548380</td>\n",
       "      <td>7.0</td>\n",
       "      <td>1.0</td>\n",
       "      <td>2.0</td>\n",
       "      <td>4800000000</td>\n",
       "      <td>48000000.0</td>\n",
       "      <td>2.0</td>\n",
       "      <td>فرامرز عباسی</td>\n",
       "    </tr>\n",
       "    <tr>\n",
       "      <th>2</th>\n",
       "      <td>فروش آپارتمان</td>\n",
       "      <td>140.0</td>\n",
       "      <td>هنرستان</td>\n",
       "      <td>متر در هاشمیه\\r\\n⚜️⚜️⚜️کارگزاری املاک هورا...</td>\n",
       "      <td>36.310605</td>\n",
       "      <td>59.504477</td>\n",
       "      <td>NaN</td>\n",
       "      <td>2.0</td>\n",
       "      <td>2.0</td>\n",
       "      <td>10200000000</td>\n",
       "      <td>72857142.0</td>\n",
       "      <td>9.0</td>\n",
       "      <td>هاشمیه</td>\n",
       "    </tr>\n",
       "    <tr>\n",
       "      <th>3</th>\n",
       "      <td>فروش آپارتمان</td>\n",
       "      <td>65.0</td>\n",
       "      <td>الهیه</td>\n",
       "      <td>آپارتمان  متری ویرانی   \\r\\nسلام آپارتمان    ...</td>\n",
       "      <td>36.400540</td>\n",
       "      <td>59.388382</td>\n",
       "      <td>6.0</td>\n",
       "      <td>4.0</td>\n",
       "      <td>1.0</td>\n",
       "      <td>870000000</td>\n",
       "      <td>13384615.0</td>\n",
       "      <td>12.0</td>\n",
       "      <td>الهیه</td>\n",
       "    </tr>\n",
       "    <tr>\n",
       "      <th>4</th>\n",
       "      <td>فروش آپارتمان</td>\n",
       "      <td>200.0</td>\n",
       "      <td>الهیه</td>\n",
       "      <td>/ متر*همکف*فول*  مترحیاط باامکانات کامل\\r\\...</td>\n",
       "      <td>36.373776</td>\n",
       "      <td>59.475820</td>\n",
       "      <td>NaN</td>\n",
       "      <td>0.0</td>\n",
       "      <td>3.0</td>\n",
       "      <td>5350000000</td>\n",
       "      <td>26750000.0</td>\n",
       "      <td>12.0</td>\n",
       "      <td>الهیه</td>\n",
       "    </tr>\n",
       "    <tr>\n",
       "      <th>...</th>\n",
       "      <td>...</td>\n",
       "      <td>...</td>\n",
       "      <td>...</td>\n",
       "      <td>...</td>\n",
       "      <td>...</td>\n",
       "      <td>...</td>\n",
       "      <td>...</td>\n",
       "      <td>...</td>\n",
       "      <td>...</td>\n",
       "      <td>...</td>\n",
       "      <td>...</td>\n",
       "      <td>...</td>\n",
       "      <td>...</td>\n",
       "    </tr>\n",
       "    <tr>\n",
       "      <th>48115</th>\n",
       "      <td>فروش آپارتمان</td>\n",
       "      <td>110.0</td>\n",
       "      <td>آزاد شهر</td>\n",
       "      <td>متر / حاشیه فرهنگ /  سال ساخت\\r\\nباسلام\\nم...</td>\n",
       "      <td>36.328550</td>\n",
       "      <td>59.513390</td>\n",
       "      <td>4.0</td>\n",
       "      <td>4.0</td>\n",
       "      <td>2.0</td>\n",
       "      <td>5100000000</td>\n",
       "      <td>46363636.0</td>\n",
       "      <td>11.0</td>\n",
       "      <td>فرهنگ</td>\n",
       "    </tr>\n",
       "    <tr>\n",
       "      <th>48116</th>\n",
       "      <td>فروش آپارتمان</td>\n",
       "      <td>110.0</td>\n",
       "      <td>الهیه</td>\n",
       "      <td>اپارتمان     متری سه نبش(تهاتر)\\r\\nتوجه!!!!!!...</td>\n",
       "      <td>36.371452</td>\n",
       "      <td>59.484620</td>\n",
       "      <td>4.0</td>\n",
       "      <td>3.0</td>\n",
       "      <td>2.0</td>\n",
       "      <td>4100000000</td>\n",
       "      <td>37272727.0</td>\n",
       "      <td>12.0</td>\n",
       "      <td>الهیه</td>\n",
       "    </tr>\n",
       "    <tr>\n",
       "      <th>48117</th>\n",
       "      <td>فروش آپارتمان</td>\n",
       "      <td>140.0</td>\n",
       "      <td>هنرستان</td>\n",
       "      <td>متر ،   خواب ، هفت تیر    ، بازسازی شده\\r...</td>\n",
       "      <td>36.319780</td>\n",
       "      <td>59.494770</td>\n",
       "      <td>15.0</td>\n",
       "      <td>1.0</td>\n",
       "      <td>2.0</td>\n",
       "      <td>5500000000</td>\n",
       "      <td>39285714.0</td>\n",
       "      <td>9.0</td>\n",
       "      <td>هفت تیر</td>\n",
       "    </tr>\n",
       "    <tr>\n",
       "      <th>48118</th>\n",
       "      <td>فروش آپارتمان</td>\n",
       "      <td>130.0</td>\n",
       "      <td>قاسم آباد</td>\n",
       "      <td>((    مــِـتر رَفـیـعـی ))\\r\\n❄️❄️❄️❄️❄️❄️❄️❄...</td>\n",
       "      <td>36.349873</td>\n",
       "      <td>59.488426</td>\n",
       "      <td>4.0</td>\n",
       "      <td>2.0</td>\n",
       "      <td>3.0</td>\n",
       "      <td>4100000000</td>\n",
       "      <td>31538461.0</td>\n",
       "      <td>10.0</td>\n",
       "      <td>قاسم آباد</td>\n",
       "    </tr>\n",
       "    <tr>\n",
       "      <th>48119</th>\n",
       "      <td>فروش آپارتمان</td>\n",
       "      <td>85.0</td>\n",
       "      <td>فرامرز عباسی</td>\n",
       "      <td>آپارتمان    متری دوخواب\\r\\n   متری \\nشمالی\\nد...</td>\n",
       "      <td>36.327670</td>\n",
       "      <td>59.548380</td>\n",
       "      <td>13.0</td>\n",
       "      <td>3.0</td>\n",
       "      <td>2.0</td>\n",
       "      <td>3200000000</td>\n",
       "      <td>37647058.0</td>\n",
       "      <td>2.0</td>\n",
       "      <td>فرامرز عباسی</td>\n",
       "    </tr>\n",
       "  </tbody>\n",
       "</table>\n",
       "<p>46050 rows × 13 columns</p>\n",
       "</div>"
      ],
      "text/plain": [
       "                type   area   neighborhood  \\\n",
       "0      فروش آپارتمان   73.0         الهیه    \n",
       "1      فروش آپارتمان  100.0  فرامرز عباسی    \n",
       "2      فروش آپارتمان  140.0       هنرستان    \n",
       "3      فروش آپارتمان   65.0         الهیه    \n",
       "4      فروش آپارتمان  200.0         الهیه    \n",
       "...              ...    ...            ...   \n",
       "48115  فروش آپارتمان  110.0      آزاد شهر    \n",
       "48116  فروش آپارتمان  110.0         الهیه    \n",
       "48117  فروش آپارتمان  140.0       هنرستان    \n",
       "48118  فروش آپارتمان  130.0     قاسم آباد    \n",
       "48119  فروش آپارتمان   85.0  فرامرز عباسی    \n",
       "\n",
       "                                             description   latitude  \\\n",
       "0         متر امیریه/سند آماده/آسانسور پارکینگ/فول\\r\\...  36.373776   \n",
       "1       آپارتمان   متر/فول/خوش نقشه/فرامرز\\r\\nباسلام\\...  36.327670   \n",
       "2          متر در هاشمیه\\r\\n⚜️⚜️⚜️کارگزاری املاک هورا...  36.310605   \n",
       "3       آپارتمان  متری ویرانی   \\r\\nسلام آپارتمان    ...  36.400540   \n",
       "4          / متر*همکف*فول*  مترحیاط باامکانات کامل\\r\\...  36.373776   \n",
       "...                                                  ...        ...   \n",
       "48115      متر / حاشیه فرهنگ /  سال ساخت\\r\\nباسلام\\nم...  36.328550   \n",
       "48116   اپارتمان     متری سه نبش(تهاتر)\\r\\nتوجه!!!!!!...  36.371452   \n",
       "48117       متر ،   خواب ، هفت تیر    ، بازسازی شده\\r...  36.319780   \n",
       "48118   ((    مــِـتر رَفـیـعـی ))\\r\\n❄️❄️❄️❄️❄️❄️❄️❄...  36.349873   \n",
       "48119   آپارتمان    متری دوخواب\\r\\n   متری \\nشمالی\\nد...  36.327670   \n",
       "\n",
       "       longitude   age  floor  bedrooms        price    sqmprice  zone  \\\n",
       "0      59.475820  11.0    1.0       2.0   2200000000  30136986.0  12.0   \n",
       "1      59.548380   7.0    1.0       2.0   4800000000  48000000.0   2.0   \n",
       "2      59.504477   NaN    2.0       2.0  10200000000  72857142.0   9.0   \n",
       "3      59.388382   6.0    4.0       1.0    870000000  13384615.0  12.0   \n",
       "4      59.475820   NaN    0.0       3.0   5350000000  26750000.0  12.0   \n",
       "...          ...   ...    ...       ...          ...         ...   ...   \n",
       "48115  59.513390   4.0    4.0       2.0   5100000000  46363636.0  11.0   \n",
       "48116  59.484620   4.0    3.0       2.0   4100000000  37272727.0  12.0   \n",
       "48117  59.494770  15.0    1.0       2.0   5500000000  39285714.0   9.0   \n",
       "48118  59.488426   4.0    2.0       3.0   4100000000  31538461.0  10.0   \n",
       "48119  59.548380  13.0    3.0       2.0   3200000000  37647058.0   2.0   \n",
       "\n",
       "             street  \n",
       "0             الهیه  \n",
       "1      فرامرز عباسی  \n",
       "2            هاشمیه  \n",
       "3             الهیه  \n",
       "4             الهیه  \n",
       "...             ...  \n",
       "48115         فرهنگ  \n",
       "48116         الهیه  \n",
       "48117       هفت تیر  \n",
       "48118     قاسم آباد  \n",
       "48119  فرامرز عباسی  \n",
       "\n",
       "[46050 rows x 13 columns]"
      ]
     },
     "execution_count": 52,
     "metadata": {},
     "output_type": "execute_result"
    }
   ],
   "source": [
    "data"
   ]
  },
  {
   "cell_type": "markdown",
   "metadata": {},
   "source": [
    "### Description "
   ]
  },
  {
   "cell_type": "markdown",
   "metadata": {},
   "source": [
    "We can extract some useful information from this part, like amenities and facilities.  "
   ]
  },
  {
   "cell_type": "markdown",
   "metadata": {},
   "source": [
    "Adding a new columns with boolean value"
   ]
  },
  {
   "cell_type": "code",
   "execution_count": null,
   "metadata": {},
   "outputs": [],
   "source": [
    "data['elevator'] = data['description'].str.contains('آسانسور دارد')"
   ]
  },
  {
   "cell_type": "code",
   "execution_count": null,
   "metadata": {},
   "outputs": [],
   "source": [
    "data['parking'] = data['description'].str.contains('پارکینگ دارد')"
   ]
  },
  {
   "cell_type": "code",
   "execution_count": null,
   "metadata": {},
   "outputs": [],
   "source": [
    "data['storage'] = data['description'].str.contains('انباری دارد')"
   ]
  },
  {
   "cell_type": "code",
   "execution_count": null,
   "metadata": {},
   "outputs": [],
   "source": [
    "data['yard'] = data['description'].str.contains('حیاط')"
   ]
  },
  {
   "cell_type": "code",
   "execution_count": null,
   "metadata": {},
   "outputs": [],
   "source": [
    "data['balcony'] = data['description'].str.contains('بالکن|بالکنی')"
   ]
  },
  {
   "cell_type": "code",
   "execution_count": null,
   "metadata": {},
   "outputs": [],
   "source": [
    "data['reconstructed'] = data['description'].str.contains('بازسازی')"
   ]
  },
  {
   "cell_type": "markdown",
   "metadata": {},
   "source": [
    "As we are done with the descriptions, we can drop them for data's clarity"
   ]
  },
  {
   "cell_type": "code",
   "execution_count": null,
   "metadata": {},
   "outputs": [],
   "source": [
    "data = data.drop('description', axis=1)"
   ]
  },
  {
   "cell_type": "markdown",
   "metadata": {},
   "source": [
    "One final overview of the data before encoding"
   ]
  },
  {
   "cell_type": "code",
   "execution_count": null,
   "metadata": {},
   "outputs": [
    {
     "data": {
      "text/html": [
       "<div>\n",
       "<style scoped>\n",
       "    .dataframe tbody tr th:only-of-type {\n",
       "        vertical-align: middle;\n",
       "    }\n",
       "\n",
       "    .dataframe tbody tr th {\n",
       "        vertical-align: top;\n",
       "    }\n",
       "\n",
       "    .dataframe thead th {\n",
       "        text-align: right;\n",
       "    }\n",
       "</style>\n",
       "<table border=\"1\" class=\"dataframe\">\n",
       "  <thead>\n",
       "    <tr style=\"text-align: right;\">\n",
       "      <th></th>\n",
       "      <th>type</th>\n",
       "      <th>area</th>\n",
       "      <th>neighborhood</th>\n",
       "      <th>latitude</th>\n",
       "      <th>longitude</th>\n",
       "      <th>age</th>\n",
       "      <th>floor</th>\n",
       "      <th>bedrooms</th>\n",
       "      <th>price</th>\n",
       "      <th>sqmprice</th>\n",
       "      <th>zone</th>\n",
       "      <th>street</th>\n",
       "      <th>elevator</th>\n",
       "      <th>parking</th>\n",
       "      <th>storage</th>\n",
       "      <th>yard</th>\n",
       "      <th>balcony</th>\n",
       "      <th>reconstructed</th>\n",
       "    </tr>\n",
       "  </thead>\n",
       "  <tbody>\n",
       "    <tr>\n",
       "      <th>0</th>\n",
       "      <td>فروش آپارتمان</td>\n",
       "      <td>73.0</td>\n",
       "      <td>الهیه</td>\n",
       "      <td>36.373776</td>\n",
       "      <td>59.475820</td>\n",
       "      <td>11.0</td>\n",
       "      <td>1.0</td>\n",
       "      <td>2.0</td>\n",
       "      <td>2200000000</td>\n",
       "      <td>30136986.0</td>\n",
       "      <td>12.0</td>\n",
       "      <td>الهیه</td>\n",
       "      <td>True</td>\n",
       "      <td>True</td>\n",
       "      <td>True</td>\n",
       "      <td>False</td>\n",
       "      <td>False</td>\n",
       "      <td>False</td>\n",
       "    </tr>\n",
       "    <tr>\n",
       "      <th>1</th>\n",
       "      <td>فروش آپارتمان</td>\n",
       "      <td>100.0</td>\n",
       "      <td>فرامرز عباسی</td>\n",
       "      <td>36.327670</td>\n",
       "      <td>59.548380</td>\n",
       "      <td>7.0</td>\n",
       "      <td>1.0</td>\n",
       "      <td>2.0</td>\n",
       "      <td>4800000000</td>\n",
       "      <td>48000000.0</td>\n",
       "      <td>2.0</td>\n",
       "      <td>فرامرز عباسی</td>\n",
       "      <td>True</td>\n",
       "      <td>True</td>\n",
       "      <td>True</td>\n",
       "      <td>True</td>\n",
       "      <td>False</td>\n",
       "      <td>False</td>\n",
       "    </tr>\n",
       "    <tr>\n",
       "      <th>2</th>\n",
       "      <td>فروش آپارتمان</td>\n",
       "      <td>140.0</td>\n",
       "      <td>هنرستان</td>\n",
       "      <td>36.310605</td>\n",
       "      <td>59.504477</td>\n",
       "      <td>NaN</td>\n",
       "      <td>2.0</td>\n",
       "      <td>2.0</td>\n",
       "      <td>10200000000</td>\n",
       "      <td>72857142.0</td>\n",
       "      <td>9.0</td>\n",
       "      <td>هاشمیه</td>\n",
       "      <td>True</td>\n",
       "      <td>True</td>\n",
       "      <td>True</td>\n",
       "      <td>False</td>\n",
       "      <td>False</td>\n",
       "      <td>False</td>\n",
       "    </tr>\n",
       "    <tr>\n",
       "      <th>3</th>\n",
       "      <td>فروش آپارتمان</td>\n",
       "      <td>65.0</td>\n",
       "      <td>الهیه</td>\n",
       "      <td>36.400540</td>\n",
       "      <td>59.388382</td>\n",
       "      <td>6.0</td>\n",
       "      <td>4.0</td>\n",
       "      <td>1.0</td>\n",
       "      <td>870000000</td>\n",
       "      <td>13384615.0</td>\n",
       "      <td>12.0</td>\n",
       "      <td>الهیه</td>\n",
       "      <td>False</td>\n",
       "      <td>False</td>\n",
       "      <td>False</td>\n",
       "      <td>False</td>\n",
       "      <td>False</td>\n",
       "      <td>False</td>\n",
       "    </tr>\n",
       "    <tr>\n",
       "      <th>4</th>\n",
       "      <td>فروش آپارتمان</td>\n",
       "      <td>200.0</td>\n",
       "      <td>الهیه</td>\n",
       "      <td>36.373776</td>\n",
       "      <td>59.475820</td>\n",
       "      <td>NaN</td>\n",
       "      <td>0.0</td>\n",
       "      <td>3.0</td>\n",
       "      <td>5350000000</td>\n",
       "      <td>26750000.0</td>\n",
       "      <td>12.0</td>\n",
       "      <td>الهیه</td>\n",
       "      <td>True</td>\n",
       "      <td>True</td>\n",
       "      <td>True</td>\n",
       "      <td>True</td>\n",
       "      <td>False</td>\n",
       "      <td>False</td>\n",
       "    </tr>\n",
       "    <tr>\n",
       "      <th>...</th>\n",
       "      <td>...</td>\n",
       "      <td>...</td>\n",
       "      <td>...</td>\n",
       "      <td>...</td>\n",
       "      <td>...</td>\n",
       "      <td>...</td>\n",
       "      <td>...</td>\n",
       "      <td>...</td>\n",
       "      <td>...</td>\n",
       "      <td>...</td>\n",
       "      <td>...</td>\n",
       "      <td>...</td>\n",
       "      <td>...</td>\n",
       "      <td>...</td>\n",
       "      <td>...</td>\n",
       "      <td>...</td>\n",
       "      <td>...</td>\n",
       "      <td>...</td>\n",
       "    </tr>\n",
       "    <tr>\n",
       "      <th>48115</th>\n",
       "      <td>فروش آپارتمان</td>\n",
       "      <td>110.0</td>\n",
       "      <td>آزاد شهر</td>\n",
       "      <td>36.328550</td>\n",
       "      <td>59.513390</td>\n",
       "      <td>4.0</td>\n",
       "      <td>4.0</td>\n",
       "      <td>2.0</td>\n",
       "      <td>5100000000</td>\n",
       "      <td>46363636.0</td>\n",
       "      <td>11.0</td>\n",
       "      <td>فرهنگ</td>\n",
       "      <td>True</td>\n",
       "      <td>True</td>\n",
       "      <td>True</td>\n",
       "      <td>False</td>\n",
       "      <td>False</td>\n",
       "      <td>False</td>\n",
       "    </tr>\n",
       "    <tr>\n",
       "      <th>48116</th>\n",
       "      <td>فروش آپارتمان</td>\n",
       "      <td>110.0</td>\n",
       "      <td>الهیه</td>\n",
       "      <td>36.371452</td>\n",
       "      <td>59.484620</td>\n",
       "      <td>4.0</td>\n",
       "      <td>3.0</td>\n",
       "      <td>2.0</td>\n",
       "      <td>4100000000</td>\n",
       "      <td>37272727.0</td>\n",
       "      <td>12.0</td>\n",
       "      <td>الهیه</td>\n",
       "      <td>True</td>\n",
       "      <td>True</td>\n",
       "      <td>True</td>\n",
       "      <td>False</td>\n",
       "      <td>False</td>\n",
       "      <td>False</td>\n",
       "    </tr>\n",
       "    <tr>\n",
       "      <th>48117</th>\n",
       "      <td>فروش آپارتمان</td>\n",
       "      <td>140.0</td>\n",
       "      <td>هنرستان</td>\n",
       "      <td>36.319780</td>\n",
       "      <td>59.494770</td>\n",
       "      <td>15.0</td>\n",
       "      <td>1.0</td>\n",
       "      <td>2.0</td>\n",
       "      <td>5500000000</td>\n",
       "      <td>39285714.0</td>\n",
       "      <td>9.0</td>\n",
       "      <td>هفت تیر</td>\n",
       "      <td>False</td>\n",
       "      <td>True</td>\n",
       "      <td>True</td>\n",
       "      <td>False</td>\n",
       "      <td>False</td>\n",
       "      <td>True</td>\n",
       "    </tr>\n",
       "    <tr>\n",
       "      <th>48118</th>\n",
       "      <td>فروش آپارتمان</td>\n",
       "      <td>130.0</td>\n",
       "      <td>قاسم آباد</td>\n",
       "      <td>36.349873</td>\n",
       "      <td>59.488426</td>\n",
       "      <td>4.0</td>\n",
       "      <td>2.0</td>\n",
       "      <td>3.0</td>\n",
       "      <td>4100000000</td>\n",
       "      <td>31538461.0</td>\n",
       "      <td>10.0</td>\n",
       "      <td>قاسم آباد</td>\n",
       "      <td>True</td>\n",
       "      <td>True</td>\n",
       "      <td>True</td>\n",
       "      <td>False</td>\n",
       "      <td>False</td>\n",
       "      <td>True</td>\n",
       "    </tr>\n",
       "    <tr>\n",
       "      <th>48119</th>\n",
       "      <td>فروش آپارتمان</td>\n",
       "      <td>85.0</td>\n",
       "      <td>فرامرز عباسی</td>\n",
       "      <td>36.327670</td>\n",
       "      <td>59.548380</td>\n",
       "      <td>13.0</td>\n",
       "      <td>3.0</td>\n",
       "      <td>2.0</td>\n",
       "      <td>3200000000</td>\n",
       "      <td>37647058.0</td>\n",
       "      <td>2.0</td>\n",
       "      <td>فرامرز عباسی</td>\n",
       "      <td>False</td>\n",
       "      <td>True</td>\n",
       "      <td>True</td>\n",
       "      <td>False</td>\n",
       "      <td>False</td>\n",
       "      <td>False</td>\n",
       "    </tr>\n",
       "  </tbody>\n",
       "</table>\n",
       "<p>46050 rows × 18 columns</p>\n",
       "</div>"
      ],
      "text/plain": [
       "                type   area   neighborhood   latitude  longitude   age  floor  \\\n",
       "0      فروش آپارتمان   73.0         الهیه   36.373776  59.475820  11.0    1.0   \n",
       "1      فروش آپارتمان  100.0  فرامرز عباسی   36.327670  59.548380   7.0    1.0   \n",
       "2      فروش آپارتمان  140.0       هنرستان   36.310605  59.504477   NaN    2.0   \n",
       "3      فروش آپارتمان   65.0         الهیه   36.400540  59.388382   6.0    4.0   \n",
       "4      فروش آپارتمان  200.0         الهیه   36.373776  59.475820   NaN    0.0   \n",
       "...              ...    ...            ...        ...        ...   ...    ...   \n",
       "48115  فروش آپارتمان  110.0      آزاد شهر   36.328550  59.513390   4.0    4.0   \n",
       "48116  فروش آپارتمان  110.0         الهیه   36.371452  59.484620   4.0    3.0   \n",
       "48117  فروش آپارتمان  140.0       هنرستان   36.319780  59.494770  15.0    1.0   \n",
       "48118  فروش آپارتمان  130.0     قاسم آباد   36.349873  59.488426   4.0    2.0   \n",
       "48119  فروش آپارتمان   85.0  فرامرز عباسی   36.327670  59.548380  13.0    3.0   \n",
       "\n",
       "       bedrooms        price    sqmprice  zone        street elevator parking  \\\n",
       "0           2.0   2200000000  30136986.0  12.0         الهیه     True    True   \n",
       "1           2.0   4800000000  48000000.0   2.0  فرامرز عباسی     True    True   \n",
       "2           2.0  10200000000  72857142.0   9.0        هاشمیه     True    True   \n",
       "3           1.0    870000000  13384615.0  12.0         الهیه    False   False   \n",
       "4           3.0   5350000000  26750000.0  12.0         الهیه     True    True   \n",
       "...         ...          ...         ...   ...           ...      ...     ...   \n",
       "48115       2.0   5100000000  46363636.0  11.0         فرهنگ     True    True   \n",
       "48116       2.0   4100000000  37272727.0  12.0         الهیه     True    True   \n",
       "48117       2.0   5500000000  39285714.0   9.0       هفت تیر    False    True   \n",
       "48118       3.0   4100000000  31538461.0  10.0     قاسم آباد     True    True   \n",
       "48119       2.0   3200000000  37647058.0   2.0  فرامرز عباسی    False    True   \n",
       "\n",
       "      storage   yard balcony reconstructed  \n",
       "0        True  False   False         False  \n",
       "1        True   True   False         False  \n",
       "2        True  False   False         False  \n",
       "3       False  False   False         False  \n",
       "4        True   True   False         False  \n",
       "...       ...    ...     ...           ...  \n",
       "48115    True  False   False         False  \n",
       "48116    True  False   False         False  \n",
       "48117    True  False   False          True  \n",
       "48118    True  False   False          True  \n",
       "48119    True  False   False         False  \n",
       "\n",
       "[46050 rows x 18 columns]"
      ]
     },
     "execution_count": 60,
     "metadata": {},
     "output_type": "execute_result"
    }
   ],
   "source": [
    "data"
   ]
  },
  {
   "cell_type": "markdown",
   "metadata": {},
   "source": [
    "## Preprocessing (Again to eliminate nulls)\n"
   ]
  },
  {
   "cell_type": "markdown",
   "metadata": {},
   "source": [
    "### NaNs"
   ]
  },
  {
   "cell_type": "code",
   "execution_count": null,
   "metadata": {},
   "outputs": [
    {
     "data": {
      "text/plain": [
       "type                 0\n",
       "area                 0\n",
       "neighborhood         0\n",
       "latitude             0\n",
       "longitude            0\n",
       "age              13555\n",
       "floor                7\n",
       "bedrooms           299\n",
       "price                0\n",
       "sqmprice             0\n",
       "zone                 0\n",
       "street               0\n",
       "elevator          2283\n",
       "parking           2283\n",
       "storage           2283\n",
       "yard              2283\n",
       "balcony           2283\n",
       "reconstructed     2283\n",
       "dtype: int64"
      ]
     },
     "execution_count": 61,
     "metadata": {},
     "output_type": "execute_result"
    }
   ],
   "source": [
    "data.isna().sum()"
   ]
  },
  {
   "cell_type": "markdown",
   "metadata": {},
   "source": [
    "#### Age\n"
   ]
  },
  {
   "cell_type": "code",
   "execution_count": null,
   "metadata": {},
   "outputs": [],
   "source": [
    "data['age'] = data['age'].replace(float('nan'), 0)\n"
   ]
  },
  {
   "cell_type": "code",
   "execution_count": null,
   "metadata": {},
   "outputs": [
    {
     "data": {
      "text/plain": [
       "0"
      ]
     },
     "execution_count": 63,
     "metadata": {},
     "output_type": "execute_result"
    }
   ],
   "source": [
    "data['age'].isna().sum()"
   ]
  },
  {
   "cell_type": "markdown",
   "metadata": {},
   "source": [
    "#### floor"
   ]
  },
  {
   "cell_type": "code",
   "execution_count": null,
   "metadata": {},
   "outputs": [],
   "source": [
    "data ['floor'] = data['floor'].replace(float('nan'), 1)"
   ]
  },
  {
   "cell_type": "code",
   "execution_count": null,
   "metadata": {},
   "outputs": [
    {
     "data": {
      "text/plain": [
       "0"
      ]
     },
     "execution_count": 65,
     "metadata": {},
     "output_type": "execute_result"
    }
   ],
   "source": [
    "data['floor'].isna().sum()"
   ]
  },
  {
   "cell_type": "markdown",
   "metadata": {},
   "source": [
    "#### Bedrooms\n"
   ]
  },
  {
   "cell_type": "code",
   "execution_count": null,
   "metadata": {},
   "outputs": [],
   "source": [
    "data['bedrooms'] = data['bedrooms'].replace(float('nan'), (data['bedrooms'].mean().astype('int')))"
   ]
  },
  {
   "cell_type": "code",
   "execution_count": null,
   "metadata": {},
   "outputs": [
    {
     "data": {
      "text/plain": [
       "0"
      ]
     },
     "execution_count": 67,
     "metadata": {},
     "output_type": "execute_result"
    }
   ],
   "source": [
    "data['bedrooms'].isna().sum()"
   ]
  },
  {
   "cell_type": "markdown",
   "metadata": {},
   "source": [
    "#### Other 6 features\n"
   ]
  },
  {
   "cell_type": "code",
   "execution_count": null,
   "metadata": {},
   "outputs": [],
   "source": [
    "cols = ['elevator', 'parking', 'storage', 'yard', 'balcony', 'reconstructed']\n",
    "data[cols] = data[cols].replace(float('nan'), False)"
   ]
  },
  {
   "cell_type": "markdown",
   "metadata": {},
   "source": [
    "## Encoding"
   ]
  },
  {
   "cell_type": "code",
   "execution_count": null,
   "metadata": {},
   "outputs": [],
   "source": [
    "columns = ['type', 'neighborhood', 'street', 'elevator', 'parking', \n",
    "           'storage', 'yard', 'balcony', 'reconstructed']"
   ]
  },
  {
   "cell_type": "markdown",
   "metadata": {},
   "source": [
    "label encoding"
   ]
  },
  {
   "cell_type": "code",
   "execution_count": null,
   "metadata": {},
   "outputs": [],
   "source": [
    "label_encoded = label_encode(data, columns)"
   ]
  },
  {
   "cell_type": "code",
   "execution_count": null,
   "metadata": {},
   "outputs": [
    {
     "name": "stdout",
     "output_type": "stream",
     "text": [
      "<class 'pandas.core.frame.DataFrame'>\n",
      "Int64Index: 46050 entries, 0 to 48119\n",
      "Data columns (total 18 columns):\n",
      " #   Column         Non-Null Count  Dtype  \n",
      "---  ------         --------------  -----  \n",
      " 0   type           46050 non-null  int32  \n",
      " 1   area           46050 non-null  float64\n",
      " 2   neighborhood   46050 non-null  int32  \n",
      " 3   latitude       46050 non-null  float64\n",
      " 4   longitude      46050 non-null  float64\n",
      " 5   age            46050 non-null  float64\n",
      " 6   floor          46050 non-null  float64\n",
      " 7   bedrooms       46050 non-null  float64\n",
      " 8   price          46050 non-null  int64  \n",
      " 9   sqmprice       46050 non-null  float64\n",
      " 10  zone           46050 non-null  float64\n",
      " 11  street         46050 non-null  int32  \n",
      " 12  elevator       46050 non-null  int64  \n",
      " 13  parking        46050 non-null  int64  \n",
      " 14  storage        46050 non-null  int64  \n",
      " 15  yard           46050 non-null  int64  \n",
      " 16  balcony        46050 non-null  int64  \n",
      " 17  reconstructed  46050 non-null  int64  \n",
      "dtypes: float64(8), int32(3), int64(7)\n",
      "memory usage: 6.1 MB\n"
     ]
    }
   ],
   "source": [
    "label_encoded.info()"
   ]
  },
  {
   "cell_type": "code",
   "execution_count": null,
   "metadata": {},
   "outputs": [
    {
     "data": {
      "text/html": [
       "<div>\n",
       "<style scoped>\n",
       "    .dataframe tbody tr th:only-of-type {\n",
       "        vertical-align: middle;\n",
       "    }\n",
       "\n",
       "    .dataframe tbody tr th {\n",
       "        vertical-align: top;\n",
       "    }\n",
       "\n",
       "    .dataframe thead th {\n",
       "        text-align: right;\n",
       "    }\n",
       "</style>\n",
       "<table border=\"1\" class=\"dataframe\">\n",
       "  <thead>\n",
       "    <tr style=\"text-align: right;\">\n",
       "      <th></th>\n",
       "      <th>type</th>\n",
       "      <th>area</th>\n",
       "      <th>neighborhood</th>\n",
       "      <th>latitude</th>\n",
       "      <th>longitude</th>\n",
       "      <th>age</th>\n",
       "      <th>floor</th>\n",
       "      <th>bedrooms</th>\n",
       "      <th>price</th>\n",
       "      <th>sqmprice</th>\n",
       "      <th>zone</th>\n",
       "      <th>street</th>\n",
       "      <th>elevator</th>\n",
       "      <th>parking</th>\n",
       "      <th>storage</th>\n",
       "      <th>yard</th>\n",
       "      <th>balcony</th>\n",
       "      <th>reconstructed</th>\n",
       "    </tr>\n",
       "  </thead>\n",
       "  <tbody>\n",
       "    <tr>\n",
       "      <th>0</th>\n",
       "      <td>0</td>\n",
       "      <td>73.0</td>\n",
       "      <td>1</td>\n",
       "      <td>36.373776</td>\n",
       "      <td>59.475820</td>\n",
       "      <td>11.0</td>\n",
       "      <td>1.0</td>\n",
       "      <td>2.0</td>\n",
       "      <td>2200000000</td>\n",
       "      <td>30136986.0</td>\n",
       "      <td>12.0</td>\n",
       "      <td>29</td>\n",
       "      <td>1</td>\n",
       "      <td>1</td>\n",
       "      <td>1</td>\n",
       "      <td>0</td>\n",
       "      <td>0</td>\n",
       "      <td>0</td>\n",
       "    </tr>\n",
       "    <tr>\n",
       "      <th>1</th>\n",
       "      <td>0</td>\n",
       "      <td>100.0</td>\n",
       "      <td>14</td>\n",
       "      <td>36.327670</td>\n",
       "      <td>59.548380</td>\n",
       "      <td>7.0</td>\n",
       "      <td>1.0</td>\n",
       "      <td>2.0</td>\n",
       "      <td>4800000000</td>\n",
       "      <td>48000000.0</td>\n",
       "      <td>2.0</td>\n",
       "      <td>166</td>\n",
       "      <td>1</td>\n",
       "      <td>1</td>\n",
       "      <td>1</td>\n",
       "      <td>1</td>\n",
       "      <td>0</td>\n",
       "      <td>0</td>\n",
       "    </tr>\n",
       "    <tr>\n",
       "      <th>2</th>\n",
       "      <td>0</td>\n",
       "      <td>140.0</td>\n",
       "      <td>17</td>\n",
       "      <td>36.310605</td>\n",
       "      <td>59.504477</td>\n",
       "      <td>0.0</td>\n",
       "      <td>2.0</td>\n",
       "      <td>2.0</td>\n",
       "      <td>10200000000</td>\n",
       "      <td>72857142.0</td>\n",
       "      <td>9.0</td>\n",
       "      <td>229</td>\n",
       "      <td>1</td>\n",
       "      <td>1</td>\n",
       "      <td>1</td>\n",
       "      <td>0</td>\n",
       "      <td>0</td>\n",
       "      <td>0</td>\n",
       "    </tr>\n",
       "    <tr>\n",
       "      <th>3</th>\n",
       "      <td>0</td>\n",
       "      <td>65.0</td>\n",
       "      <td>1</td>\n",
       "      <td>36.400540</td>\n",
       "      <td>59.388382</td>\n",
       "      <td>6.0</td>\n",
       "      <td>4.0</td>\n",
       "      <td>1.0</td>\n",
       "      <td>870000000</td>\n",
       "      <td>13384615.0</td>\n",
       "      <td>12.0</td>\n",
       "      <td>29</td>\n",
       "      <td>0</td>\n",
       "      <td>0</td>\n",
       "      <td>0</td>\n",
       "      <td>0</td>\n",
       "      <td>0</td>\n",
       "      <td>0</td>\n",
       "    </tr>\n",
       "    <tr>\n",
       "      <th>4</th>\n",
       "      <td>0</td>\n",
       "      <td>200.0</td>\n",
       "      <td>1</td>\n",
       "      <td>36.373776</td>\n",
       "      <td>59.475820</td>\n",
       "      <td>0.0</td>\n",
       "      <td>0.0</td>\n",
       "      <td>3.0</td>\n",
       "      <td>5350000000</td>\n",
       "      <td>26750000.0</td>\n",
       "      <td>12.0</td>\n",
       "      <td>29</td>\n",
       "      <td>1</td>\n",
       "      <td>1</td>\n",
       "      <td>1</td>\n",
       "      <td>1</td>\n",
       "      <td>0</td>\n",
       "      <td>0</td>\n",
       "    </tr>\n",
       "  </tbody>\n",
       "</table>\n",
       "</div>"
      ],
      "text/plain": [
       "   type   area  neighborhood   latitude  longitude   age  floor  bedrooms  \\\n",
       "0     0   73.0             1  36.373776  59.475820  11.0    1.0       2.0   \n",
       "1     0  100.0            14  36.327670  59.548380   7.0    1.0       2.0   \n",
       "2     0  140.0            17  36.310605  59.504477   0.0    2.0       2.0   \n",
       "3     0   65.0             1  36.400540  59.388382   6.0    4.0       1.0   \n",
       "4     0  200.0             1  36.373776  59.475820   0.0    0.0       3.0   \n",
       "\n",
       "         price    sqmprice  zone  street  elevator  parking  storage  yard  \\\n",
       "0   2200000000  30136986.0  12.0      29         1        1        1     0   \n",
       "1   4800000000  48000000.0   2.0     166         1        1        1     1   \n",
       "2  10200000000  72857142.0   9.0     229         1        1        1     0   \n",
       "3    870000000  13384615.0  12.0      29         0        0        0     0   \n",
       "4   5350000000  26750000.0  12.0      29         1        1        1     1   \n",
       "\n",
       "   balcony  reconstructed  \n",
       "0        0              0  \n",
       "1        0              0  \n",
       "2        0              0  \n",
       "3        0              0  \n",
       "4        0              0  "
      ]
     },
     "execution_count": 72,
     "metadata": {},
     "output_type": "execute_result"
    }
   ],
   "source": [
    "label_encoded.head()"
   ]
  },
  {
   "cell_type": "markdown",
   "metadata": {},
   "source": [
    "One-hot encoding "
   ]
  },
  {
   "cell_type": "code",
   "execution_count": null,
   "metadata": {},
   "outputs": [],
   "source": [
    "onehot_encoded = onehot_encode(data, columns)"
   ]
  },
  {
   "cell_type": "code",
   "execution_count": null,
   "metadata": {},
   "outputs": [
    {
     "name": "stdout",
     "output_type": "stream",
     "text": [
      "<class 'pandas.core.frame.DataFrame'>\n",
      "Int64Index: 46050 entries, 0 to 48119\n",
      "Columns: 317 entries, area to reconstructed_True\n",
      "dtypes: float64(8), int64(1), uint8(308)\n",
      "memory usage: 17.0 MB\n"
     ]
    }
   ],
   "source": [
    "onehot_encoded.info()"
   ]
  },
  {
   "cell_type": "code",
   "execution_count": null,
   "metadata": {},
   "outputs": [
    {
     "data": {
      "text/plain": [
       "Index(['area', 'latitude', 'longitude', 'age', 'floor', 'bedrooms', 'price',\n",
       "       'sqmprice', 'zone', 'type_فروش آپارتمان',\n",
       "       ...\n",
       "       'parking_False', 'parking_True', 'storage_False', 'storage_True',\n",
       "       'yard_False', 'yard_True', 'balcony_False', 'balcony_True',\n",
       "       'reconstructed_False', 'reconstructed_True'],\n",
       "      dtype='object', length=317)"
      ]
     },
     "execution_count": 75,
     "metadata": {},
     "output_type": "execute_result"
    }
   ],
   "source": [
    "onehot_encoded.columns"
   ]
  },
  {
   "cell_type": "markdown",
   "metadata": {},
   "source": [
    "## Visualization , Statistics & Normalization"
   ]
  },
  {
   "cell_type": "markdown",
   "metadata": {},
   "source": [
    "Visualizing the data helps identifying outliers and even hidden connection between different features.  \n",
    "\n",
    "It also help to further normalize the data"
   ]
  },
  {
   "cell_type": "markdown",
   "metadata": {},
   "source": [
    "### Type"
   ]
  },
  {
   "cell_type": "code",
   "execution_count": null,
   "metadata": {},
   "outputs": [
    {
     "data": {
      "text/plain": [
       "<Axes: xlabel='type', ylabel='count'>"
      ]
     },
     "execution_count": 76,
     "metadata": {},
     "output_type": "execute_result"
    },
    {
     "data": {
      "image/png": "[encoded data removed]",
      "text/plain": [
       "<Figure size 640x480 with 1 Axes>"
      ]
     },
     "metadata": {},
     "output_type": "display_data"
    }
   ],
   "source": [
    "sns.countplot(x=data['type'])"
   ]
  },
  {
   "cell_type": "markdown",
   "metadata": {},
   "source": [
    "### Area"
   ]
  },
  {
   "cell_type": "code",
   "execution_count": null,
   "metadata": {},
   "outputs": [
    {
     "data": {
      "text/plain": [
       "(array([4.576e+04, 2.040e+02, 5.300e+01, 9.000e+00, 3.000e+00, 4.000e+00,\n",
       "        4.000e+00, 3.000e+00, 4.000e+00, 6.000e+00]),\n",
       " array([   0.,  720., 1440., 2160., 2880., 3600., 4320., 5040., 5760.,\n",
       "        6480., 7200.]),\n",
       " <BarContainer object of 10 artists>)"
      ]
     },
     "execution_count": 77,
     "metadata": {},
     "output_type": "execute_result"
    },
    {
     "data": {
      "image/png": "[encoded data removed]",
      "text/plain": [
       "<Figure size 640x480 with 1 Axes>"
      ]
     },
     "metadata": {},
     "output_type": "display_data"
    }
   ],
   "source": [
    "plt.hist(data['area'])"
   ]
  },
  {
   "cell_type": "code",
   "execution_count": null,
   "metadata": {},
   "outputs": [
    {
     "data": {
      "text/plain": [
       "type             فروش ویلاییفروش ویلاییفروش ویلاییفروش آپارتمان...\n",
       "area                                                      634176.0\n",
       "neighborhood      الهیه چهارراه لشکر سجاد چهارراه لشکر 17 شهریو...\n",
       "latitude                                              24150.839009\n",
       "longitude                                             39595.460898\n",
       "age                                                         7671.0\n",
       "floor                                                       1235.0\n",
       "bedrooms                                                    2596.0\n",
       "price                                               42967726003832\n",
       "sqmprice                                             48431419273.0\n",
       "zone                                                        4162.0\n",
       "street           امیریهامام رضاسجادامام رضاهفده شهریورصیاد شیرا...\n",
       "elevator                                                       217\n",
       "parking                                                        638\n",
       "storage                                                        631\n",
       "yard                                                            31\n",
       "balcony                                                        435\n",
       "reconstructed                                                  108\n",
       "dtype: object"
      ]
     },
     "execution_count": 78,
     "metadata": {},
     "output_type": "execute_result"
    }
   ],
   "source": [
    "data.loc[data['area'] > 450].sum()"
   ]
  },
  {
   "cell_type": "markdown",
   "metadata": {},
   "source": [
    "These outlier should be removed"
   ]
  },
  {
   "cell_type": "code",
   "execution_count": null,
   "metadata": {},
   "outputs": [],
   "source": [
    "data = data.drop(data[data['area'] > 450].index)"
   ]
  },
  {
   "cell_type": "code",
   "execution_count": null,
   "metadata": {},
   "outputs": [
    {
     "data": {
      "text/plain": [
       "(array([  113., 12073., 16895., 10081.,  3044.,  1800.,   665.,   429.,\n",
       "          183.,   102.]),\n",
       " array([  0.,  45.,  90., 135., 180., 225., 270., 315., 360., 405., 450.]),\n",
       " <BarContainer object of 10 artists>)"
      ]
     },
     "execution_count": 80,
     "metadata": {},
     "output_type": "execute_result"
    },
    {
     "data": {
      "image/png": "[encoded data removed]",
      "text/plain": [
       "<Figure size 640x480 with 1 Axes>"
      ]
     },
     "metadata": {},
     "output_type": "display_data"
    }
   ],
   "source": [
    "plt.hist(data['area'])"
   ]
  },
  {
   "cell_type": "code",
   "execution_count": null,
   "metadata": {},
   "outputs": [
    {
     "data": {
      "text/html": [
       "<div>\n",
       "<style scoped>\n",
       "    .dataframe tbody tr th:only-of-type {\n",
       "        vertical-align: middle;\n",
       "    }\n",
       "\n",
       "    .dataframe tbody tr th {\n",
       "        vertical-align: top;\n",
       "    }\n",
       "\n",
       "    .dataframe thead th {\n",
       "        text-align: right;\n",
       "    }\n",
       "</style>\n",
       "<table border=\"1\" class=\"dataframe\">\n",
       "  <thead>\n",
       "    <tr style=\"text-align: right;\">\n",
       "      <th></th>\n",
       "      <th>type</th>\n",
       "      <th>area</th>\n",
       "      <th>neighborhood</th>\n",
       "      <th>latitude</th>\n",
       "      <th>longitude</th>\n",
       "      <th>age</th>\n",
       "      <th>floor</th>\n",
       "      <th>bedrooms</th>\n",
       "      <th>price</th>\n",
       "      <th>sqmprice</th>\n",
       "      <th>zone</th>\n",
       "      <th>street</th>\n",
       "      <th>elevator</th>\n",
       "      <th>parking</th>\n",
       "      <th>storage</th>\n",
       "      <th>yard</th>\n",
       "      <th>balcony</th>\n",
       "      <th>reconstructed</th>\n",
       "    </tr>\n",
       "  </thead>\n",
       "  <tbody>\n",
       "    <tr>\n",
       "      <th>14518</th>\n",
       "      <td>فروش آپارتمان</td>\n",
       "      <td>0.0</td>\n",
       "      <td>دانشجو</td>\n",
       "      <td>36.333390</td>\n",
       "      <td>59.495752</td>\n",
       "      <td>14.0</td>\n",
       "      <td>2.0</td>\n",
       "      <td>2.0</td>\n",
       "      <td>2790000000</td>\n",
       "      <td>inf</td>\n",
       "      <td>11.0</td>\n",
       "      <td>صدف</td>\n",
       "      <td>False</td>\n",
       "      <td>True</td>\n",
       "      <td>True</td>\n",
       "      <td>False</td>\n",
       "      <td>False</td>\n",
       "      <td>False</td>\n",
       "    </tr>\n",
       "    <tr>\n",
       "      <th>18651</th>\n",
       "      <td>فروش آپارتمان</td>\n",
       "      <td>0.0</td>\n",
       "      <td>آزاد شهر</td>\n",
       "      <td>36.327540</td>\n",
       "      <td>59.527520</td>\n",
       "      <td>18.0</td>\n",
       "      <td>2.0</td>\n",
       "      <td>3.0</td>\n",
       "      <td>7000000000</td>\n",
       "      <td>inf</td>\n",
       "      <td>11.0</td>\n",
       "      <td>آزادشهر</td>\n",
       "      <td>False</td>\n",
       "      <td>True</td>\n",
       "      <td>True</td>\n",
       "      <td>False</td>\n",
       "      <td>False</td>\n",
       "      <td>True</td>\n",
       "    </tr>\n",
       "    <tr>\n",
       "      <th>30918</th>\n",
       "      <td>فروش آپارتمان</td>\n",
       "      <td>0.0</td>\n",
       "      <td>الهیه</td>\n",
       "      <td>36.373776</td>\n",
       "      <td>59.475820</td>\n",
       "      <td>5.0</td>\n",
       "      <td>2.0</td>\n",
       "      <td>3.0</td>\n",
       "      <td>5616000000</td>\n",
       "      <td>inf</td>\n",
       "      <td>12.0</td>\n",
       "      <td>الهیه</td>\n",
       "      <td>True</td>\n",
       "      <td>True</td>\n",
       "      <td>True</td>\n",
       "      <td>False</td>\n",
       "      <td>False</td>\n",
       "      <td>True</td>\n",
       "    </tr>\n",
       "    <tr>\n",
       "      <th>33334</th>\n",
       "      <td>فروش آپارتمان</td>\n",
       "      <td>0.0</td>\n",
       "      <td>قاسم آباد</td>\n",
       "      <td>36.372743</td>\n",
       "      <td>59.504568</td>\n",
       "      <td>12.0</td>\n",
       "      <td>2.0</td>\n",
       "      <td>2.0</td>\n",
       "      <td>2700000000</td>\n",
       "      <td>inf</td>\n",
       "      <td>10.0</td>\n",
       "      <td>قاسم آباد</td>\n",
       "      <td>False</td>\n",
       "      <td>True</td>\n",
       "      <td>True</td>\n",
       "      <td>False</td>\n",
       "      <td>False</td>\n",
       "      <td>True</td>\n",
       "    </tr>\n",
       "    <tr>\n",
       "      <th>35074</th>\n",
       "      <td>فروش آپارتمان</td>\n",
       "      <td>0.0</td>\n",
       "      <td>قاسم آباد</td>\n",
       "      <td>36.360020</td>\n",
       "      <td>59.517400</td>\n",
       "      <td>9.0</td>\n",
       "      <td>3.0</td>\n",
       "      <td>2.0</td>\n",
       "      <td>2000000000</td>\n",
       "      <td>inf</td>\n",
       "      <td>10.0</td>\n",
       "      <td>قاسم آباد</td>\n",
       "      <td>False</td>\n",
       "      <td>False</td>\n",
       "      <td>False</td>\n",
       "      <td>False</td>\n",
       "      <td>False</td>\n",
       "      <td>False</td>\n",
       "    </tr>\n",
       "    <tr>\n",
       "      <th>42969</th>\n",
       "      <td>فروش آپارتمان</td>\n",
       "      <td>0.0</td>\n",
       "      <td>الهیه</td>\n",
       "      <td>36.373776</td>\n",
       "      <td>59.475820</td>\n",
       "      <td>10.0</td>\n",
       "      <td>6.0</td>\n",
       "      <td>2.0</td>\n",
       "      <td>2590000000</td>\n",
       "      <td>inf</td>\n",
       "      <td>12.0</td>\n",
       "      <td>الهیه</td>\n",
       "      <td>True</td>\n",
       "      <td>True</td>\n",
       "      <td>False</td>\n",
       "      <td>False</td>\n",
       "      <td>False</td>\n",
       "      <td>False</td>\n",
       "    </tr>\n",
       "    <tr>\n",
       "      <th>46485</th>\n",
       "      <td>فروش آپارتمان</td>\n",
       "      <td>0.0</td>\n",
       "      <td>قاسم آباد</td>\n",
       "      <td>36.349464</td>\n",
       "      <td>59.470745</td>\n",
       "      <td>10.0</td>\n",
       "      <td>0.0</td>\n",
       "      <td>2.0</td>\n",
       "      <td>1900000000</td>\n",
       "      <td>inf</td>\n",
       "      <td>10.0</td>\n",
       "      <td>قاسم آباد</td>\n",
       "      <td>False</td>\n",
       "      <td>False</td>\n",
       "      <td>False</td>\n",
       "      <td>False</td>\n",
       "      <td>False</td>\n",
       "      <td>False</td>\n",
       "    </tr>\n",
       "  </tbody>\n",
       "</table>\n",
       "</div>"
      ],
      "text/plain": [
       "                type  area neighborhood   latitude  longitude   age  floor  \\\n",
       "14518  فروش آپارتمان   0.0      دانشجو   36.333390  59.495752  14.0    2.0   \n",
       "18651  فروش آپارتمان   0.0    آزاد شهر   36.327540  59.527520  18.0    2.0   \n",
       "30918  فروش آپارتمان   0.0       الهیه   36.373776  59.475820   5.0    2.0   \n",
       "33334  فروش آپارتمان   0.0   قاسم آباد   36.372743  59.504568  12.0    2.0   \n",
       "35074  فروش آپارتمان   0.0   قاسم آباد   36.360020  59.517400   9.0    3.0   \n",
       "42969  فروش آپارتمان   0.0       الهیه   36.373776  59.475820  10.0    6.0   \n",
       "46485  فروش آپارتمان   0.0   قاسم آباد   36.349464  59.470745  10.0    0.0   \n",
       "\n",
       "       bedrooms       price  sqmprice  zone     street  elevator  parking  \\\n",
       "14518       2.0  2790000000       inf  11.0        صدف     False     True   \n",
       "18651       3.0  7000000000       inf  11.0    آزادشهر     False     True   \n",
       "30918       3.0  5616000000       inf  12.0      الهیه      True     True   \n",
       "33334       2.0  2700000000       inf  10.0  قاسم آباد     False     True   \n",
       "35074       2.0  2000000000       inf  10.0  قاسم آباد     False    False   \n",
       "42969       2.0  2590000000       inf  12.0      الهیه      True     True   \n",
       "46485       2.0  1900000000       inf  10.0  قاسم آباد     False    False   \n",
       "\n",
       "       storage   yard  balcony  reconstructed  \n",
       "14518     True  False    False          False  \n",
       "18651     True  False    False           True  \n",
       "30918     True  False    False           True  \n",
       "33334     True  False    False           True  \n",
       "35074    False  False    False          False  \n",
       "42969    False  False    False          False  \n",
       "46485    False  False    False          False  "
      ]
     },
     "execution_count": 81,
     "metadata": {},
     "output_type": "execute_result"
    }
   ],
   "source": [
    "data.loc[data['area'] == 0]"
   ]
  },
  {
   "cell_type": "code",
   "execution_count": null,
   "metadata": {},
   "outputs": [],
   "source": [
    "data = data.drop(data[data['area'] == 0].index)"
   ]
  },
  {
   "cell_type": "markdown",
   "metadata": {},
   "source": [
    "### Zone"
   ]
  },
  {
   "cell_type": "code",
   "execution_count": null,
   "metadata": {},
   "outputs": [
    {
     "data": {
      "text/plain": [
       "(array([ 4818.,  5074.,  1162.,  1392.,     0.,   231.,  1374.,  2300.,\n",
       "         8930.,  4359.,  4786., 10952.]),\n",
       " array([ 1.        ,  1.91666667,  2.83333333,  3.75      ,  4.66666667,\n",
       "         5.58333333,  6.5       ,  7.41666667,  8.33333333,  9.25      ,\n",
       "        10.16666667, 11.08333333, 12.        ]),\n",
       " <BarContainer object of 12 artists>)"
      ]
     },
     "execution_count": 83,
     "metadata": {},
     "output_type": "execute_result"
    },
    {
     "data": {
      "image/png": "[encoded data removed]",
      "text/plain": [
       "<Figure size 640x480 with 1 Axes>"
      ]
     },
     "metadata": {},
     "output_type": "display_data"
    }
   ],
   "source": [
    "plt.hist(data['zone'], bins=12)"
   ]
  },
  {
   "cell_type": "markdown",
   "metadata": {},
   "source": [
    "### Longitude & Latitude"
   ]
  },
  {
   "cell_type": "code",
   "execution_count": null,
   "metadata": {},
   "outputs": [
    {
     "data": {
      "text/plain": [
       "<matplotlib.collections.PathCollection at 0x1d1fad401d0>"
      ]
     },
     "execution_count": 84,
     "metadata": {},
     "output_type": "execute_result"
    },
    {
     "data": {
      "image/png": "[encoded data removed]",
      "text/plain": [
       "<Figure size 640x480 with 1 Axes>"
      ]
     },
     "metadata": {},
     "output_type": "display_data"
    }
   ],
   "source": [
    "plt.scatter(x=data['longitude'], y=data['latitude'], s=1)"
   ]
  },
  {
   "cell_type": "markdown",
   "metadata": {},
   "source": [
    "Dropping the outlier items from right and bottom left"
   ]
  },
  {
   "cell_type": "code",
   "execution_count": null,
   "metadata": {},
   "outputs": [],
   "source": [
    "data = data.drop(data[(data['longitude'] < 59.45) | (data['longitude'] > 59.70) | (data['latitude'] > 36.40) | (data['latitude'] < 36.20)].index)"
   ]
  },
  {
   "cell_type": "code",
   "execution_count": null,
   "metadata": {},
   "outputs": [
    {
     "data": {
      "text/plain": [
       "<matplotlib.collections.PathCollection at 0x1d180137190>"
      ]
     },
     "execution_count": 86,
     "metadata": {},
     "output_type": "execute_result"
    },
    {
     "data": {
      "image/png": "[encoded data removed]",
      "text/plain": [
       "<Figure size 640x480 with 1 Axes>"
      ]
     },
     "metadata": {},
     "output_type": "display_data"
    }
   ],
   "source": [
    "plt.scatter(x=data['longitude'], y=data['latitude'], s=1)"
   ]
  },
  {
   "cell_type": "markdown",
   "metadata": {},
   "source": [
    "Here, we can clearly see Mashhad's map"
   ]
  },
  {
   "cell_type": "markdown",
   "metadata": {},
   "source": [
    "### Age"
   ]
  },
  {
   "cell_type": "code",
   "execution_count": null,
   "metadata": {},
   "outputs": [
    {
     "data": {
      "text/plain": [
       "<Axes: xlabel='age', ylabel='count'>"
      ]
     },
     "execution_count": 87,
     "metadata": {},
     "output_type": "execute_result"
    },
    {
     "data": {
      "image/png": "[encoded data removed]",
      "text/plain": [
       "<Figure size 640x480 with 1 Axes>"
      ]
     },
     "metadata": {},
     "output_type": "display_data"
    }
   ],
   "source": [
    "sns.countplot(x=data['age'], color='#1f77b4')"
   ]
  },
  {
   "cell_type": "markdown",
   "metadata": {},
   "source": [
    "### Floor"
   ]
  },
  {
   "cell_type": "code",
   "execution_count": null,
   "metadata": {},
   "outputs": [
    {
     "data": {
      "text/plain": [
       "<Axes: xlabel='floor', ylabel='count'>"
      ]
     },
     "execution_count": 88,
     "metadata": {},
     "output_type": "execute_result"
    },
    {
     "data": {
      "image/png": "[encoded data removed]",
      "text/plain": [
       "<Figure size 640x480 with 1 Axes>"
      ]
     },
     "metadata": {},
     "output_type": "display_data"
    }
   ],
   "source": [
    "sns.countplot(x=data['floor'], color='#1f77b4')"
   ]
  },
  {
   "cell_type": "code",
   "execution_count": null,
   "metadata": {},
   "outputs": [
    {
     "data": {
      "text/plain": [
       " 3.0     9202\n",
       " 2.0     9037\n",
       " 1.0     8071\n",
       " 0.0     7170\n",
       " 4.0     6502\n",
       " 5.0     3350\n",
       " 6.0     1534\n",
       " 7.0      200\n",
       " 8.0       67\n",
       " 9.0       49\n",
       " 10.0      28\n",
       "-1.0       23\n",
       " 11.0      18\n",
       " 12.0       6\n",
       " 14.0       5\n",
       " 13.0       5\n",
       " 18.0       3\n",
       " 16.0       3\n",
       " 20.0       2\n",
       " 17.0       1\n",
       " 15.0       1\n",
       " 30.0       1\n",
       " 21.0       1\n",
       "Name: floor, dtype: int64"
      ]
     },
     "execution_count": 89,
     "metadata": {},
     "output_type": "execute_result"
    }
   ],
   "source": [
    "data['floor'].value_counts()"
   ]
  },
  {
   "cell_type": "code",
   "execution_count": null,
   "metadata": {},
   "outputs": [],
   "source": [
    "data = data.drop(data[(data['floor'] > 10) | (data['floor'] < 0)].index)"
   ]
  },
  {
   "cell_type": "code",
   "execution_count": null,
   "metadata": {},
   "outputs": [
    {
     "data": {
      "text/plain": [
       "<Axes: xlabel='floor', ylabel='count'>"
      ]
     },
     "execution_count": 91,
     "metadata": {},
     "output_type": "execute_result"
    },
    {
     "data": {
      "image/png": "[encoded data removed]",
      "text/plain": [
       "<Figure size 640x480 with 1 Axes>"
      ]
     },
     "metadata": {},
     "output_type": "display_data"
    }
   ],
   "source": [
    "sns.countplot(x=data['floor'], color='#1f77b4')"
   ]
  },
  {
   "cell_type": "markdown",
   "metadata": {},
   "source": [
    "### Bedrooms"
   ]
  },
  {
   "cell_type": "code",
   "execution_count": null,
   "metadata": {},
   "outputs": [
    {
     "data": {
      "text/plain": [
       "<Axes: xlabel='bedrooms', ylabel='count'>"
      ]
     },
     "execution_count": 92,
     "metadata": {},
     "output_type": "execute_result"
    },
    {
     "data": {
      "image/png": "[encoded data removed]",
      "text/plain": [
       "<Figure size 640x480 with 1 Axes>"
      ]
     },
     "metadata": {},
     "output_type": "display_data"
    }
   ],
   "source": [
    "sns.countplot(x=data['bedrooms'], color='#1f77b4')"
   ]
  },
  {
   "cell_type": "code",
   "execution_count": null,
   "metadata": {},
   "outputs": [],
   "source": [
    "data = data.drop(data[data['bedrooms'] > 5].index)"
   ]
  },
  {
   "cell_type": "code",
   "execution_count": null,
   "metadata": {},
   "outputs": [
    {
     "data": {
      "text/plain": [
       "<Axes: xlabel='bedrooms', ylabel='count'>"
      ]
     },
     "execution_count": 94,
     "metadata": {},
     "output_type": "execute_result"
    },
    {
     "data": {
      "image/png": "[encoded data removed]",
      "text/plain": [
       "<Figure size 640x480 with 1 Axes>"
      ]
     },
     "metadata": {},
     "output_type": "display_data"
    }
   ],
   "source": [
    "sns.countplot(x=data['bedrooms'], color='#1f77b4')"
   ]
  },
  {
   "cell_type": "markdown",
   "metadata": {},
   "source": [
    "### Price"
   ]
  },
  {
   "cell_type": "code",
   "execution_count": null,
   "metadata": {},
   "outputs": [
    {
     "data": {
      "text/plain": [
       "(array([4.5192e+04, 3.0000e+00, 1.0000e+00, 0.0000e+00, 0.0000e+00,\n",
       "        0.0000e+00, 0.0000e+00, 0.0000e+00, 0.0000e+00, 1.0000e+00]),\n",
       " array([6.0000000e+06, 4.3000540e+11, 8.6000480e+11, 1.2900042e+12,\n",
       "        1.7200036e+12, 2.1500030e+12, 2.5800024e+12, 3.0100018e+12,\n",
       "        3.4400012e+12, 3.8700006e+12, 4.3000000e+12]),\n",
       " <BarContainer object of 10 artists>)"
      ]
     },
     "execution_count": 95,
     "metadata": {},
     "output_type": "execute_result"
    },
    {
     "data": {
      "image/png": "[encoded data removed]",
      "text/plain": [
       "<Figure size 640x480 with 1 Axes>"
      ]
     },
     "metadata": {},
     "output_type": "display_data"
    }
   ],
   "source": [
    "plt.hist(data['price'])"
   ]
  },
  {
   "cell_type": "code",
   "execution_count": null,
   "metadata": {},
   "outputs": [
    {
     "data": {
      "text/plain": [
       "count    4.519700e+04\n",
       "mean     5.885442e+09\n",
       "std      2.229627e+10\n",
       "min      6.000000e+06\n",
       "25%      2.640000e+09\n",
       "50%      3.880000e+09\n",
       "75%      6.500000e+09\n",
       "max      4.300000e+12\n",
       "Name: price, dtype: float64"
      ]
     },
     "execution_count": 96,
     "metadata": {},
     "output_type": "execute_result"
    }
   ],
   "source": [
    "data['price'].describe()"
   ]
  },
  {
   "cell_type": "code",
   "execution_count": null,
   "metadata": {},
   "outputs": [],
   "source": [
    "data = data.drop(data[data['price'] > 40000000000].index)"
   ]
  },
  {
   "cell_type": "code",
   "execution_count": null,
   "metadata": {},
   "outputs": [
    {
     "data": {
      "text/plain": [
       "(array([23899., 13714.,  3934.,  1256.,   829.,   492.,   439.,   240.,\n",
       "          134.,    83.]),\n",
       " array([6.00000e+06, 4.00540e+09, 8.00480e+09, 1.20042e+10, 1.60036e+10,\n",
       "        2.00030e+10, 2.40024e+10, 2.80018e+10, 3.20012e+10, 3.60006e+10,\n",
       "        4.00000e+10]),\n",
       " <BarContainer object of 10 artists>)"
      ]
     },
     "execution_count": 98,
     "metadata": {},
     "output_type": "execute_result"
    },
    {
     "data": {
      "image/png": "[encoded data removed]",
      "text/plain": [
       "<Figure size 640x480 with 1 Axes>"
      ]
     },
     "metadata": {},
     "output_type": "display_data"
    }
   ],
   "source": [
    "plt.hist(data['price'])"
   ]
  },
  {
   "cell_type": "markdown",
   "metadata": {},
   "source": [
    "### Price & Area"
   ]
  },
  {
   "cell_type": "code",
   "execution_count": null,
   "metadata": {},
   "outputs": [
    {
     "data": {
      "text/plain": [
       "<matplotlib.collections.PathCollection at 0x1d1806981d0>"
      ]
     },
     "execution_count": 99,
     "metadata": {},
     "output_type": "execute_result"
    },
    {
     "data": {
      "image/png": "[encoded data removed]",
      "text/plain": [
       "<Figure size 640x480 with 1 Axes>"
      ]
     },
     "metadata": {},
     "output_type": "display_data"
    }
   ],
   "source": [
    "plt.scatter(data['area'], data['price'], s=1)"
   ]
  },
  {
   "cell_type": "markdown",
   "metadata": {},
   "source": [
    "### Elevator"
   ]
  },
  {
   "cell_type": "code",
   "execution_count": null,
   "metadata": {},
   "outputs": [
    {
     "data": {
      "text/plain": [
       "<Axes: xlabel='elevator', ylabel='count'>"
      ]
     },
     "execution_count": 100,
     "metadata": {},
     "output_type": "execute_result"
    },
    {
     "data": {
      "image/png": "[encoded data removed]",
      "text/plain": [
       "<Figure size 640x480 with 1 Axes>"
      ]
     },
     "metadata": {},
     "output_type": "display_data"
    }
   ],
   "source": [
    "sns.countplot(x=data['elevator'])"
   ]
  },
  {
   "cell_type": "markdown",
   "metadata": {},
   "source": [
    "### Parking"
   ]
  },
  {
   "cell_type": "code",
   "execution_count": null,
   "metadata": {},
   "outputs": [
    {
     "data": {
      "text/plain": [
       "<Axes: xlabel='parking', ylabel='count'>"
      ]
     },
     "execution_count": 101,
     "metadata": {},
     "output_type": "execute_result"
    },
    {
     "data": {
      "image/png": "[encoded data removed]",
      "text/plain": [
       "<Figure size 640x480 with 1 Axes>"
      ]
     },
     "metadata": {},
     "output_type": "display_data"
    }
   ],
   "source": [
    "sns.countplot(x=data['parking'])"
   ]
  },
  {
   "cell_type": "markdown",
   "metadata": {},
   "source": [
    "### Storage"
   ]
  },
  {
   "cell_type": "code",
   "execution_count": null,
   "metadata": {},
   "outputs": [
    {
     "data": {
      "text/plain": [
       "<Axes: xlabel='storage', ylabel='count'>"
      ]
     },
     "execution_count": 102,
     "metadata": {},
     "output_type": "execute_result"
    },
    {
     "data": {
      "image/png": "[encoded data removed]",
      "text/plain": [
       "<Figure size 640x480 with 1 Axes>"
      ]
     },
     "metadata": {},
     "output_type": "display_data"
    }
   ],
   "source": [
    "sns.countplot(x=data['storage'])"
   ]
  },
  {
   "cell_type": "markdown",
   "metadata": {},
   "source": [
    "### Yard"
   ]
  },
  {
   "cell_type": "code",
   "execution_count": null,
   "metadata": {},
   "outputs": [
    {
     "data": {
      "text/plain": [
       "<Axes: xlabel='yard', ylabel='count'>"
      ]
     },
     "execution_count": 103,
     "metadata": {},
     "output_type": "execute_result"
    },
    {
     "data": {
      "image/png": "[encoded data removed]",
      "text/plain": [
       "<Figure size 640x480 with 1 Axes>"
      ]
     },
     "metadata": {},
     "output_type": "display_data"
    }
   ],
   "source": [
    "sns.countplot(x=data['yard'])"
   ]
  },
  {
   "cell_type": "markdown",
   "metadata": {},
   "source": [
    "### Balcony"
   ]
  },
  {
   "cell_type": "code",
   "execution_count": null,
   "metadata": {},
   "outputs": [
    {
     "data": {
      "text/plain": [
       "<Axes: xlabel='balcony', ylabel='count'>"
      ]
     },
     "execution_count": 104,
     "metadata": {},
     "output_type": "execute_result"
    },
    {
     "data": {
      "image/png": "[encoded data removed]",
      "text/plain": [
       "<Figure size 640x480 with 1 Axes>"
      ]
     },
     "metadata": {},
     "output_type": "display_data"
    }
   ],
   "source": [
    "sns.countplot(x=data['balcony'])"
   ]
  },
  {
   "cell_type": "markdown",
   "metadata": {},
   "source": [
    "### Area & sqm price"
   ]
  },
  {
   "cell_type": "code",
   "execution_count": null,
   "metadata": {},
   "outputs": [
    {
     "data": {
      "text/plain": [
       "<matplotlib.collections.PathCollection at 0x1d18047bdd0>"
      ]
     },
     "execution_count": 105,
     "metadata": {},
     "output_type": "execute_result"
    },
    {
     "data": {
      "image/png": "[encoded data removed]",
      "text/plain": [
       "<Figure size 640x480 with 1 Axes>"
      ]
     },
     "metadata": {},
     "output_type": "display_data"
    }
   ],
   "source": [
    "plt.scatter(x=data['sqmprice'], y=data['price'], s=1)"
   ]
  },
  {
   "cell_type": "code",
   "execution_count": null,
   "metadata": {},
   "outputs": [
    {
     "data": {
      "text/html": [
       "<div>\n",
       "<style scoped>\n",
       "    .dataframe tbody tr th:only-of-type {\n",
       "        vertical-align: middle;\n",
       "    }\n",
       "\n",
       "    .dataframe tbody tr th {\n",
       "        vertical-align: top;\n",
       "    }\n",
       "\n",
       "    .dataframe thead th {\n",
       "        text-align: right;\n",
       "    }\n",
       "</style>\n",
       "<table border=\"1\" class=\"dataframe\">\n",
       "  <thead>\n",
       "    <tr style=\"text-align: right;\">\n",
       "      <th></th>\n",
       "      <th>type</th>\n",
       "      <th>area</th>\n",
       "      <th>neighborhood</th>\n",
       "      <th>latitude</th>\n",
       "      <th>longitude</th>\n",
       "      <th>age</th>\n",
       "      <th>floor</th>\n",
       "      <th>bedrooms</th>\n",
       "      <th>price</th>\n",
       "      <th>sqmprice</th>\n",
       "      <th>zone</th>\n",
       "      <th>street</th>\n",
       "      <th>elevator</th>\n",
       "      <th>parking</th>\n",
       "      <th>storage</th>\n",
       "      <th>yard</th>\n",
       "      <th>balcony</th>\n",
       "      <th>reconstructed</th>\n",
       "    </tr>\n",
       "  </thead>\n",
       "  <tbody>\n",
       "    <tr>\n",
       "      <th>649</th>\n",
       "      <td>فروش آپارتمان</td>\n",
       "      <td>92.0</td>\n",
       "      <td>آب و برق</td>\n",
       "      <td>36.332903</td>\n",
       "      <td>59.469986</td>\n",
       "      <td>14.0</td>\n",
       "      <td>4.0</td>\n",
       "      <td>2.0</td>\n",
       "      <td>32500000000</td>\n",
       "      <td>353260869.0</td>\n",
       "      <td>9.0</td>\n",
       "      <td>اقبال لاهوری</td>\n",
       "      <td>True</td>\n",
       "      <td>True</td>\n",
       "      <td>True</td>\n",
       "      <td>False</td>\n",
       "      <td>False</td>\n",
       "      <td>True</td>\n",
       "    </tr>\n",
       "    <tr>\n",
       "      <th>1723</th>\n",
       "      <td>فروش ویلایی</td>\n",
       "      <td>180.0</td>\n",
       "      <td>آزاد شهر</td>\n",
       "      <td>36.327540</td>\n",
       "      <td>59.527520</td>\n",
       "      <td>27.0</td>\n",
       "      <td>0.0</td>\n",
       "      <td>3.0</td>\n",
       "      <td>31000000000</td>\n",
       "      <td>172222222.0</td>\n",
       "      <td>11.0</td>\n",
       "      <td>آزادشهر</td>\n",
       "      <td>False</td>\n",
       "      <td>True</td>\n",
       "      <td>True</td>\n",
       "      <td>False</td>\n",
       "      <td>True</td>\n",
       "      <td>False</td>\n",
       "    </tr>\n",
       "    <tr>\n",
       "      <th>2902</th>\n",
       "      <td>فروش آپارتمان</td>\n",
       "      <td>90.0</td>\n",
       "      <td>قاسم آباد</td>\n",
       "      <td>36.360020</td>\n",
       "      <td>59.517400</td>\n",
       "      <td>6.0</td>\n",
       "      <td>8.0</td>\n",
       "      <td>2.0</td>\n",
       "      <td>31500000000</td>\n",
       "      <td>350000000.0</td>\n",
       "      <td>10.0</td>\n",
       "      <td>قاسم آباد</td>\n",
       "      <td>True</td>\n",
       "      <td>True</td>\n",
       "      <td>True</td>\n",
       "      <td>False</td>\n",
       "      <td>False</td>\n",
       "      <td>True</td>\n",
       "    </tr>\n",
       "    <tr>\n",
       "      <th>3368</th>\n",
       "      <td>فروش ویلایی</td>\n",
       "      <td>150.0</td>\n",
       "      <td>17 شهریور</td>\n",
       "      <td>36.276045</td>\n",
       "      <td>59.617282</td>\n",
       "      <td>30.0</td>\n",
       "      <td>0.0</td>\n",
       "      <td>5.0</td>\n",
       "      <td>30000000000</td>\n",
       "      <td>200000000.0</td>\n",
       "      <td>7.0</td>\n",
       "      <td>هفده شهریور</td>\n",
       "      <td>False</td>\n",
       "      <td>True</td>\n",
       "      <td>True</td>\n",
       "      <td>False</td>\n",
       "      <td>True</td>\n",
       "      <td>False</td>\n",
       "    </tr>\n",
       "    <tr>\n",
       "      <th>3868</th>\n",
       "      <td>فروش آپارتمان</td>\n",
       "      <td>50.0</td>\n",
       "      <td>الهیه</td>\n",
       "      <td>36.373776</td>\n",
       "      <td>59.475820</td>\n",
       "      <td>16.0</td>\n",
       "      <td>1.0</td>\n",
       "      <td>1.0</td>\n",
       "      <td>16800000000</td>\n",
       "      <td>336000000.0</td>\n",
       "      <td>12.0</td>\n",
       "      <td>الهیه</td>\n",
       "      <td>False</td>\n",
       "      <td>False</td>\n",
       "      <td>False</td>\n",
       "      <td>False</td>\n",
       "      <td>False</td>\n",
       "      <td>True</td>\n",
       "    </tr>\n",
       "  </tbody>\n",
       "</table>\n",
       "</div>"
      ],
      "text/plain": [
       "               type   area neighborhood   latitude  longitude   age  floor  \\\n",
       "649   فروش آپارتمان   92.0   آب و برق    36.332903  59.469986  14.0    4.0   \n",
       "1723    فروش ویلایی  180.0    آزاد شهر   36.327540  59.527520  27.0    0.0   \n",
       "2902  فروش آپارتمان   90.0   قاسم آباد   36.360020  59.517400   6.0    8.0   \n",
       "3368    فروش ویلایی  150.0   17 شهریور   36.276045  59.617282  30.0    0.0   \n",
       "3868  فروش آپارتمان   50.0       الهیه   36.373776  59.475820  16.0    1.0   \n",
       "\n",
       "      bedrooms        price     sqmprice  zone        street  elevator  \\\n",
       "649        2.0  32500000000  353260869.0   9.0  اقبال لاهوری      True   \n",
       "1723       3.0  31000000000  172222222.0  11.0       آزادشهر     False   \n",
       "2902       2.0  31500000000  350000000.0  10.0     قاسم آباد      True   \n",
       "3368       5.0  30000000000  200000000.0   7.0   هفده شهریور     False   \n",
       "3868       1.0  16800000000  336000000.0  12.0         الهیه     False   \n",
       "\n",
       "      parking  storage   yard  balcony  reconstructed  \n",
       "649      True     True  False    False           True  \n",
       "1723     True     True  False     True          False  \n",
       "2902     True     True  False    False           True  \n",
       "3368     True     True  False     True          False  \n",
       "3868    False    False  False    False           True  "
      ]
     },
     "execution_count": 106,
     "metadata": {},
     "output_type": "execute_result"
    }
   ],
   "source": [
    "data.loc[data['sqmprice'] > 165000000].head()"
   ]
  },
  {
   "cell_type": "code",
   "execution_count": null,
   "metadata": {},
   "outputs": [],
   "source": [
    "data = data.drop(data[data['sqmprice'] > 165000000].index)"
   ]
  },
  {
   "cell_type": "code",
   "execution_count": null,
   "metadata": {},
   "outputs": [
    {
     "data": {
      "text/plain": [
       "<matplotlib.collections.PathCollection at 0x1d180a76390>"
      ]
     },
     "execution_count": 108,
     "metadata": {},
     "output_type": "execute_result"
    },
    {
     "data": {
      "image/png": "[encoded data removed]",
      "text/plain": [
       "<Figure size 640x480 with 1 Axes>"
      ]
     },
     "metadata": {},
     "output_type": "display_data"
    }
   ],
   "source": [
    "plt.scatter(x=data['sqmprice'], y=data['price'], s=1)"
   ]
  },
  {
   "cell_type": "markdown",
   "metadata": {},
   "source": [
    "### Bedrooms & Area"
   ]
  },
  {
   "cell_type": "code",
   "execution_count": null,
   "metadata": {},
   "outputs": [
    {
     "data": {
      "text/plain": [
       "<matplotlib.collections.PathCollection at 0x1d180aee390>"
      ]
     },
     "execution_count": 109,
     "metadata": {},
     "output_type": "execute_result"
    },
    {
     "data": {
      "image/png": "[encoded data removed]",
      "text/plain": [
       "<Figure size 640x480 with 1 Axes>"
      ]
     },
     "metadata": {},
     "output_type": "display_data"
    }
   ],
   "source": [
    "plt.scatter(x=data['bedrooms'], y=data['area'], s = 1)"
   ]
  },
  {
   "cell_type": "markdown",
   "metadata": {},
   "source": [
    "### Bedroom & Price"
   ]
  },
  {
   "cell_type": "code",
   "execution_count": null,
   "metadata": {},
   "outputs": [
    {
     "data": {
      "text/plain": [
       "<matplotlib.collections.PathCollection at 0x1d180a76310>"
      ]
     },
     "execution_count": 110,
     "metadata": {},
     "output_type": "execute_result"
    },
    {
     "data": {
      "image/png": "[encoded data removed]",
      "text/plain": [
       "<Figure size 640x480 with 1 Axes>"
      ]
     },
     "metadata": {},
     "output_type": "display_data"
    }
   ],
   "source": [
    "plt.scatter(data['bedrooms'], data['price'], s=1)"
   ]
  },
  {
   "cell_type": "markdown",
   "metadata": {},
   "source": [
    "### Reconstructed"
   ]
  },
  {
   "cell_type": "code",
   "execution_count": null,
   "metadata": {},
   "outputs": [
    {
     "data": {
      "text/plain": [
       "<Axes: xlabel='reconstructed', ylabel='count'>"
      ]
     },
     "execution_count": 111,
     "metadata": {},
     "output_type": "execute_result"
    },
    {
     "data": {
      "image/png": "[encoded data removed]",
      "text/plain": [
       "<Figure size 640x480 with 1 Axes>"
      ]
     },
     "metadata": {},
     "output_type": "display_data"
    }
   ],
   "source": [
    "sns.countplot(x=data['reconstructed'])"
   ]
  },
  {
   "cell_type": "markdown",
   "metadata": {},
   "source": [
    "## MLP"
   ]
  },
  {
   "cell_type": "code",
   "execution_count": null,
   "metadata": {},
   "outputs": [],
   "source": [
    "onehot_encoded.to_csv('onehot_final_data.csv', index=False)\n",
    "\n",
    "label_encoded.to_csv('label_final_data.csv', index=False)"
   ]
  },
  {
   "cell_type": "code",
   "execution_count": null,
   "metadata": {},
   "outputs": [],
   "source": [
    "data = pd.read_csv('onehot_final_data.csv')"
   ]
  },
  {
   "cell_type": "markdown",
   "metadata": {},
   "source": [
    "### Eliminating Infs"
   ]
  },
  {
   "cell_type": "code",
   "execution_count": null,
   "metadata": {},
   "outputs": [
    {
     "data": {
      "text/plain": [
       "7"
      ]
     },
     "execution_count": 114,
     "metadata": {},
     "output_type": "execute_result"
    }
   ],
   "source": [
    "data.isin([np.inf, -np.inf]).sum().sum()"
   ]
  },
  {
   "cell_type": "code",
   "execution_count": null,
   "metadata": {},
   "outputs": [],
   "source": [
    "data = data.replace([np.inf, -np.inf], np.finfo('float64').max)"
   ]
  },
  {
   "cell_type": "code",
   "execution_count": null,
   "metadata": {},
   "outputs": [
    {
     "data": {
      "text/plain": [
       "area                   0\n",
       "latitude               0\n",
       "longitude              0\n",
       "age                    0\n",
       "floor                  0\n",
       "                      ..\n",
       "yard_True              0\n",
       "balcony_False          0\n",
       "balcony_True           0\n",
       "reconstructed_False    0\n",
       "reconstructed_True     0\n",
       "Length: 317, dtype: int64"
      ]
     },
     "execution_count": 116,
     "metadata": {},
     "output_type": "execute_result"
    }
   ],
   "source": [
    "data.isin([np.inf, -np.inf]).sum()"
   ]
  },
  {
   "cell_type": "markdown",
   "metadata": {},
   "source": [
    "## Preparation"
   ]
  },
  {
   "cell_type": "code",
   "execution_count": null,
   "metadata": {},
   "outputs": [
    {
     "data": {
      "text/html": [
       "<div>\n",
       "<style scoped>\n",
       "    .dataframe tbody tr th:only-of-type {\n",
       "        vertical-align: middle;\n",
       "    }\n",
       "\n",
       "    .dataframe tbody tr th {\n",
       "        vertical-align: top;\n",
       "    }\n",
       "\n",
       "    .dataframe thead th {\n",
       "        text-align: right;\n",
       "    }\n",
       "</style>\n",
       "<table border=\"1\" class=\"dataframe\">\n",
       "  <thead>\n",
       "    <tr style=\"text-align: right;\">\n",
       "      <th></th>\n",
       "      <th>area</th>\n",
       "      <th>latitude</th>\n",
       "      <th>longitude</th>\n",
       "      <th>age</th>\n",
       "      <th>floor</th>\n",
       "      <th>bedrooms</th>\n",
       "      <th>price</th>\n",
       "      <th>sqmprice</th>\n",
       "      <th>zone</th>\n",
       "      <th>type_فروش آپارتمان</th>\n",
       "      <th>...</th>\n",
       "      <th>parking_False</th>\n",
       "      <th>parking_True</th>\n",
       "      <th>storage_False</th>\n",
       "      <th>storage_True</th>\n",
       "      <th>yard_False</th>\n",
       "      <th>yard_True</th>\n",
       "      <th>balcony_False</th>\n",
       "      <th>balcony_True</th>\n",
       "      <th>reconstructed_False</th>\n",
       "      <th>reconstructed_True</th>\n",
       "    </tr>\n",
       "  </thead>\n",
       "  <tbody>\n",
       "    <tr>\n",
       "      <th>0</th>\n",
       "      <td>73.0</td>\n",
       "      <td>36.373776</td>\n",
       "      <td>59.475820</td>\n",
       "      <td>11.0</td>\n",
       "      <td>1.0</td>\n",
       "      <td>2.0</td>\n",
       "      <td>2200000000</td>\n",
       "      <td>30136986.0</td>\n",
       "      <td>12.0</td>\n",
       "      <td>1</td>\n",
       "      <td>...</td>\n",
       "      <td>0</td>\n",
       "      <td>1</td>\n",
       "      <td>0</td>\n",
       "      <td>1</td>\n",
       "      <td>1</td>\n",
       "      <td>0</td>\n",
       "      <td>1</td>\n",
       "      <td>0</td>\n",
       "      <td>1</td>\n",
       "      <td>0</td>\n",
       "    </tr>\n",
       "    <tr>\n",
       "      <th>1</th>\n",
       "      <td>100.0</td>\n",
       "      <td>36.327670</td>\n",
       "      <td>59.548380</td>\n",
       "      <td>7.0</td>\n",
       "      <td>1.0</td>\n",
       "      <td>2.0</td>\n",
       "      <td>4800000000</td>\n",
       "      <td>48000000.0</td>\n",
       "      <td>2.0</td>\n",
       "      <td>1</td>\n",
       "      <td>...</td>\n",
       "      <td>0</td>\n",
       "      <td>1</td>\n",
       "      <td>0</td>\n",
       "      <td>1</td>\n",
       "      <td>0</td>\n",
       "      <td>1</td>\n",
       "      <td>1</td>\n",
       "      <td>0</td>\n",
       "      <td>1</td>\n",
       "      <td>0</td>\n",
       "    </tr>\n",
       "    <tr>\n",
       "      <th>2</th>\n",
       "      <td>140.0</td>\n",
       "      <td>36.310605</td>\n",
       "      <td>59.504477</td>\n",
       "      <td>0.0</td>\n",
       "      <td>2.0</td>\n",
       "      <td>2.0</td>\n",
       "      <td>10200000000</td>\n",
       "      <td>72857142.0</td>\n",
       "      <td>9.0</td>\n",
       "      <td>1</td>\n",
       "      <td>...</td>\n",
       "      <td>0</td>\n",
       "      <td>1</td>\n",
       "      <td>0</td>\n",
       "      <td>1</td>\n",
       "      <td>1</td>\n",
       "      <td>0</td>\n",
       "      <td>1</td>\n",
       "      <td>0</td>\n",
       "      <td>1</td>\n",
       "      <td>0</td>\n",
       "    </tr>\n",
       "    <tr>\n",
       "      <th>3</th>\n",
       "      <td>65.0</td>\n",
       "      <td>36.400540</td>\n",
       "      <td>59.388382</td>\n",
       "      <td>6.0</td>\n",
       "      <td>4.0</td>\n",
       "      <td>1.0</td>\n",
       "      <td>870000000</td>\n",
       "      <td>13384615.0</td>\n",
       "      <td>12.0</td>\n",
       "      <td>1</td>\n",
       "      <td>...</td>\n",
       "      <td>1</td>\n",
       "      <td>0</td>\n",
       "      <td>1</td>\n",
       "      <td>0</td>\n",
       "      <td>1</td>\n",
       "      <td>0</td>\n",
       "      <td>1</td>\n",
       "      <td>0</td>\n",
       "      <td>1</td>\n",
       "      <td>0</td>\n",
       "    </tr>\n",
       "    <tr>\n",
       "      <th>4</th>\n",
       "      <td>200.0</td>\n",
       "      <td>36.373776</td>\n",
       "      <td>59.475820</td>\n",
       "      <td>0.0</td>\n",
       "      <td>0.0</td>\n",
       "      <td>3.0</td>\n",
       "      <td>5350000000</td>\n",
       "      <td>26750000.0</td>\n",
       "      <td>12.0</td>\n",
       "      <td>1</td>\n",
       "      <td>...</td>\n",
       "      <td>0</td>\n",
       "      <td>1</td>\n",
       "      <td>0</td>\n",
       "      <td>1</td>\n",
       "      <td>0</td>\n",
       "      <td>1</td>\n",
       "      <td>1</td>\n",
       "      <td>0</td>\n",
       "      <td>1</td>\n",
       "      <td>0</td>\n",
       "    </tr>\n",
       "    <tr>\n",
       "      <th>...</th>\n",
       "      <td>...</td>\n",
       "      <td>...</td>\n",
       "      <td>...</td>\n",
       "      <td>...</td>\n",
       "      <td>...</td>\n",
       "      <td>...</td>\n",
       "      <td>...</td>\n",
       "      <td>...</td>\n",
       "      <td>...</td>\n",
       "      <td>...</td>\n",
       "      <td>...</td>\n",
       "      <td>...</td>\n",
       "      <td>...</td>\n",
       "      <td>...</td>\n",
       "      <td>...</td>\n",
       "      <td>...</td>\n",
       "      <td>...</td>\n",
       "      <td>...</td>\n",
       "      <td>...</td>\n",
       "      <td>...</td>\n",
       "      <td>...</td>\n",
       "    </tr>\n",
       "    <tr>\n",
       "      <th>46045</th>\n",
       "      <td>110.0</td>\n",
       "      <td>36.328550</td>\n",
       "      <td>59.513390</td>\n",
       "      <td>4.0</td>\n",
       "      <td>4.0</td>\n",
       "      <td>2.0</td>\n",
       "      <td>5100000000</td>\n",
       "      <td>46363636.0</td>\n",
       "      <td>11.0</td>\n",
       "      <td>1</td>\n",
       "      <td>...</td>\n",
       "      <td>0</td>\n",
       "      <td>1</td>\n",
       "      <td>0</td>\n",
       "      <td>1</td>\n",
       "      <td>1</td>\n",
       "      <td>0</td>\n",
       "      <td>1</td>\n",
       "      <td>0</td>\n",
       "      <td>1</td>\n",
       "      <td>0</td>\n",
       "    </tr>\n",
       "    <tr>\n",
       "      <th>46046</th>\n",
       "      <td>110.0</td>\n",
       "      <td>36.371452</td>\n",
       "      <td>59.484620</td>\n",
       "      <td>4.0</td>\n",
       "      <td>3.0</td>\n",
       "      <td>2.0</td>\n",
       "      <td>4100000000</td>\n",
       "      <td>37272727.0</td>\n",
       "      <td>12.0</td>\n",
       "      <td>1</td>\n",
       "      <td>...</td>\n",
       "      <td>0</td>\n",
       "      <td>1</td>\n",
       "      <td>0</td>\n",
       "      <td>1</td>\n",
       "      <td>1</td>\n",
       "      <td>0</td>\n",
       "      <td>1</td>\n",
       "      <td>0</td>\n",
       "      <td>1</td>\n",
       "      <td>0</td>\n",
       "    </tr>\n",
       "    <tr>\n",
       "      <th>46047</th>\n",
       "      <td>140.0</td>\n",
       "      <td>36.319780</td>\n",
       "      <td>59.494770</td>\n",
       "      <td>15.0</td>\n",
       "      <td>1.0</td>\n",
       "      <td>2.0</td>\n",
       "      <td>5500000000</td>\n",
       "      <td>39285714.0</td>\n",
       "      <td>9.0</td>\n",
       "      <td>1</td>\n",
       "      <td>...</td>\n",
       "      <td>0</td>\n",
       "      <td>1</td>\n",
       "      <td>0</td>\n",
       "      <td>1</td>\n",
       "      <td>1</td>\n",
       "      <td>0</td>\n",
       "      <td>1</td>\n",
       "      <td>0</td>\n",
       "      <td>0</td>\n",
       "      <td>1</td>\n",
       "    </tr>\n",
       "    <tr>\n",
       "      <th>46048</th>\n",
       "      <td>130.0</td>\n",
       "      <td>36.349873</td>\n",
       "      <td>59.488426</td>\n",
       "      <td>4.0</td>\n",
       "      <td>2.0</td>\n",
       "      <td>3.0</td>\n",
       "      <td>4100000000</td>\n",
       "      <td>31538461.0</td>\n",
       "      <td>10.0</td>\n",
       "      <td>1</td>\n",
       "      <td>...</td>\n",
       "      <td>0</td>\n",
       "      <td>1</td>\n",
       "      <td>0</td>\n",
       "      <td>1</td>\n",
       "      <td>1</td>\n",
       "      <td>0</td>\n",
       "      <td>1</td>\n",
       "      <td>0</td>\n",
       "      <td>0</td>\n",
       "      <td>1</td>\n",
       "    </tr>\n",
       "    <tr>\n",
       "      <th>46049</th>\n",
       "      <td>85.0</td>\n",
       "      <td>36.327670</td>\n",
       "      <td>59.548380</td>\n",
       "      <td>13.0</td>\n",
       "      <td>3.0</td>\n",
       "      <td>2.0</td>\n",
       "      <td>3200000000</td>\n",
       "      <td>37647058.0</td>\n",
       "      <td>2.0</td>\n",
       "      <td>1</td>\n",
       "      <td>...</td>\n",
       "      <td>0</td>\n",
       "      <td>1</td>\n",
       "      <td>0</td>\n",
       "      <td>1</td>\n",
       "      <td>1</td>\n",
       "      <td>0</td>\n",
       "      <td>1</td>\n",
       "      <td>0</td>\n",
       "      <td>1</td>\n",
       "      <td>0</td>\n",
       "    </tr>\n",
       "  </tbody>\n",
       "</table>\n",
       "<p>46050 rows × 317 columns</p>\n",
       "</div>"
      ],
      "text/plain": [
       "        area   latitude  longitude   age  floor  bedrooms        price  \\\n",
       "0       73.0  36.373776  59.475820  11.0    1.0       2.0   2200000000   \n",
       "1      100.0  36.327670  59.548380   7.0    1.0       2.0   4800000000   \n",
       "2      140.0  36.310605  59.504477   0.0    2.0       2.0  10200000000   \n",
       "3       65.0  36.400540  59.388382   6.0    4.0       1.0    870000000   \n",
       "4      200.0  36.373776  59.475820   0.0    0.0       3.0   5350000000   \n",
       "...      ...        ...        ...   ...    ...       ...          ...   \n",
       "46045  110.0  36.328550  59.513390   4.0    4.0       2.0   5100000000   \n",
       "46046  110.0  36.371452  59.484620   4.0    3.0       2.0   4100000000   \n",
       "46047  140.0  36.319780  59.494770  15.0    1.0       2.0   5500000000   \n",
       "46048  130.0  36.349873  59.488426   4.0    2.0       3.0   4100000000   \n",
       "46049   85.0  36.327670  59.548380  13.0    3.0       2.0   3200000000   \n",
       "\n",
       "         sqmprice  zone  type_فروش آپارتمان  ...  parking_False  parking_True  \\\n",
       "0      30136986.0  12.0                   1  ...              0             1   \n",
       "1      48000000.0   2.0                   1  ...              0             1   \n",
       "2      72857142.0   9.0                   1  ...              0             1   \n",
       "3      13384615.0  12.0                   1  ...              1             0   \n",
       "4      26750000.0  12.0                   1  ...              0             1   \n",
       "...           ...   ...                 ...  ...            ...           ...   \n",
       "46045  46363636.0  11.0                   1  ...              0             1   \n",
       "46046  37272727.0  12.0                   1  ...              0             1   \n",
       "46047  39285714.0   9.0                   1  ...              0             1   \n",
       "46048  31538461.0  10.0                   1  ...              0             1   \n",
       "46049  37647058.0   2.0                   1  ...              0             1   \n",
       "\n",
       "       storage_False  storage_True  yard_False  yard_True  balcony_False  \\\n",
       "0                  0             1           1          0              1   \n",
       "1                  0             1           0          1              1   \n",
       "2                  0             1           1          0              1   \n",
       "3                  1             0           1          0              1   \n",
       "4                  0             1           0          1              1   \n",
       "...              ...           ...         ...        ...            ...   \n",
       "46045              0             1           1          0              1   \n",
       "46046              0             1           1          0              1   \n",
       "46047              0             1           1          0              1   \n",
       "46048              0             1           1          0              1   \n",
       "46049              0             1           1          0              1   \n",
       "\n",
       "       balcony_True  reconstructed_False  reconstructed_True  \n",
       "0                 0                    1                   0  \n",
       "1                 0                    1                   0  \n",
       "2                 0                    1                   0  \n",
       "3                 0                    1                   0  \n",
       "4                 0                    1                   0  \n",
       "...             ...                  ...                 ...  \n",
       "46045             0                    1                   0  \n",
       "46046             0                    1                   0  \n",
       "46047             0                    0                   1  \n",
       "46048             0                    0                   1  \n",
       "46049             0                    1                   0  \n",
       "\n",
       "[46050 rows x 317 columns]"
      ]
     },
     "execution_count": 117,
     "metadata": {},
     "output_type": "execute_result"
    }
   ],
   "source": [
    "data"
   ]
  },
  {
   "cell_type": "code",
   "execution_count": null,
   "metadata": {},
   "outputs": [],
   "source": [
    "x = data.drop('price', axis=1)\n",
    "y = data['price']\n",
    "sss = StratifiedShuffleSplit(n_splits=10, test_size=0.2, random_state=0)"
   ]
  },
  {
   "cell_type": "code",
   "execution_count": null,
   "metadata": {},
   "outputs": [],
   "source": [
    "x = x.replace([np.inf, -np.inf], np.finfo('float64').max)\n",
    "y = y.replace([np.inf, -np.inf], np.finfo('float64').max)"
   ]
  },
  {
   "cell_type": "code",
   "execution_count": null,
   "metadata": {},
   "outputs": [],
   "source": [
    "# train_index, test_index = next(sss.split(x, y))"
   ]
  },
  {
   "cell_type": "markdown",
   "metadata": {},
   "source": [
    "This error would be caused"
   ]
  },
  {
   "cell_type": "code",
   "execution_count": null,
   "metadata": {},
   "outputs": [
    {
     "data": {
      "text/plain": [
       "'\\n---------------------------------------------------------------------------\\nValueError                                Traceback (most recent call last)\\nCell In[122], line 1\\n----> 1 train_index, test_index = next(sss.split(x, y))\\n\\nFile ~\\\\AppData\\\\Roaming\\\\Python\\\\Python311\\\\site-packages\\\\sklearn\\\\model_selection\\\\_split.py:1726, in BaseShuffleSplit.split(self, X, y, groups)\\n   1696 \"\"\"Generate indices to split data into training and test set.\\n   1697 \\n   1698 Parameters\\n   (...)\\n   1723 to an integer.\\n   1724 \"\"\"\\n   1725 X, y, groups = indexable(X, y, groups)\\n-> 1726 for train, test in self._iter_indices(X, y, groups):\\n   1727     yield train, test\\n\\nFile ~\\\\AppData\\\\Roaming\\\\Python\\\\Python311\\\\site-packages\\\\sklearn\\\\model_selection\\\\_split.py:2115, in StratifiedShuffleSplit._iter_indices(self, X, y, groups)\\n   2113 class_counts = np.bincount(y_indices)\\n   2114 if np.min(class_counts) < 2:\\n-> 2115     raise ValueError(\\n   2116         \"The least populated class in y has only 1\"\\n   2117         \" member, which is too few. The minimum\"\\n   2118         \" number of groups for any class cannot\"\\n   2119         \" be less than 2.\"\\n   2120     )\\n...\\n   2124         \"The train_size = %d should be greater or \"\\n   2125         \"equal to the number of classes = %d\" % (n_train, n_classes)\\n   2126     )\\n\\nValueError: The least populated class in y has only 1 member, which is too few. The minimum number of groups for any class cannot be less than 2.\\nOutput is truncated. View as a scrollable element or open in a text editor. Adjust cell output settings...'"
      ]
     },
     "execution_count": 121,
     "metadata": {},
     "output_type": "execute_result"
    }
   ],
   "source": [
    "'''\n",
    "---------------------------------------------------------------------------\n",
    "ValueError                                Traceback (most recent call last)\n",
    "Cell In[122], line 1\n",
    "----> 1 train_index, test_index = next(sss.split(x, y))\n",
    "\n",
    "File ~\\AppData\\Roaming\\Python\\Python311\\site-packages\\sklearn\\model_selection\\_split.py:1726, in BaseShuffleSplit.split(self, X, y, groups)\n",
    "   1696 \"\"\"Generate indices to split data into training and test set.\n",
    "   1697 \n",
    "   1698 Parameters\n",
    "   (...)\n",
    "   1723 to an integer.\n",
    "   1724 \"\"\"\n",
    "   1725 X, y, groups = indexable(X, y, groups)\n",
    "-> 1726 for train, test in self._iter_indices(X, y, groups):\n",
    "   1727     yield train, test\n",
    "\n",
    "File ~\\AppData\\Roaming\\Python\\Python311\\site-packages\\sklearn\\model_selection\\_split.py:2115, in StratifiedShuffleSplit._iter_indices(self, X, y, groups)\n",
    "   2113 class_counts = np.bincount(y_indices)\n",
    "   2114 if np.min(class_counts) < 2:\n",
    "-> 2115     raise ValueError(\n",
    "   2116         \"The least populated class in y has only 1\"\n",
    "   2117         \" member, which is too few. The minimum\"\n",
    "   2118         \" number of groups for any class cannot\"\n",
    "   2119         \" be less than 2.\"\n",
    "   2120     )\n",
    "...\n",
    "   2124         \"The train_size = %d should be greater or \"\n",
    "   2125         \"equal to the number of classes = %d\" % (n_train, n_classes)\n",
    "   2126     )\n",
    "\n",
    "ValueError: The least populated class in y has only 1 member, which is too few. The minimum number of groups for any class cannot be less than 2.\n",
    "Output is truncated. View as a scrollable element or open in a text editor. Adjust cell output settings...'''"
   ]
  },
  {
   "cell_type": "markdown",
   "metadata": {},
   "source": [
    "###### This error took me a LONG time to figure out"
   ]
  },
  {
   "cell_type": "markdown",
   "metadata": {},
   "source": [
    "Removing less than 1 populated classes"
   ]
  },
  {
   "cell_type": "code",
   "execution_count": null,
   "metadata": {},
   "outputs": [],
   "source": [
    "values_list = y.value_counts()"
   ]
  },
  {
   "cell_type": "code",
   "execution_count": null,
   "metadata": {},
   "outputs": [
    {
     "data": {
      "text/plain": [
       "Int64Index([   685000000,   1444000000,    485000000,   5846000000,\n",
       "              7672500000,    635000000,   2624000000,    219000000,\n",
       "              1528000000,   4085000000,\n",
       "            ...\n",
       "              5025000000,   2555000000,   7899000000,  15180000000,\n",
       "            103000000000,   4307000000,   6314000000,   7670000000,\n",
       "             33600000000,  35700000000],\n",
       "           dtype='int64', length=1349)"
      ]
     },
     "execution_count": 123,
     "metadata": {},
     "output_type": "execute_result"
    }
   ],
   "source": [
    "lesser_values = values_list.loc[values_list == 1].index\n",
    "lesser_values"
   ]
  },
  {
   "cell_type": "code",
   "execution_count": null,
   "metadata": {},
   "outputs": [],
   "source": [
    "# Doing the removal for x so both x and y lengths are equal\n",
    "for num in lesser_values:\n",
    "    x.drop(y[y == num].index, inplace=True, axis=0)  \n",
    "    \n",
    "for num in lesser_values:\n",
    "    y.drop(y[y == num].index, inplace=True, axis=0)  "
   ]
  },
  {
   "cell_type": "code",
   "execution_count": null,
   "metadata": {},
   "outputs": [
    {
     "name": "stdout",
     "output_type": "stream",
     "text": [
      "<class 'pandas.core.series.Series'>\n",
      "Int64Index: 44701 entries, 0 to 46049\n",
      "Series name: price\n",
      "Non-Null Count  Dtype\n",
      "--------------  -----\n",
      "44701 non-null  int64\n",
      "dtypes: int64(1)\n",
      "memory usage: 698.5 KB\n"
     ]
    }
   ],
   "source": [
    "y.info()"
   ]
  },
  {
   "cell_type": "code",
   "execution_count": null,
   "metadata": {},
   "outputs": [
    {
     "name": "stdout",
     "output_type": "stream",
     "text": [
      "<class 'pandas.core.frame.DataFrame'>\n",
      "Int64Index: 44701 entries, 0 to 46049\n",
      "Columns: 316 entries, area to reconstructed_True\n",
      "dtypes: float64(8), int64(308)\n",
      "memory usage: 108.1 MB\n"
     ]
    }
   ],
   "source": [
    "x.info()"
   ]
  },
  {
   "cell_type": "markdown",
   "metadata": {},
   "source": [
    "Both lengths are now equal "
   ]
  },
  {
   "cell_type": "code",
   "execution_count": null,
   "metadata": {},
   "outputs": [],
   "source": [
    "train_index, test_index = next(sss.split(x, y))"
   ]
  },
  {
   "cell_type": "code",
   "execution_count": null,
   "metadata": {},
   "outputs": [],
   "source": [
    "\n",
    "X_train = data.iloc[test_index].drop('price', axis=1)\n",
    "Y_train = data.iloc[test_index].price\n",
    "X_test = data.iloc[test_index].drop('price', axis=1)\n",
    "Y_test = data.iloc[test_index].price"
   ]
  },
  {
   "cell_type": "markdown",
   "metadata": {},
   "source": [
    "### Scaling"
   ]
  },
  {
   "cell_type": "code",
   "execution_count": null,
   "metadata": {},
   "outputs": [],
   "source": [
    "cols = X_train.columns\n",
    "scaler = MinMaxScaler()"
   ]
  },
  {
   "cell_type": "code",
   "execution_count": null,
   "metadata": {},
   "outputs": [],
   "source": [
    "X_train = scaler.fit_transform(X_train)"
   ]
  },
  {
   "cell_type": "code",
   "execution_count": null,
   "metadata": {},
   "outputs": [],
   "source": [
    "X_test = scaler.transform(X_test)"
   ]
  },
  {
   "cell_type": "code",
   "execution_count": null,
   "metadata": {},
   "outputs": [],
   "source": [
    "X_test  = pd.DataFrame(X_test, columns=[cols])\n",
    "X_train = pd.DataFrame(X_train, columns=[cols])"
   ]
  },
  {
   "cell_type": "markdown",
   "metadata": {},
   "source": [
    "### Correlations"
   ]
  },
  {
   "cell_type": "code",
   "execution_count": null,
   "metadata": {},
   "outputs": [],
   "source": [
    "feature_name = x.columns.values"
   ]
  },
  {
   "cell_type": "code",
   "execution_count": null,
   "metadata": {},
   "outputs": [
    {
     "data": {
      "text/html": [
       "<style>#sk-container-id-1 {color: black;}#sk-container-id-1 pre{padding: 0;}#sk-container-id-1 div.sk-toggleable {background-color: white;}#sk-container-id-1 label.sk-toggleable__label {cursor: pointer;display: block;width: 100%;margin-bottom: 0;padding: 0.3em;box-sizing: border-box;text-align: center;}#sk-container-id-1 label.sk-toggleable__label-arrow:before {content: \"▸\";float: left;margin-right: 0.25em;color: #696969;}#sk-container-id-1 label.sk-toggleable__label-arrow:hover:before {color: black;}#sk-container-id-1 div.sk-estimator:hover label.sk-toggleable__label-arrow:before {color: black;}#sk-container-id-1 div.sk-toggleable__content {max-height: 0;max-width: 0;overflow: hidden;text-align: left;background-color: #f0f8ff;}#sk-container-id-1 div.sk-toggleable__content pre {margin: 0.2em;color: black;border-radius: 0.25em;background-color: #f0f8ff;}#sk-container-id-1 input.sk-toggleable__control:checked~div.sk-toggleable__content {max-height: 200px;max-width: 100%;overflow: auto;}#sk-container-id-1 input.sk-toggleable__control:checked~label.sk-toggleable__label-arrow:before {content: \"▾\";}#sk-container-id-1 div.sk-estimator input.sk-toggleable__control:checked~label.sk-toggleable__label {background-color: #d4ebff;}#sk-container-id-1 div.sk-label input.sk-toggleable__control:checked~label.sk-toggleable__label {background-color: #d4ebff;}#sk-container-id-1 input.sk-hidden--visually {border: 0;clip: rect(1px 1px 1px 1px);clip: rect(1px, 1px, 1px, 1px);height: 1px;margin: -1px;overflow: hidden;padding: 0;position: absolute;width: 1px;}#sk-container-id-1 div.sk-estimator {font-family: monospace;background-color: #f0f8ff;border: 1px dotted black;border-radius: 0.25em;box-sizing: border-box;margin-bottom: 0.5em;}#sk-container-id-1 div.sk-estimator:hover {background-color: #d4ebff;}#sk-container-id-1 div.sk-parallel-item::after {content: \"\";width: 100%;border-bottom: 1px solid gray;flex-grow: 1;}#sk-container-id-1 div.sk-label:hover label.sk-toggleable__label {background-color: #d4ebff;}#sk-container-id-1 div.sk-serial::before {content: \"\";position: absolute;border-left: 1px solid gray;box-sizing: border-box;top: 0;bottom: 0;left: 50%;z-index: 0;}#sk-container-id-1 div.sk-serial {display: flex;flex-direction: column;align-items: center;background-color: white;padding-right: 0.2em;padding-left: 0.2em;position: relative;}#sk-container-id-1 div.sk-item {position: relative;z-index: 1;}#sk-container-id-1 div.sk-parallel {display: flex;align-items: stretch;justify-content: center;background-color: white;position: relative;}#sk-container-id-1 div.sk-item::before, #sk-container-id-1 div.sk-parallel-item::before {content: \"\";position: absolute;border-left: 1px solid gray;box-sizing: border-box;top: 0;bottom: 0;left: 50%;z-index: -1;}#sk-container-id-1 div.sk-parallel-item {display: flex;flex-direction: column;z-index: 1;position: relative;background-color: white;}#sk-container-id-1 div.sk-parallel-item:first-child::after {align-self: flex-end;width: 50%;}#sk-container-id-1 div.sk-parallel-item:last-child::after {align-self: flex-start;width: 50%;}#sk-container-id-1 div.sk-parallel-item:only-child::after {width: 0;}#sk-container-id-1 div.sk-dashed-wrapped {border: 1px dashed gray;margin: 0 0.4em 0.5em 0.4em;box-sizing: border-box;padding-bottom: 0.4em;background-color: white;}#sk-container-id-1 div.sk-label label {font-family: monospace;font-weight: bold;display: inline-block;line-height: 1.2em;}#sk-container-id-1 div.sk-label-container {text-align: center;}#sk-container-id-1 div.sk-container {/* jupyter's `normalize.less` sets `[hidden] { display: none; }` but bootstrap.min.css set `[hidden] { display: none !important; }` so we also need the `!important` here to be able to override the default hidden behavior on the sphinx rendered scikit-learn.org. See: https://github.com/scikit-learn/scikit-learn/issues/21755 */display: inline-block !important;position: relative;}#sk-container-id-1 div.sk-text-repr-fallback {display: none;}</style><div id=\"sk-container-id-1\" class=\"sk-top-container\"><div class=\"sk-text-repr-fallback\"><pre>ExtraTreesRegressor(max_depth=30, max_features=0.5, n_estimators=30, n_jobs=-1,\n",
       "                    random_state=0)</pre><b>In a Jupyter environment, please rerun this cell to show the HTML representation or trust the notebook. <br />On GitHub, the HTML representation is unable to render, please try loading this page with nbviewer.org.</b></div><div class=\"sk-container\" hidden><div class=\"sk-item\"><div class=\"sk-estimator sk-toggleable\"><input class=\"sk-toggleable__control sk-hidden--visually\" id=\"sk-estimator-id-1\" type=\"checkbox\" checked><label for=\"sk-estimator-id-1\" class=\"sk-toggleable__label sk-toggleable__label-arrow\">ExtraTreesRegressor</label><div class=\"sk-toggleable__content\"><pre>ExtraTreesRegressor(max_depth=30, max_features=0.5, n_estimators=30, n_jobs=-1,\n",
       "                    random_state=0)</pre></div></div></div></div></div>"
      ],
      "text/plain": [
       "ExtraTreesRegressor(max_depth=30, max_features=0.5, n_estimators=30, n_jobs=-1,\n",
       "                    random_state=0)"
      ]
     },
     "execution_count": 134,
     "metadata": {},
     "output_type": "execute_result"
    }
   ],
   "source": [
    "model = ensemble.ExtraTreesRegressor(n_estimators=30, max_depth=30, max_features=.5, n_jobs=-1, random_state=0)\n",
    "model.fit(X_train, Y_train.to_numpy())"
   ]
  },
  {
   "cell_type": "code",
   "execution_count": null,
   "metadata": {},
   "outputs": [],
   "source": [
    "importance = model.feature_importances_\n",
    "std = np.std([tree.feature_importances_ for tree in model.estimators_], axis=0)\n",
    "indices = np.argsort(importance)[::-1][:20]"
   ]
  },
  {
   "cell_type": "code",
   "execution_count": null,
   "metadata": {},
   "outputs": [
    {
     "data": {
      "text/plain": [
       "(-1.0, 20.0)"
      ]
     },
     "execution_count": 136,
     "metadata": {},
     "output_type": "execute_result"
    },
    {
     "data": {
      "image/png": "[encoded data removed]",
      "text/plain": [
       "<Figure size 2000x700 with 1 Axes>"
      ]
     },
     "metadata": {},
     "output_type": "display_data"
    }
   ],
   "source": [
    "plt.figure(figsize=(20, 7))\n",
    "plt.bar(range(len(indices)), importance[indices], yerr=std[indices], align='center')\n",
    "plt.xticks(range(len(indices)), feature_name[indices], rotation='vertical')\n",
    "plt.xlim([-1, len(indices)])"
   ]
  },
  {
   "cell_type": "markdown",
   "metadata": {},
   "source": [
    "### Feature selection"
   ]
  },
  {
   "cell_type": "code",
   "execution_count": null,
   "metadata": {},
   "outputs": [
    {
     "name": "stdout",
     "output_type": "stream",
     "text": [
      "('area',)\n",
      "('age',)\n",
      "('bedrooms',)\n",
      "('sqmprice',)\n",
      "('zone',)\n",
      "('type_فروش آپارتمان',)\n",
      "('type_فروش ویلایی',)\n",
      "('neighborhood_ آزاد شهر ',)\n",
      "('neighborhood_ الهیه ',)\n",
      "('neighborhood_ دانشجو ',)\n",
      "('neighborhood_ قاسم آباد ',)\n",
      "('neighborhood_17 شهریور ',)\n",
      "('neighborhood_آب و برق  ',)\n",
      "('neighborhood_آبکوه ',)\n",
      "('neighborhood_احمد آباد ',)\n",
      "('neighborhood_بعثت ',)\n",
      "('neighborhood_حله طلاب ',)\n",
      "('neighborhood_رضاشهر ',)\n",
      "('neighborhood_سجاد ',)\n",
      "('neighborhood_سیدی ',)\n",
      "('neighborhood_شهدا ',)\n",
      "('neighborhood_فرامرز عباسی ',)\n",
      "('neighborhood_مصلی ',)\n",
      "('neighborhood_هدایت ',)\n",
      "('neighborhood_هنرستان ',)\n",
      "('neighborhood_چهارراه لشکر ',)\n",
      "('neighborhood_کوهسنگی ',)\n",
      "('neighborhood_کوی امیرالمومنین ',)\n",
      "('neighborhood_گاز ',)\n",
      "('street_ آیت الله بهجت',)\n",
      "('street_ کاشانی',)\n",
      "('street_آبکوه',)\n",
      "('street_آخوند خراسانی',)\n",
      "('street_آزادشهر',)\n",
      "('street_آزاده',)\n",
      "('street_آموزگار فرد تا 37 و زوج تا 40',)\n",
      "('street_آموزگار(فرد از 39 زوج از42)',)\n",
      "('street_آیت الله دستغیب',)\n",
      "('street_ابرار',)\n",
      "('street_ابوذر غفاری',)\n",
      "('street_ابوطالب',)\n",
      "('street_ابونصر',)\n",
      "('street_احمدآباد',)\n",
      "('street_ادیب',)\n",
      "('street_ارغوان',)\n",
      "('street_استاد یوسفی',)\n",
      "('street_اقبال لاهوری',)\n",
      "('street_اقدسیه',)\n",
      "('street_الهیه',)\n",
      "('street_امام رضا',)\n",
      "('street_امامت',)\n",
      "('street_امامیه',)\n",
      "('street_امیریه',)\n",
      "('street_اندیشه',)\n",
      "('street_ایثار',)\n",
      "('street_ایثارگران',)\n",
      "('street_ایمان',)\n",
      "('street_باهنر',)\n",
      "('street_برونسی',)\n",
      "('street_بلوار امام خمینی',)\n",
      "('street_بنفشه(سجاد)',)\n",
      "('street_بهارستان',)\n",
      "('street_بهشتی',)\n",
      "('street_تربیت',)\n",
      "('street_تلاش',)\n",
      "('street_تلگرد',)\n",
      "('street_توس',)\n",
      "('street_جانباز',)\n",
      "('street_جهان آرا',)\n",
      "('street_حجاب',)\n",
      "('street_حرعاملی',)\n",
      "('street_حسابی',)\n",
      "('street_حسابی شمالی',)\n",
      "('street_حکیم نظامی',)\n",
      "('street_خاقانی',)\n",
      "('street_خیام شمالی',)\n",
      "('street_دانش',)\n",
      "('street_دانش آموز',)\n",
      "('street_دانشجو',)\n",
      "('street_دانشسرا',)\n",
      "('street_دعبل خزایی',)\n",
      "('street_دلاوران',)\n",
      "('street_دندانپزشکان',)\n",
      "('street_رادان',)\n",
      "('street_رازی',)\n",
      "('street_رازی(قاسم آباد)',)\n",
      "('street_راهنمایی',)\n",
      "('street_رحمانیه',)\n",
      "('street_رسالت',)\n",
      "('street_رستگاری',)\n",
      "('street_رضا',)\n",
      "('street_رضاشهر',)\n",
      "('street_رضوی',)\n",
      "('street_رودکی',)\n",
      "('street_ستاری',)\n",
      "('street_سجاد',)\n",
      "('street_سجادیه',)\n",
      "('street_سرافرازان',)\n",
      "('street_سرشور',)\n",
      "('street_سروش',)\n",
      "('street_سعدی',)\n",
      "('street_سناباد',)\n",
      "('street_سیدرضی',)\n",
      "('street_شجریان (ارشاد سابق)',)\n",
      "('street_شریعتی',)\n",
      "('street_شفا',)\n",
      "('street_شهرستانی',)\n",
      "('street_شهرک ابوذر',)\n",
      "('street_شهید رفیعی',)\n",
      "('street_شهید قانع',)\n",
      "('street_شیرودی',)\n",
      "('street_صابر',)\n",
      "('street_صبا(شهید اصلانی)',)\n",
      "('street_صدف',)\n",
      "('street_صیاد شیرازی',)\n",
      "('street_طبرسی جنوبی',)\n",
      "('street_طبرسی شمالی',)\n",
      "('street_عبادی',)\n",
      "('street_عبدالمطلب',)\n",
      "('street_عصمتیه',)\n",
      "('street_علیمردانی',)\n",
      "('street_عمادخراسانی(حافظیه)',)\n",
      "('street_عنصری',)\n",
      "('street_فارغ التحصیلان',)\n",
      "('street_فاطمیه',)\n",
      "('street_فدائیان اسلام',)\n",
      "('street_فدک',)\n",
      "('street_فرامرز عباسی',)\n",
      "('street_فرهاد',)\n",
      "('street_فرهنگ',)\n",
      "('street_فلاحی',)\n",
      "('street_فلسطین',)\n",
      "('street_فکوری زوج(از20تا52)فرد(17تا49)',)\n",
      "('street_قاسم آباد',)\n",
      "('street_قاضی طباطبایی',)\n",
      "('street_لادن',)\n",
      "('street_لاله(عبدلمطلب)',)\n",
      "('street_مجد',)\n",
      "('street_مجیدیه',)\n",
      "('street_محمد آباد',)\n",
      "('street_محمدیه',)\n",
      "('street_مروارید',)\n",
      "('street_مشکینی',)\n",
      "('street_مصلی',)\n",
      "('street_مطهری جنوبی',)\n",
      "('street_مطهری شمالی',)\n",
      "('street_مفتح',)\n",
      "('street_ملک اباد',)\n",
      "('street_ملک الشعرا بهار',)\n",
      "('street_مهدی(فرامرز)\\r\\n',)\n",
      "('street_مهران فرد از 21  و زوج از 22 ',)\n",
      "('street_موسوی قوچانی',)\n",
      "('street_میدان عسگریه',)\n",
      "('street_نقویه',)\n",
      "('street_نماز فرد از 27 به بعد زوج از 26 به بعد',)\n",
      "('street_نمایشگاه',)\n",
      "('street_نوزده بهمن',)\n",
      "('street_نوفل لوشاتو',)\n",
      "('street_نیلوفر',)\n",
      "('street_هاشمی رفسنجانی زوج(میثاق)',)\n",
      "('street_هاشمی مهنه',)\n",
      "('street_هاشمی نژاد',)\n",
      "('street_هاشمیه',)\n",
      "('street_هدایت',)\n",
      "('street_هفت تیر',)\n",
      "('street_هفده شهریور',)\n",
      "('street_هنرستان',)\n",
      "('street_هنرور',)\n",
      "('street_وحید',)\n",
      "('street_ولیعصر',)\n",
      "('street_وکیل آباد (فرد تا 27)',)\n",
      "('street_وکیل آباد زوج از 26 تا آخر',)\n",
      "('street_وکیل آباد فرداز 27',)\n",
      "('street_پاسداران',)\n",
      "('street_پروین اعتصامی',)\n",
      "('street_پیروزی فرد (از 1تا31 و زوج2تا30)',)\n",
      "('street_کارمندان',)\n",
      "('street_کامیاب',)\n",
      "('street_کریمی',)\n",
      "('street_کلاهدوز',)\n",
      "('street_کوثر جنوبی',)\n",
      "('street_کوثر شمالی',)\n",
      "('street_کوشش',)\n",
      "('street_کوهسنگی',)\n",
      "('street_کوچه چهنو(امام رضا 5)',)\n",
      "('street_کوی امیرالمومنین',)\n",
      "('street_گاز',)\n",
      "('street_یاس(عبدلمطلب)',)\n",
      "('street_یوسفیه',)\n",
      "('elevator_False',)\n",
      "('elevator_True',)\n",
      "('parking_False',)\n",
      "('parking_True',)\n",
      "('storage_False',)\n",
      "('storage_True',)\n",
      "('yard_True',)\n",
      "('balcony_False',)\n",
      "('balcony_True',)\n",
      "('reconstructed_False',)\n",
      "('reconstructed_True',)\n"
     ]
    }
   ],
   "source": [
    "chi2_features = SelectKBest(chi2, k=200)\n",
    "\n",
    "dfscaled = X_train.copy()\n",
    "\n",
    "X_kbest_features = chi2_features.fit_transform(dfscaled, Y_train)\n",
    "chidata = pd.DataFrame(X_kbest_features)\n",
    "\n",
    "chifeatures50 = []\n",
    "\n",
    "for i in chidata.columns:\n",
    "    for j in dfscaled.columns:\n",
    "        if (chidata[i] == dfscaled[j]).sum() == len(chidata):\n",
    "            print(j)\n",
    "            chifeatures50.append(j)"
   ]
  },
  {
   "cell_type": "code",
   "execution_count": null,
   "metadata": {},
   "outputs": [
    {
     "data": {
      "text/plain": [
       "['area',\n",
       " 'bedrooms',\n",
       " 'age',\n",
       " 'floor',\n",
       " 'neighborhood_سجاد ',\n",
       " 'type_فروش آپارتمان',\n",
       " 'type_فروش ویلایی',\n",
       " 'street_امام رضا',\n",
       " 'reconstructed_False',\n",
       " 'street_سجاد',\n",
       " 'longitude',\n",
       " 'latitude',\n",
       " 'reconstructed_True',\n",
       " 'parking_True',\n",
       " 'storage_True',\n",
       " 'parking_False',\n",
       " 'neighborhood_بعثت ',\n",
       " 'street_برونسی',\n",
       " 'street_رضا',\n",
       " 'balcony_True',\n",
       " 'neighborhood_ آزاد شهر ',\n",
       " 'yard_True',\n",
       " 'neighborhood_چهارراه لشکر ',\n",
       " 'zone',\n",
       " 'storage_False',\n",
       " 'neighborhood_آب و برق  ',\n",
       " 'street_احمدآباد',\n",
       " 'elevator_True',\n",
       " 'street_آزادشهر',\n",
       " 'balcony_False',\n",
       " 'elevator_False',\n",
       " 'neighborhood_هنرستان ',\n",
       " 'street_ملک اباد',\n",
       " 'yard_False',\n",
       " 'neighborhood_ الهیه ',\n",
       " 'street_سناباد',\n",
       " 'street_الهیه',\n",
       " 'street_گاز',\n",
       " 'neighborhood_ قاسم آباد ',\n",
       " 'street_هاشمیه',\n",
       " 'street_راهنمایی',\n",
       " 'neighborhood_حله طلاب ',\n",
       " 'street_هنرستان',\n",
       " 'street_باهنر',\n",
       " 'street_کوهسنگی',\n",
       " 'neighborhood_گاز ',\n",
       " 'street_قاسم آباد',\n",
       " 'street_دانشجو',\n",
       " 'street_مفتح',\n",
       " 'street_کوثر جنوبی']"
      ]
     },
     "execution_count": 138,
     "metadata": {},
     "output_type": "execute_result"
    }
   ],
   "source": [
    "indices = np.argsort(importance)[::-1][:50]\n",
    "fimport = list(feature_name[indices])\n",
    "fimport"
   ]
  },
  {
   "cell_type": "markdown",
   "metadata": {},
   "source": [
    "## Training the Model"
   ]
  },
  {
   "cell_type": "code",
   "execution_count": null,
   "metadata": {},
   "outputs": [],
   "source": []
  },
  {
   "cell_type": "markdown",
   "metadata": {},
   "source": [
    "### Model Evaluation Methods"
   ]
  },
  {
   "cell_type": "code",
   "execution_count": null,
   "metadata": {},
   "outputs": [],
   "source": [
    "def evaluate(prediction, real):\n",
    "    accuracy = accuracy_score(prediction, real)\n",
    "    balanced_accuracy = balanced_accuracy_score(prediction, real)\n",
    "    f1 = f1_score(prediction, real, average='macro')\n",
    "    \n",
    "    print(f\"Accuracy: {accuracy_score} \\nBalanced Accuracy: {balanced_accuracy} \\nMacro Average F1: {f1}\")"
   ]
  },
  {
   "cell_type": "code",
   "execution_count": null,
   "metadata": {},
   "outputs": [],
   "source": [
    "def classprecision(y_test, y_pred):\n",
    "    for i in y_test.unique():\n",
    "        realclassi = y_test == i\n",
    "        preclassi  = y_pred == i\n",
    "        precision = precision_score(realclassi, preclassi)\n",
    "        recall = recall_score(realclassi, preclassi)\n",
    "        \n",
    "        print(f\"Class: {i}  Precision: {precision}\")"
   ]
  },
  {
   "cell_type": "markdown",
   "metadata": {},
   "source": [
    "### Decision Tree"
   ]
  },
  {
   "cell_type": "code",
   "execution_count": null,
   "metadata": {},
   "outputs": [],
   "source": [
    "clf = tree.DecisionTreeClassifier(max_depth=40, splitter='best', criterion='entropy', min_samples_leaf=1, max_features='sqrt')\n",
    "\n",
    "clf = clf.fit(X_train, Y_train)"
   ]
  },
  {
   "cell_type": "code",
   "execution_count": null,
   "metadata": {},
   "outputs": [],
   "source": [
    "Y_pred = clf.predict(X_test)\n",
    "\n",
    "# evaluate(Y_test, Y_pred)\n",
    "#classprecision(Y_test, Y_pred)"
   ]
  },
  {
   "cell_type": "markdown",
   "metadata": {},
   "source": [
    "Accuracy is 0.2368073594848  \n",
    "\n",
    "Didn't print class precision because it was too long "
   ]
  },
  {
   "cell_type": "markdown",
   "metadata": {},
   "source": [
    "---"
   ]
  },
  {
   "cell_type": "markdown",
   "metadata": {},
   "source": [
    "#### Hyper parameters"
   ]
  },
  {
   "cell_type": "code",
   "execution_count": null,
   "metadata": {},
   "outputs": [],
   "source": [
    "clf = tree.DecisionTreeClassifier(random_state=1)"
   ]
  },
  {
   "cell_type": "code",
   "execution_count": null,
   "metadata": {},
   "outputs": [],
   "source": [
    "parameters = {\n",
    "    'max_depth': [10, 20, 30, 40, 50, 100, 150, 200, 300],\n",
    "    'splitter' : ['best', 'random'],\n",
    "    'criterion': ['gini', 'entropy', 'log_loss'],\n",
    "    'min_samples_leaf': [0.1, 0.2, 0.3, 0.4, 0.5, 0.6, 0.7, 0.8, 0.9, 1],\n",
    "    'max_features': ['sqrt', 'log2']\n",
    "}"
   ]
  },
  {
   "cell_type": "code",
   "execution_count": null,
   "metadata": {},
   "outputs": [],
   "source": [
    "grid_search = GridSearchCV(estimator=clf, param_grid=parameters, cv=2, n_jobs=-1, verbose=1, scoring='accuracy')"
   ]
  },
  {
   "cell_type": "code",
   "execution_count": null,
   "metadata": {},
   "outputs": [],
   "source": [
    "%%time\n",
    "grid_search.fit(X_train, Y_train)"
   ]
  },
  {
   "cell_type": "code",
   "execution_count": null,
   "metadata": {},
   "outputs": [],
   "source": [
    "score_df = pd.DataFrame(grid_search.cv_results_)\n",
    "score_df.nlargest(5,\"mean_test_score\")"
   ]
  },
  {
   "cell_type": "markdown",
   "metadata": {},
   "source": [
    "### Gaussian Naive Bays"
   ]
  },
  {
   "cell_type": "code",
   "execution_count": null,
   "metadata": {},
   "outputs": [],
   "source": [
    "gnb = GaussianNB()"
   ]
  },
  {
   "cell_type": "code",
   "execution_count": null,
   "metadata": {},
   "outputs": [],
   "source": [
    "gnb.fit(X_train[fimport], Y_train)\n",
    "Y_pred = gnb.predict(X_test[fimport])"
   ]
  },
  {
   "cell_type": "code",
   "execution_count": null,
   "metadata": {},
   "outputs": [],
   "source": [
    "evaluate(Y_test, Y_pred)"
   ]
  },
  {
   "cell_type": "markdown",
   "metadata": {},
   "source": [
    "### MLP"
   ]
  },
  {
   "cell_type": "code",
   "execution_count": null,
   "metadata": {},
   "outputs": [],
   "source": [
    "mlp = MLPClassifier(solver='adam', alpha=1e-5, hidden_layer_sizes=(50, 600),\n",
    "                    random_state=0, verbose=True, learning_rate='adaptive', max_iter=1000)"
   ]
  },
  {
   "cell_type": "code",
   "execution_count": null,
   "metadata": {},
   "outputs": [],
   "source": [
    "mlp.fit(X_train[fimport], Y_train)"
   ]
  },
  {
   "cell_type": "code",
   "execution_count": null,
   "metadata": {},
   "outputs": [],
   "source": [
    "Y_pred = mlp.predict(X_test[fimport])\n",
    "evaluate(Y_test, Y_pred)"
   ]
  },
  {
   "cell_type": "markdown",
   "metadata": {},
   "source": [
    "---"
   ]
  },
  {
   "cell_type": "markdown",
   "metadata": {},
   "source": [
    "#### Hyper parameters"
   ]
  },
  {
   "cell_type": "code",
   "execution_count": null,
   "metadata": {},
   "outputs": [],
   "source": [
    "mlp = MLPClassifier()"
   ]
  },
  {
   "cell_type": "code",
   "execution_count": null,
   "metadata": {},
   "outputs": [],
   "source": [
    "parameters = {\n",
    "    'hidden_layer_sizes': [(50, 50)],\n",
    "    'activation': ['identity', 'logistic', 'tanh', 'relu'],\n",
    "    'solver': ['sgd', 'adam', 'lbfgs'],\n",
    "    'alpha': [1e-5],\n",
    "    'learning_rate': ['adaptive'],\n",
    "    'random_state': [1]\n",
    "}"
   ]
  },
  {
   "cell_type": "code",
   "execution_count": null,
   "metadata": {},
   "outputs": [],
   "source": [
    "grid_search1 = GridSearchCV(estimator=mlp, param_grid=parameters, cv=2, n_jobs=-1, verbose=1, scoring='accuracy')"
   ]
  },
  {
   "cell_type": "code",
   "execution_count": null,
   "metadata": {},
   "outputs": [],
   "source": [
    "%%time\n",
    "grid_search1.fit(X_train[fimport], Y_train)"
   ]
  },
  {
   "cell_type": "code",
   "execution_count": null,
   "metadata": {},
   "outputs": [],
   "source": [
    "score_df = pd.DataFrame(grid_search1.cv_results_)\n",
    "score_df.nlargest(5,\"mean_test_score\")"
   ]
  },
  {
   "cell_type": "markdown",
   "metadata": {},
   "source": [
    "---"
   ]
  },
  {
   "cell_type": "code",
   "execution_count": null,
   "metadata": {},
   "outputs": [],
   "source": [
    "Y_train.to"
   ]
  },
  {
   "cell_type": "markdown",
   "metadata": {},
   "source": [
    "# Getting the output"
   ]
  },
  {
   "cell_type": "code",
   "execution_count": null,
   "metadata": {},
   "outputs": [],
   "source": []
  }
 ],
 "metadata": {
  "kernelspec": {
   "display_name": "base",
   "language": "python",
   "name": "python3"
  },
  "language_info": {
   "codemirror_mode": {
    "name": "ipython",
    "version": 3
   },
   "file_extension": ".py",
   "mimetype": "text/x-python",
   "name": "python",
   "nbconvert_exporter": "python",
   "pygments_lexer": "ipython3",
   "version": "3.11.4"
  },
  "orig_nbformat": 4
 },
 "nbformat": 4,
 "nbformat_minor": 2
}
