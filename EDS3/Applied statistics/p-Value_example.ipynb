{
 "cells": [
  {
   "cell_type": "code",
   "execution_count": 1,
   "metadata": {},
   "outputs": [],
   "source": [
    "from scipy.stats import ttest_1samp"
   ]
  },
  {
   "cell_type": "code",
   "execution_count": 2,
   "metadata": {},
   "outputs": [],
   "source": [
    "# Data\n",
    "x = [21.5, 24.5, 18.5, 17.2, 14.5, 23.2, 22.1, 20.5, 19.4, 18.1, 24.1, 18.5]"
   ]
  },
  {
   "cell_type": "code",
   "execution_count": 5,
   "metadata": {},
   "outputs": [
    {
     "name": "stdout",
     "output_type": "stream",
     "text": [
      "T Statistic =  0.2006562773994862\n",
      "Two-tailed P Value =  0.8446291893053613\n",
      "One-tailed P Value =  0.4223145946526807\n"
     ]
    }
   ],
   "source": [
    "# Calculation\n",
    "tscore, pvalue = ttest_1samp(x, popmean=20)\n",
    "print('T Statistic = ', tscore)\n",
    "print('Two-tailed P Value = ', pvalue)\n",
    "print('One-tailed P Value = ', pvalue/2)"
   ]
  },
  {
   "cell_type": "code",
   "execution_count": 8,
   "metadata": {},
   "outputs": [
    {
     "name": "stdout",
     "output_type": "stream",
     "text": [
      "Claim Rejected\n"
     ]
    }
   ],
   "source": [
    "# Valudating the claim\n",
    "if pvalue/2 < 0.05:\n",
    "    print('Claim Accepted')\n",
    "else:\n",
    "    print('Claim Rejected')"
   ]
  }
 ],
 "metadata": {
  "kernelspec": {
   "display_name": "base",
   "language": "python",
   "name": "python3"
  },
  "language_info": {
   "codemirror_mode": {
    "name": "ipython",
    "version": 3
   },
   "file_extension": ".py",
   "mimetype": "text/x-python",
   "name": "python",
   "nbconvert_exporter": "python",
   "pygments_lexer": "ipython3",
   "version": "3.11.4"
  },
  "orig_nbformat": 4
 },
 "nbformat": 4,
 "nbformat_minor": 2
}
